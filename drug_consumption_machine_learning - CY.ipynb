{
 "cells": [
  {
   "cell_type": "code",
   "execution_count": 1,
   "metadata": {},
   "outputs": [],
   "source": [
    "import pandas as pd\n",
    "import numpy as np\n",
    "import warnings\n",
    "from tensorflow.keras.utils import to_categorical\n",
    "from tensorflow.keras.models import Sequential\n",
    "from tensorflow.keras.layers import Dense\n",
    "\n",
    "# Suppress warnings\n",
    "warnings.filterwarnings(\"ignore\")"
   ]
  },
  {
   "cell_type": "code",
   "execution_count": 2,
   "metadata": {},
   "outputs": [],
   "source": [
    "# Read the data file\n",
    "names = ['id','age', 'gender', 'education', 'country',\n",
    "'ethnicity', 'neuroticism', 'extraversion', 'openness_to_experience',\n",
    "'agreeableness','conscientiousness', 'impulsiveness', 'sensation', 'alcohol', 'amphet',\n",
    "'amyl', 'benzos', 'caff', 'cannabis', 'choc', 'coke', 'crack', 'ecstasy',\n",
    "'heroin', 'ketamine', 'legalh', 'lsd', 'meth', 'mushrooms',\n",
    "'nicotine', 'semer', 'vsa']\n",
    "df = pd.read_csv('drug_consumption.data', names=names)"
   ]
  },
  {
   "cell_type": "code",
   "execution_count": 3,
   "metadata": {},
   "outputs": [
    {
     "data": {
      "text/html": [
       "<div>\n",
       "<style scoped>\n",
       "    .dataframe tbody tr th:only-of-type {\n",
       "        vertical-align: middle;\n",
       "    }\n",
       "\n",
       "    .dataframe tbody tr th {\n",
       "        vertical-align: top;\n",
       "    }\n",
       "\n",
       "    .dataframe thead th {\n",
       "        text-align: right;\n",
       "    }\n",
       "</style>\n",
       "<table border=\"1\" class=\"dataframe\">\n",
       "  <thead>\n",
       "    <tr style=\"text-align: right;\">\n",
       "      <th></th>\n",
       "      <th>id</th>\n",
       "      <th>age</th>\n",
       "      <th>gender</th>\n",
       "      <th>education</th>\n",
       "      <th>country</th>\n",
       "      <th>ethnicity</th>\n",
       "      <th>neuroticism</th>\n",
       "      <th>extraversion</th>\n",
       "      <th>openness_to_experience</th>\n",
       "      <th>agreeableness</th>\n",
       "      <th>...</th>\n",
       "      <th>ecstasy</th>\n",
       "      <th>heroin</th>\n",
       "      <th>ketamine</th>\n",
       "      <th>legalh</th>\n",
       "      <th>lsd</th>\n",
       "      <th>meth</th>\n",
       "      <th>mushrooms</th>\n",
       "      <th>nicotine</th>\n",
       "      <th>semer</th>\n",
       "      <th>vsa</th>\n",
       "    </tr>\n",
       "  </thead>\n",
       "  <tbody>\n",
       "    <tr>\n",
       "      <th>0</th>\n",
       "      <td>1</td>\n",
       "      <td>0.49788</td>\n",
       "      <td>0.48246</td>\n",
       "      <td>-0.05921</td>\n",
       "      <td>0.96082</td>\n",
       "      <td>0.12600</td>\n",
       "      <td>0.31287</td>\n",
       "      <td>-0.57545</td>\n",
       "      <td>-0.58331</td>\n",
       "      <td>-0.91699</td>\n",
       "      <td>...</td>\n",
       "      <td>CL0</td>\n",
       "      <td>CL0</td>\n",
       "      <td>CL0</td>\n",
       "      <td>CL0</td>\n",
       "      <td>CL0</td>\n",
       "      <td>CL0</td>\n",
       "      <td>CL0</td>\n",
       "      <td>CL2</td>\n",
       "      <td>CL0</td>\n",
       "      <td>CL0</td>\n",
       "    </tr>\n",
       "    <tr>\n",
       "      <th>1</th>\n",
       "      <td>2</td>\n",
       "      <td>-0.07854</td>\n",
       "      <td>-0.48246</td>\n",
       "      <td>1.98437</td>\n",
       "      <td>0.96082</td>\n",
       "      <td>-0.31685</td>\n",
       "      <td>-0.67825</td>\n",
       "      <td>1.93886</td>\n",
       "      <td>1.43533</td>\n",
       "      <td>0.76096</td>\n",
       "      <td>...</td>\n",
       "      <td>CL4</td>\n",
       "      <td>CL0</td>\n",
       "      <td>CL2</td>\n",
       "      <td>CL0</td>\n",
       "      <td>CL2</td>\n",
       "      <td>CL3</td>\n",
       "      <td>CL0</td>\n",
       "      <td>CL4</td>\n",
       "      <td>CL0</td>\n",
       "      <td>CL0</td>\n",
       "    </tr>\n",
       "    <tr>\n",
       "      <th>2</th>\n",
       "      <td>3</td>\n",
       "      <td>0.49788</td>\n",
       "      <td>-0.48246</td>\n",
       "      <td>-0.05921</td>\n",
       "      <td>0.96082</td>\n",
       "      <td>-0.31685</td>\n",
       "      <td>-0.46725</td>\n",
       "      <td>0.80523</td>\n",
       "      <td>-0.84732</td>\n",
       "      <td>-1.62090</td>\n",
       "      <td>...</td>\n",
       "      <td>CL0</td>\n",
       "      <td>CL0</td>\n",
       "      <td>CL0</td>\n",
       "      <td>CL0</td>\n",
       "      <td>CL0</td>\n",
       "      <td>CL0</td>\n",
       "      <td>CL1</td>\n",
       "      <td>CL0</td>\n",
       "      <td>CL0</td>\n",
       "      <td>CL0</td>\n",
       "    </tr>\n",
       "    <tr>\n",
       "      <th>3</th>\n",
       "      <td>4</td>\n",
       "      <td>-0.95197</td>\n",
       "      <td>0.48246</td>\n",
       "      <td>1.16365</td>\n",
       "      <td>0.96082</td>\n",
       "      <td>-0.31685</td>\n",
       "      <td>-0.14882</td>\n",
       "      <td>-0.80615</td>\n",
       "      <td>-0.01928</td>\n",
       "      <td>0.59042</td>\n",
       "      <td>...</td>\n",
       "      <td>CL0</td>\n",
       "      <td>CL0</td>\n",
       "      <td>CL2</td>\n",
       "      <td>CL0</td>\n",
       "      <td>CL0</td>\n",
       "      <td>CL0</td>\n",
       "      <td>CL0</td>\n",
       "      <td>CL2</td>\n",
       "      <td>CL0</td>\n",
       "      <td>CL0</td>\n",
       "    </tr>\n",
       "    <tr>\n",
       "      <th>4</th>\n",
       "      <td>5</td>\n",
       "      <td>0.49788</td>\n",
       "      <td>0.48246</td>\n",
       "      <td>1.98437</td>\n",
       "      <td>0.96082</td>\n",
       "      <td>-0.31685</td>\n",
       "      <td>0.73545</td>\n",
       "      <td>-1.63340</td>\n",
       "      <td>-0.45174</td>\n",
       "      <td>-0.30172</td>\n",
       "      <td>...</td>\n",
       "      <td>CL1</td>\n",
       "      <td>CL0</td>\n",
       "      <td>CL0</td>\n",
       "      <td>CL1</td>\n",
       "      <td>CL0</td>\n",
       "      <td>CL0</td>\n",
       "      <td>CL2</td>\n",
       "      <td>CL2</td>\n",
       "      <td>CL0</td>\n",
       "      <td>CL0</td>\n",
       "    </tr>\n",
       "  </tbody>\n",
       "</table>\n",
       "<p>5 rows × 32 columns</p>\n",
       "</div>"
      ],
      "text/plain": [
       "   id      age   gender  education  country  ethnicity  neuroticism  \\\n",
       "0   1  0.49788  0.48246   -0.05921  0.96082    0.12600      0.31287   \n",
       "1   2 -0.07854 -0.48246    1.98437  0.96082   -0.31685     -0.67825   \n",
       "2   3  0.49788 -0.48246   -0.05921  0.96082   -0.31685     -0.46725   \n",
       "3   4 -0.95197  0.48246    1.16365  0.96082   -0.31685     -0.14882   \n",
       "4   5  0.49788  0.48246    1.98437  0.96082   -0.31685      0.73545   \n",
       "\n",
       "   extraversion  openness_to_experience  agreeableness ...   ecstasy  heroin  \\\n",
       "0      -0.57545                -0.58331       -0.91699 ...       CL0     CL0   \n",
       "1       1.93886                 1.43533        0.76096 ...       CL4     CL0   \n",
       "2       0.80523                -0.84732       -1.62090 ...       CL0     CL0   \n",
       "3      -0.80615                -0.01928        0.59042 ...       CL0     CL0   \n",
       "4      -1.63340                -0.45174       -0.30172 ...       CL1     CL0   \n",
       "\n",
       "   ketamine legalh  lsd meth mushrooms nicotine semer  vsa  \n",
       "0       CL0    CL0  CL0  CL0       CL0      CL2   CL0  CL0  \n",
       "1       CL2    CL0  CL2  CL3       CL0      CL4   CL0  CL0  \n",
       "2       CL0    CL0  CL0  CL0       CL1      CL0   CL0  CL0  \n",
       "3       CL2    CL0  CL0  CL0       CL0      CL2   CL0  CL0  \n",
       "4       CL0    CL1  CL0  CL0       CL2      CL2   CL0  CL0  \n",
       "\n",
       "[5 rows x 32 columns]"
      ]
     },
     "execution_count": 3,
     "metadata": {},
     "output_type": "execute_result"
    }
   ],
   "source": [
    "df.head()"
   ]
  },
  {
   "cell_type": "code",
   "execution_count": 4,
   "metadata": {},
   "outputs": [],
   "source": [
    "# Filter the columns\n",
    "df_filtered = df[['id','age', 'gender', 'education',\n",
    "          'neuroticism', 'extraversion', \n",
    "          'openness_to_experience', 'agreeableness',\n",
    "          'conscientiousness', 'impulsiveness', 'sensation',\n",
    "          'cannabis']]"
   ]
  },
  {
   "cell_type": "code",
   "execution_count": 5,
   "metadata": {},
   "outputs": [
    {
     "data": {
      "text/html": [
       "<div>\n",
       "<style scoped>\n",
       "    .dataframe tbody tr th:only-of-type {\n",
       "        vertical-align: middle;\n",
       "    }\n",
       "\n",
       "    .dataframe tbody tr th {\n",
       "        vertical-align: top;\n",
       "    }\n",
       "\n",
       "    .dataframe thead th {\n",
       "        text-align: right;\n",
       "    }\n",
       "</style>\n",
       "<table border=\"1\" class=\"dataframe\">\n",
       "  <thead>\n",
       "    <tr style=\"text-align: right;\">\n",
       "      <th></th>\n",
       "      <th>id</th>\n",
       "      <th>age</th>\n",
       "      <th>gender</th>\n",
       "      <th>education</th>\n",
       "      <th>neuroticism</th>\n",
       "      <th>extraversion</th>\n",
       "      <th>openness_to_experience</th>\n",
       "      <th>agreeableness</th>\n",
       "      <th>conscientiousness</th>\n",
       "      <th>impulsiveness</th>\n",
       "      <th>sensation</th>\n",
       "      <th>cannabis</th>\n",
       "    </tr>\n",
       "  </thead>\n",
       "  <tbody>\n",
       "    <tr>\n",
       "      <th>0</th>\n",
       "      <td>1</td>\n",
       "      <td>0.49788</td>\n",
       "      <td>0.48246</td>\n",
       "      <td>-0.05921</td>\n",
       "      <td>0.31287</td>\n",
       "      <td>-0.57545</td>\n",
       "      <td>-0.58331</td>\n",
       "      <td>-0.91699</td>\n",
       "      <td>-0.00665</td>\n",
       "      <td>-0.21712</td>\n",
       "      <td>-1.18084</td>\n",
       "      <td>CL0</td>\n",
       "    </tr>\n",
       "    <tr>\n",
       "      <th>1</th>\n",
       "      <td>2</td>\n",
       "      <td>-0.07854</td>\n",
       "      <td>-0.48246</td>\n",
       "      <td>1.98437</td>\n",
       "      <td>-0.67825</td>\n",
       "      <td>1.93886</td>\n",
       "      <td>1.43533</td>\n",
       "      <td>0.76096</td>\n",
       "      <td>-0.14277</td>\n",
       "      <td>-0.71126</td>\n",
       "      <td>-0.21575</td>\n",
       "      <td>CL4</td>\n",
       "    </tr>\n",
       "    <tr>\n",
       "      <th>2</th>\n",
       "      <td>3</td>\n",
       "      <td>0.49788</td>\n",
       "      <td>-0.48246</td>\n",
       "      <td>-0.05921</td>\n",
       "      <td>-0.46725</td>\n",
       "      <td>0.80523</td>\n",
       "      <td>-0.84732</td>\n",
       "      <td>-1.62090</td>\n",
       "      <td>-1.01450</td>\n",
       "      <td>-1.37983</td>\n",
       "      <td>0.40148</td>\n",
       "      <td>CL3</td>\n",
       "    </tr>\n",
       "    <tr>\n",
       "      <th>3</th>\n",
       "      <td>4</td>\n",
       "      <td>-0.95197</td>\n",
       "      <td>0.48246</td>\n",
       "      <td>1.16365</td>\n",
       "      <td>-0.14882</td>\n",
       "      <td>-0.80615</td>\n",
       "      <td>-0.01928</td>\n",
       "      <td>0.59042</td>\n",
       "      <td>0.58489</td>\n",
       "      <td>-1.37983</td>\n",
       "      <td>-1.18084</td>\n",
       "      <td>CL2</td>\n",
       "    </tr>\n",
       "    <tr>\n",
       "      <th>4</th>\n",
       "      <td>5</td>\n",
       "      <td>0.49788</td>\n",
       "      <td>0.48246</td>\n",
       "      <td>1.98437</td>\n",
       "      <td>0.73545</td>\n",
       "      <td>-1.63340</td>\n",
       "      <td>-0.45174</td>\n",
       "      <td>-0.30172</td>\n",
       "      <td>1.30612</td>\n",
       "      <td>-0.21712</td>\n",
       "      <td>-0.21575</td>\n",
       "      <td>CL3</td>\n",
       "    </tr>\n",
       "  </tbody>\n",
       "</table>\n",
       "</div>"
      ],
      "text/plain": [
       "   id      age   gender  education  neuroticism  extraversion  \\\n",
       "0   1  0.49788  0.48246   -0.05921      0.31287      -0.57545   \n",
       "1   2 -0.07854 -0.48246    1.98437     -0.67825       1.93886   \n",
       "2   3  0.49788 -0.48246   -0.05921     -0.46725       0.80523   \n",
       "3   4 -0.95197  0.48246    1.16365     -0.14882      -0.80615   \n",
       "4   5  0.49788  0.48246    1.98437      0.73545      -1.63340   \n",
       "\n",
       "   openness_to_experience  agreeableness  conscientiousness  impulsiveness  \\\n",
       "0                -0.58331       -0.91699           -0.00665       -0.21712   \n",
       "1                 1.43533        0.76096           -0.14277       -0.71126   \n",
       "2                -0.84732       -1.62090           -1.01450       -1.37983   \n",
       "3                -0.01928        0.59042            0.58489       -1.37983   \n",
       "4                -0.45174       -0.30172            1.30612       -0.21712   \n",
       "\n",
       "   sensation cannabis  \n",
       "0   -1.18084      CL0  \n",
       "1   -0.21575      CL4  \n",
       "2    0.40148      CL3  \n",
       "3   -1.18084      CL2  \n",
       "4   -0.21575      CL3  "
      ]
     },
     "execution_count": 5,
     "metadata": {},
     "output_type": "execute_result"
    }
   ],
   "source": [
    "df_filtered.head()"
   ]
  },
  {
   "cell_type": "code",
   "execution_count": 6,
   "metadata": {},
   "outputs": [],
   "source": [
    "# # Replace Cannabis list with original classification\n",
    "# df_filtered.replace({\n",
    "#     'CL0' : 'Never Used', \n",
    "#     'CL1' : 'Used over a Decade Ago',\n",
    "#     'CL2' : 'Used in Last Decade',\n",
    "#     'CL3' : 'Used in Last Year',\n",
    "#     'CL4' : 'Used in Last Month',\n",
    "#     'CL5' : 'Used in Last Week',\n",
    "#     'CL6' : 'Used in Last Day'})"
   ]
  },
  {
   "cell_type": "code",
   "execution_count": 7,
   "metadata": {},
   "outputs": [
    {
     "data": {
      "text/html": [
       "<div>\n",
       "<style scoped>\n",
       "    .dataframe tbody tr th:only-of-type {\n",
       "        vertical-align: middle;\n",
       "    }\n",
       "\n",
       "    .dataframe tbody tr th {\n",
       "        vertical-align: top;\n",
       "    }\n",
       "\n",
       "    .dataframe thead th {\n",
       "        text-align: right;\n",
       "    }\n",
       "</style>\n",
       "<table border=\"1\" class=\"dataframe\">\n",
       "  <thead>\n",
       "    <tr style=\"text-align: right;\">\n",
       "      <th></th>\n",
       "      <th>id</th>\n",
       "      <th>age</th>\n",
       "      <th>gender</th>\n",
       "      <th>education</th>\n",
       "      <th>neuroticism</th>\n",
       "      <th>extraversion</th>\n",
       "      <th>openness_to_experience</th>\n",
       "      <th>agreeableness</th>\n",
       "      <th>conscientiousness</th>\n",
       "      <th>impulsiveness</th>\n",
       "      <th>sensation</th>\n",
       "      <th>cannabis</th>\n",
       "    </tr>\n",
       "  </thead>\n",
       "  <tbody>\n",
       "    <tr>\n",
       "      <th>0</th>\n",
       "      <td>1</td>\n",
       "      <td>0.49788</td>\n",
       "      <td>0.48246</td>\n",
       "      <td>-0.05921</td>\n",
       "      <td>0.31287</td>\n",
       "      <td>-0.57545</td>\n",
       "      <td>-0.58331</td>\n",
       "      <td>-0.91699</td>\n",
       "      <td>-0.00665</td>\n",
       "      <td>-0.21712</td>\n",
       "      <td>-1.18084</td>\n",
       "      <td>0</td>\n",
       "    </tr>\n",
       "    <tr>\n",
       "      <th>1</th>\n",
       "      <td>2</td>\n",
       "      <td>-0.07854</td>\n",
       "      <td>-0.48246</td>\n",
       "      <td>1.98437</td>\n",
       "      <td>-0.67825</td>\n",
       "      <td>1.93886</td>\n",
       "      <td>1.43533</td>\n",
       "      <td>0.76096</td>\n",
       "      <td>-0.14277</td>\n",
       "      <td>-0.71126</td>\n",
       "      <td>-0.21575</td>\n",
       "      <td>1</td>\n",
       "    </tr>\n",
       "    <tr>\n",
       "      <th>2</th>\n",
       "      <td>3</td>\n",
       "      <td>0.49788</td>\n",
       "      <td>-0.48246</td>\n",
       "      <td>-0.05921</td>\n",
       "      <td>-0.46725</td>\n",
       "      <td>0.80523</td>\n",
       "      <td>-0.84732</td>\n",
       "      <td>-1.62090</td>\n",
       "      <td>-1.01450</td>\n",
       "      <td>-1.37983</td>\n",
       "      <td>0.40148</td>\n",
       "      <td>1</td>\n",
       "    </tr>\n",
       "    <tr>\n",
       "      <th>3</th>\n",
       "      <td>4</td>\n",
       "      <td>-0.95197</td>\n",
       "      <td>0.48246</td>\n",
       "      <td>1.16365</td>\n",
       "      <td>-0.14882</td>\n",
       "      <td>-0.80615</td>\n",
       "      <td>-0.01928</td>\n",
       "      <td>0.59042</td>\n",
       "      <td>0.58489</td>\n",
       "      <td>-1.37983</td>\n",
       "      <td>-1.18084</td>\n",
       "      <td>1</td>\n",
       "    </tr>\n",
       "    <tr>\n",
       "      <th>4</th>\n",
       "      <td>5</td>\n",
       "      <td>0.49788</td>\n",
       "      <td>0.48246</td>\n",
       "      <td>1.98437</td>\n",
       "      <td>0.73545</td>\n",
       "      <td>-1.63340</td>\n",
       "      <td>-0.45174</td>\n",
       "      <td>-0.30172</td>\n",
       "      <td>1.30612</td>\n",
       "      <td>-0.21712</td>\n",
       "      <td>-0.21575</td>\n",
       "      <td>1</td>\n",
       "    </tr>\n",
       "  </tbody>\n",
       "</table>\n",
       "</div>"
      ],
      "text/plain": [
       "   id      age   gender  education  neuroticism  extraversion  \\\n",
       "0   1  0.49788  0.48246   -0.05921      0.31287      -0.57545   \n",
       "1   2 -0.07854 -0.48246    1.98437     -0.67825       1.93886   \n",
       "2   3  0.49788 -0.48246   -0.05921     -0.46725       0.80523   \n",
       "3   4 -0.95197  0.48246    1.16365     -0.14882      -0.80615   \n",
       "4   5  0.49788  0.48246    1.98437      0.73545      -1.63340   \n",
       "\n",
       "   openness_to_experience  agreeableness  conscientiousness  impulsiveness  \\\n",
       "0                -0.58331       -0.91699           -0.00665       -0.21712   \n",
       "1                 1.43533        0.76096           -0.14277       -0.71126   \n",
       "2                -0.84732       -1.62090           -1.01450       -1.37983   \n",
       "3                -0.01928        0.59042            0.58489       -1.37983   \n",
       "4                -0.45174       -0.30172            1.30612       -0.21712   \n",
       "\n",
       "   sensation  cannabis  \n",
       "0   -1.18084         0  \n",
       "1   -0.21575         1  \n",
       "2    0.40148         1  \n",
       "3   -1.18084         1  \n",
       "4   -0.21575         1  "
      ]
     },
     "execution_count": 7,
     "metadata": {},
     "output_type": "execute_result"
    }
   ],
   "source": [
    "# Replace and combine the cannabis result into 0 = never used and 1 = used -past or present-\n",
    "df_cannabis = df_filtered.replace({\n",
    "    'CL0' : 0, \n",
    "    'CL1' : 1,\n",
    "    'CL2' : 1,\n",
    "    'CL3' : 1,\n",
    "    'CL4' : 1,\n",
    "    'CL5' : 1,\n",
    "    'CL6' : 1})\n",
    "\n",
    "df_cannabis.head()"
   ]
  },
  {
   "cell_type": "code",
   "execution_count": 8,
   "metadata": {},
   "outputs": [
    {
     "data": {
      "text/plain": [
       "id             0\n",
       "age            0\n",
       "gender         0\n",
       "education      0\n",
       "neuroticism    0\n",
       "dtype: int64"
      ]
     },
     "execution_count": 8,
     "metadata": {},
     "output_type": "execute_result"
    }
   ],
   "source": [
    "# Check for nulls\n",
    "df_cannabis.isnull().sum().head()"
   ]
  },
  {
   "cell_type": "code",
   "execution_count": 23,
   "metadata": {},
   "outputs": [
    {
     "data": {
      "text/plain": [
       "<matplotlib.axes._subplots.AxesSubplot at 0x1dc7084e320>"
      ]
     },
     "execution_count": 23,
     "metadata": {},
     "output_type": "execute_result"
    },
    {
     "data": {
      "image/png": "[encoded data removed]",
      "text/plain": [
       "<Figure size 432x288 with 1 Axes>"
      ]
     },
     "metadata": {
      "needs_background": "light"
     },
     "output_type": "display_data"
    }
   ],
   "source": [
    "import matplotlib.pyplot as plt\n",
    "import seaborn as sns\n",
    "\n",
    "# NULL Heatmap for Train data\n",
    "sns.heatmap(df_cannabis.isnull(),yticklabels=False, cbar=False,cmap='inferno',annot=True)"
   ]
  },
  {
   "cell_type": "code",
   "execution_count": 9,
   "metadata": {},
   "outputs": [
    {
     "data": {
      "text/plain": [
       "(1885, 32)"
      ]
     },
     "execution_count": 9,
     "metadata": {},
     "output_type": "execute_result"
    }
   ],
   "source": [
    "list(df_cannabis)\n",
    "df.shape"
   ]
  },
  {
   "cell_type": "code",
   "execution_count": 10,
   "metadata": {},
   "outputs": [],
   "source": [
    "from sklearn.model_selection import train_test_split\n",
    "\n",
    "target = df_cannabis[\"cannabis\"]\n",
    "\n",
    "data = df_cannabis.drop(columns=[\"cannabis\",\"id\"])\n",
    "feature_names = data.columns"
   ]
  },
  {
   "cell_type": "code",
   "execution_count": 11,
   "metadata": {},
   "outputs": [
    {
     "data": {
      "text/html": [
       "<div>\n",
       "<style scoped>\n",
       "    .dataframe tbody tr th:only-of-type {\n",
       "        vertical-align: middle;\n",
       "    }\n",
       "\n",
       "    .dataframe tbody tr th {\n",
       "        vertical-align: top;\n",
       "    }\n",
       "\n",
       "    .dataframe thead th {\n",
       "        text-align: right;\n",
       "    }\n",
       "</style>\n",
       "<table border=\"1\" class=\"dataframe\">\n",
       "  <thead>\n",
       "    <tr style=\"text-align: right;\">\n",
       "      <th></th>\n",
       "      <th>age</th>\n",
       "      <th>gender</th>\n",
       "      <th>education</th>\n",
       "      <th>neuroticism</th>\n",
       "      <th>extraversion</th>\n",
       "      <th>openness_to_experience</th>\n",
       "      <th>agreeableness</th>\n",
       "      <th>conscientiousness</th>\n",
       "      <th>impulsiveness</th>\n",
       "      <th>sensation</th>\n",
       "    </tr>\n",
       "  </thead>\n",
       "  <tbody>\n",
       "    <tr>\n",
       "      <th>0</th>\n",
       "      <td>0.49788</td>\n",
       "      <td>0.48246</td>\n",
       "      <td>-0.05921</td>\n",
       "      <td>0.31287</td>\n",
       "      <td>-0.57545</td>\n",
       "      <td>-0.58331</td>\n",
       "      <td>-0.91699</td>\n",
       "      <td>-0.00665</td>\n",
       "      <td>-0.21712</td>\n",
       "      <td>-1.18084</td>\n",
       "    </tr>\n",
       "    <tr>\n",
       "      <th>1</th>\n",
       "      <td>-0.07854</td>\n",
       "      <td>-0.48246</td>\n",
       "      <td>1.98437</td>\n",
       "      <td>-0.67825</td>\n",
       "      <td>1.93886</td>\n",
       "      <td>1.43533</td>\n",
       "      <td>0.76096</td>\n",
       "      <td>-0.14277</td>\n",
       "      <td>-0.71126</td>\n",
       "      <td>-0.21575</td>\n",
       "    </tr>\n",
       "    <tr>\n",
       "      <th>2</th>\n",
       "      <td>0.49788</td>\n",
       "      <td>-0.48246</td>\n",
       "      <td>-0.05921</td>\n",
       "      <td>-0.46725</td>\n",
       "      <td>0.80523</td>\n",
       "      <td>-0.84732</td>\n",
       "      <td>-1.62090</td>\n",
       "      <td>-1.01450</td>\n",
       "      <td>-1.37983</td>\n",
       "      <td>0.40148</td>\n",
       "    </tr>\n",
       "    <tr>\n",
       "      <th>3</th>\n",
       "      <td>-0.95197</td>\n",
       "      <td>0.48246</td>\n",
       "      <td>1.16365</td>\n",
       "      <td>-0.14882</td>\n",
       "      <td>-0.80615</td>\n",
       "      <td>-0.01928</td>\n",
       "      <td>0.59042</td>\n",
       "      <td>0.58489</td>\n",
       "      <td>-1.37983</td>\n",
       "      <td>-1.18084</td>\n",
       "    </tr>\n",
       "    <tr>\n",
       "      <th>4</th>\n",
       "      <td>0.49788</td>\n",
       "      <td>0.48246</td>\n",
       "      <td>1.98437</td>\n",
       "      <td>0.73545</td>\n",
       "      <td>-1.63340</td>\n",
       "      <td>-0.45174</td>\n",
       "      <td>-0.30172</td>\n",
       "      <td>1.30612</td>\n",
       "      <td>-0.21712</td>\n",
       "      <td>-0.21575</td>\n",
       "    </tr>\n",
       "  </tbody>\n",
       "</table>\n",
       "</div>"
      ],
      "text/plain": [
       "       age   gender  education  neuroticism  extraversion  \\\n",
       "0  0.49788  0.48246   -0.05921      0.31287      -0.57545   \n",
       "1 -0.07854 -0.48246    1.98437     -0.67825       1.93886   \n",
       "2  0.49788 -0.48246   -0.05921     -0.46725       0.80523   \n",
       "3 -0.95197  0.48246    1.16365     -0.14882      -0.80615   \n",
       "4  0.49788  0.48246    1.98437      0.73545      -1.63340   \n",
       "\n",
       "   openness_to_experience  agreeableness  conscientiousness  impulsiveness  \\\n",
       "0                -0.58331       -0.91699           -0.00665       -0.21712   \n",
       "1                 1.43533        0.76096           -0.14277       -0.71126   \n",
       "2                -0.84732       -1.62090           -1.01450       -1.37983   \n",
       "3                -0.01928        0.59042            0.58489       -1.37983   \n",
       "4                -0.45174       -0.30172            1.30612       -0.21712   \n",
       "\n",
       "   sensation  \n",
       "0   -1.18084  \n",
       "1   -0.21575  \n",
       "2    0.40148  \n",
       "3   -1.18084  \n",
       "4   -0.21575  "
      ]
     },
     "execution_count": 11,
     "metadata": {},
     "output_type": "execute_result"
    }
   ],
   "source": [
    "data.head()"
   ]
  },
  {
   "cell_type": "code",
   "execution_count": 12,
   "metadata": {},
   "outputs": [],
   "source": [
    "X_train, X_test, y_train, y_test = train_test_split(data, target, random_state=1, stratify=target)"
   ]
  },
  {
   "cell_type": "code",
   "execution_count": 13,
   "metadata": {},
   "outputs": [
    {
     "data": {
      "text/html": [
       "<div>\n",
       "<style scoped>\n",
       "    .dataframe tbody tr th:only-of-type {\n",
       "        vertical-align: middle;\n",
       "    }\n",
       "\n",
       "    .dataframe tbody tr th {\n",
       "        vertical-align: top;\n",
       "    }\n",
       "\n",
       "    .dataframe thead th {\n",
       "        text-align: right;\n",
       "    }\n",
       "</style>\n",
       "<table border=\"1\" class=\"dataframe\">\n",
       "  <thead>\n",
       "    <tr style=\"text-align: right;\">\n",
       "      <th></th>\n",
       "      <th>age</th>\n",
       "      <th>gender</th>\n",
       "      <th>education</th>\n",
       "      <th>neuroticism</th>\n",
       "      <th>extraversion</th>\n",
       "      <th>openness_to_experience</th>\n",
       "      <th>agreeableness</th>\n",
       "      <th>conscientiousness</th>\n",
       "      <th>impulsiveness</th>\n",
       "      <th>sensation</th>\n",
       "    </tr>\n",
       "  </thead>\n",
       "  <tbody>\n",
       "    <tr>\n",
       "      <th>785</th>\n",
       "      <td>-0.95197</td>\n",
       "      <td>-0.48246</td>\n",
       "      <td>-0.05921</td>\n",
       "      <td>-1.69163</td>\n",
       "      <td>1.28610</td>\n",
       "      <td>-0.58331</td>\n",
       "      <td>-0.60633</td>\n",
       "      <td>-1.13788</td>\n",
       "      <td>1.86203</td>\n",
       "      <td>0.76540</td>\n",
       "    </tr>\n",
       "    <tr>\n",
       "      <th>1341</th>\n",
       "      <td>-0.95197</td>\n",
       "      <td>-0.48246</td>\n",
       "      <td>-1.22751</td>\n",
       "      <td>1.37297</td>\n",
       "      <td>-1.23177</td>\n",
       "      <td>-1.11902</td>\n",
       "      <td>-2.53830</td>\n",
       "      <td>0.93949</td>\n",
       "      <td>-1.37983</td>\n",
       "      <td>-0.21575</td>\n",
       "    </tr>\n",
       "    <tr>\n",
       "      <th>53</th>\n",
       "      <td>1.09449</td>\n",
       "      <td>-0.48246</td>\n",
       "      <td>1.16365</td>\n",
       "      <td>-1.43907</td>\n",
       "      <td>-0.15487</td>\n",
       "      <td>1.06238</td>\n",
       "      <td>0.28783</td>\n",
       "      <td>0.25953</td>\n",
       "      <td>-0.21712</td>\n",
       "      <td>-0.21575</td>\n",
       "    </tr>\n",
       "    <tr>\n",
       "      <th>974</th>\n",
       "      <td>-0.95197</td>\n",
       "      <td>-0.48246</td>\n",
       "      <td>-0.61113</td>\n",
       "      <td>-0.58016</td>\n",
       "      <td>1.11406</td>\n",
       "      <td>0.72330</td>\n",
       "      <td>0.59042</td>\n",
       "      <td>-0.00665</td>\n",
       "      <td>-0.21712</td>\n",
       "      <td>-0.52593</td>\n",
       "    </tr>\n",
       "    <tr>\n",
       "      <th>1209</th>\n",
       "      <td>-0.95197</td>\n",
       "      <td>-0.48246</td>\n",
       "      <td>-0.61113</td>\n",
       "      <td>-0.24649</td>\n",
       "      <td>-1.09207</td>\n",
       "      <td>0.29338</td>\n",
       "      <td>-0.45321</td>\n",
       "      <td>-1.01450</td>\n",
       "      <td>-1.37983</td>\n",
       "      <td>0.76540</td>\n",
       "    </tr>\n",
       "  </tbody>\n",
       "</table>\n",
       "</div>"
      ],
      "text/plain": [
       "          age   gender  education  neuroticism  extraversion  \\\n",
       "785  -0.95197 -0.48246   -0.05921     -1.69163       1.28610   \n",
       "1341 -0.95197 -0.48246   -1.22751      1.37297      -1.23177   \n",
       "53    1.09449 -0.48246    1.16365     -1.43907      -0.15487   \n",
       "974  -0.95197 -0.48246   -0.61113     -0.58016       1.11406   \n",
       "1209 -0.95197 -0.48246   -0.61113     -0.24649      -1.09207   \n",
       "\n",
       "      openness_to_experience  agreeableness  conscientiousness  impulsiveness  \\\n",
       "785                 -0.58331       -0.60633           -1.13788        1.86203   \n",
       "1341                -1.11902       -2.53830            0.93949       -1.37983   \n",
       "53                   1.06238        0.28783            0.25953       -0.21712   \n",
       "974                  0.72330        0.59042           -0.00665       -0.21712   \n",
       "1209                 0.29338       -0.45321           -1.01450       -1.37983   \n",
       "\n",
       "      sensation  \n",
       "785     0.76540  \n",
       "1341   -0.21575  \n",
       "53     -0.21575  \n",
       "974    -0.52593  \n",
       "1209    0.76540  "
      ]
     },
     "execution_count": 13,
     "metadata": {},
     "output_type": "execute_result"
    }
   ],
   "source": [
    "X_train.head()"
   ]
  },
  {
   "cell_type": "code",
   "execution_count": 20,
   "metadata": {},
   "outputs": [
    {
     "data": {
      "text/html": [
       "<div>\n",
       "<style scoped>\n",
       "    .dataframe tbody tr th:only-of-type {\n",
       "        vertical-align: middle;\n",
       "    }\n",
       "\n",
       "    .dataframe tbody tr th {\n",
       "        vertical-align: top;\n",
       "    }\n",
       "\n",
       "    .dataframe thead th {\n",
       "        text-align: right;\n",
       "    }\n",
       "</style>\n",
       "<table border=\"1\" class=\"dataframe\">\n",
       "  <thead>\n",
       "    <tr style=\"text-align: right;\">\n",
       "      <th></th>\n",
       "      <th>age</th>\n",
       "      <th>gender</th>\n",
       "      <th>education</th>\n",
       "      <th>neuroticism</th>\n",
       "      <th>extraversion</th>\n",
       "      <th>openness_to_experience</th>\n",
       "      <th>agreeableness</th>\n",
       "      <th>conscientiousness</th>\n",
       "      <th>impulsiveness</th>\n",
       "      <th>sensation</th>\n",
       "    </tr>\n",
       "  </thead>\n",
       "  <tbody>\n",
       "    <tr>\n",
       "      <th>count</th>\n",
       "      <td>1413.000000</td>\n",
       "      <td>1413.000000</td>\n",
       "      <td>1413.000000</td>\n",
       "      <td>1413.000000</td>\n",
       "      <td>1413.000000</td>\n",
       "      <td>1413.000000</td>\n",
       "      <td>1413.000000</td>\n",
       "      <td>1413.000000</td>\n",
       "      <td>1413.000000</td>\n",
       "      <td>1413.000000</td>\n",
       "    </tr>\n",
       "    <tr>\n",
       "      <th>mean</th>\n",
       "      <td>0.022364</td>\n",
       "      <td>0.000341</td>\n",
       "      <td>0.000813</td>\n",
       "      <td>-0.030896</td>\n",
       "      <td>0.012155</td>\n",
       "      <td>-0.016387</td>\n",
       "      <td>0.005969</td>\n",
       "      <td>0.004482</td>\n",
       "      <td>-0.001504</td>\n",
       "      <td>-0.017735</td>\n",
       "    </tr>\n",
       "    <tr>\n",
       "      <th>std</th>\n",
       "      <td>0.884530</td>\n",
       "      <td>0.482631</td>\n",
       "      <td>0.945494</td>\n",
       "      <td>0.982636</td>\n",
       "      <td>0.978662</td>\n",
       "      <td>0.996493</td>\n",
       "      <td>0.983210</td>\n",
       "      <td>0.984195</td>\n",
       "      <td>0.954281</td>\n",
       "      <td>0.956490</td>\n",
       "    </tr>\n",
       "    <tr>\n",
       "      <th>min</th>\n",
       "      <td>-0.951970</td>\n",
       "      <td>-0.482460</td>\n",
       "      <td>-2.435910</td>\n",
       "      <td>-3.464360</td>\n",
       "      <td>-3.273930</td>\n",
       "      <td>-3.273930</td>\n",
       "      <td>-3.464360</td>\n",
       "      <td>-2.901610</td>\n",
       "      <td>-2.555240</td>\n",
       "      <td>-2.078480</td>\n",
       "    </tr>\n",
       "    <tr>\n",
       "      <th>25%</th>\n",
       "      <td>-0.951970</td>\n",
       "      <td>-0.482460</td>\n",
       "      <td>-0.611130</td>\n",
       "      <td>-0.678250</td>\n",
       "      <td>-0.575450</td>\n",
       "      <td>-0.717270</td>\n",
       "      <td>-0.606330</td>\n",
       "      <td>-0.652530</td>\n",
       "      <td>-0.711260</td>\n",
       "      <td>-0.525930</td>\n",
       "    </tr>\n",
       "    <tr>\n",
       "      <th>50%</th>\n",
       "      <td>-0.078540</td>\n",
       "      <td>0.482460</td>\n",
       "      <td>-0.059210</td>\n",
       "      <td>-0.051880</td>\n",
       "      <td>0.003320</td>\n",
       "      <td>-0.019280</td>\n",
       "      <td>-0.017290</td>\n",
       "      <td>-0.006650</td>\n",
       "      <td>-0.217120</td>\n",
       "      <td>0.079870</td>\n",
       "    </tr>\n",
       "    <tr>\n",
       "      <th>75%</th>\n",
       "      <td>0.497880</td>\n",
       "      <td>0.482460</td>\n",
       "      <td>0.454680</td>\n",
       "      <td>0.629670</td>\n",
       "      <td>0.637790</td>\n",
       "      <td>0.723300</td>\n",
       "      <td>0.760960</td>\n",
       "      <td>0.584890</td>\n",
       "      <td>0.529750</td>\n",
       "      <td>0.765400</td>\n",
       "    </tr>\n",
       "    <tr>\n",
       "      <th>max</th>\n",
       "      <td>2.591710</td>\n",
       "      <td>0.482460</td>\n",
       "      <td>1.984370</td>\n",
       "      <td>3.273930</td>\n",
       "      <td>3.005370</td>\n",
       "      <td>2.901610</td>\n",
       "      <td>2.756960</td>\n",
       "      <td>3.464360</td>\n",
       "      <td>2.901610</td>\n",
       "      <td>1.921730</td>\n",
       "    </tr>\n",
       "  </tbody>\n",
       "</table>\n",
       "</div>"
      ],
      "text/plain": [
       "               age       gender    education  neuroticism  extraversion  \\\n",
       "count  1413.000000  1413.000000  1413.000000  1413.000000   1413.000000   \n",
       "mean      0.022364     0.000341     0.000813    -0.030896      0.012155   \n",
       "std       0.884530     0.482631     0.945494     0.982636      0.978662   \n",
       "min      -0.951970    -0.482460    -2.435910    -3.464360     -3.273930   \n",
       "25%      -0.951970    -0.482460    -0.611130    -0.678250     -0.575450   \n",
       "50%      -0.078540     0.482460    -0.059210    -0.051880      0.003320   \n",
       "75%       0.497880     0.482460     0.454680     0.629670      0.637790   \n",
       "max       2.591710     0.482460     1.984370     3.273930      3.005370   \n",
       "\n",
       "       openness_to_experience  agreeableness  conscientiousness  \\\n",
       "count             1413.000000    1413.000000        1413.000000   \n",
       "mean                -0.016387       0.005969           0.004482   \n",
       "std                  0.996493       0.983210           0.984195   \n",
       "min                 -3.273930      -3.464360          -2.901610   \n",
       "25%                 -0.717270      -0.606330          -0.652530   \n",
       "50%                 -0.019280      -0.017290          -0.006650   \n",
       "75%                  0.723300       0.760960           0.584890   \n",
       "max                  2.901610       2.756960           3.464360   \n",
       "\n",
       "       impulsiveness    sensation  \n",
       "count    1413.000000  1413.000000  \n",
       "mean       -0.001504    -0.017735  \n",
       "std         0.954281     0.956490  \n",
       "min        -2.555240    -2.078480  \n",
       "25%        -0.711260    -0.525930  \n",
       "50%        -0.217120     0.079870  \n",
       "75%         0.529750     0.765400  \n",
       "max         2.901610     1.921730  "
      ]
     },
     "execution_count": 20,
     "metadata": {},
     "output_type": "execute_result"
    }
   ],
   "source": [
    "# Summary of train data\n",
    "X_train.describe()"
   ]
  },
  {
   "cell_type": "code",
   "execution_count": 22,
   "metadata": {},
   "outputs": [
    {
     "name": "stdout",
     "output_type": "stream",
     "text": [
      "<class 'pandas.core.frame.DataFrame'>\n",
      "Int64Index: 1413 entries, 785 to 1133\n",
      "Data columns (total 10 columns):\n",
      "age                       1413 non-null float64\n",
      "gender                    1413 non-null float64\n",
      "education                 1413 non-null float64\n",
      "neuroticism               1413 non-null float64\n",
      "extraversion              1413 non-null float64\n",
      "openness_to_experience    1413 non-null float64\n",
      "agreeableness             1413 non-null float64\n",
      "conscientiousness         1413 non-null float64\n",
      "impulsiveness             1413 non-null float64\n",
      "sensation                 1413 non-null float64\n",
      "dtypes: float64(10)\n",
      "memory usage: 121.4 KB\n"
     ]
    }
   ],
   "source": [
    "X_train.info()"
   ]
  },
  {
   "cell_type": "markdown",
   "metadata": {},
   "source": [
    "\n",
    "## Data Visualization for understanding the Data\n"
   ]
  },
  {
   "cell_type": "code",
   "execution_count": 73,
   "metadata": {},
   "outputs": [
    {
     "data": {
      "text/html": [
       "<div>\n",
       "<style scoped>\n",
       "    .dataframe tbody tr th:only-of-type {\n",
       "        vertical-align: middle;\n",
       "    }\n",
       "\n",
       "    .dataframe tbody tr th {\n",
       "        vertical-align: top;\n",
       "    }\n",
       "\n",
       "    .dataframe thead th {\n",
       "        text-align: right;\n",
       "    }\n",
       "</style>\n",
       "<table border=\"1\" class=\"dataframe\">\n",
       "  <thead>\n",
       "    <tr style=\"text-align: right;\">\n",
       "      <th></th>\n",
       "      <th>Drug User</th>\n",
       "      <th>Never Used</th>\n",
       "    </tr>\n",
       "  </thead>\n",
       "  <tbody>\n",
       "    <tr>\n",
       "      <th>0</th>\n",
       "      <td>NaN</td>\n",
       "      <td>0.49788</td>\n",
       "    </tr>\n",
       "    <tr>\n",
       "      <th>1</th>\n",
       "      <td>-0.07854</td>\n",
       "      <td>NaN</td>\n",
       "    </tr>\n",
       "    <tr>\n",
       "      <th>2</th>\n",
       "      <td>0.49788</td>\n",
       "      <td>NaN</td>\n",
       "    </tr>\n",
       "    <tr>\n",
       "      <th>3</th>\n",
       "      <td>-0.95197</td>\n",
       "      <td>NaN</td>\n",
       "    </tr>\n",
       "    <tr>\n",
       "      <th>4</th>\n",
       "      <td>0.49788</td>\n",
       "      <td>NaN</td>\n",
       "    </tr>\n",
       "  </tbody>\n",
       "</table>\n",
       "</div>"
      ],
      "text/plain": [
       "   Drug User  Never Used\n",
       "0        NaN     0.49788\n",
       "1   -0.07854         NaN\n",
       "2    0.49788         NaN\n",
       "3   -0.95197         NaN\n",
       "4    0.49788         NaN"
      ]
     },
     "execution_count": 73,
     "metadata": {},
     "output_type": "execute_result"
    }
   ],
   "source": [
    "# 1) Observing drug consumption rate over Age\n",
    "\n",
    "age=pd.concat([df_cannabis[df_cannabis.cannabis==1]['age'],df_cannabis[df_cannabis.cannabis==0]['age']],axis=1)\n",
    "age.columns=['Drug User','Never Used']\n",
    "age.head()"
   ]
  },
  {
   "cell_type": "code",
   "execution_count": 74,
   "metadata": {},
   "outputs": [
    {
     "data": {
      "text/plain": [
       "<matplotlib.axes._subplots.AxesSubplot at 0x1dc0b2df780>"
      ]
     },
     "execution_count": 74,
     "metadata": {},
     "output_type": "execute_result"
    },
    {
     "data": {
      "image/png": "[encoded data removed]",
      "text/plain": [
       "<Figure size 864x432 with 1 Axes>"
      ]
     },
     "metadata": {
      "needs_background": "light"
     },
     "output_type": "display_data"
    }
   ],
   "source": [
    "age.plot(kind='hist',bins=15,figsize=(12,6),alpha=0.3)"
   ]
  },
  {
   "cell_type": "code",
   "execution_count": 29,
   "metadata": {},
   "outputs": [
    {
     "data": {
      "text/plain": [
       "<matplotlib.axes._subplots.AxesSubplot at 0x1dc000ff1d0>"
      ]
     },
     "execution_count": 29,
     "metadata": {},
     "output_type": "execute_result"
    },
    {
     "data": {
      "image/png": "[encoded data removed]",
      "text/plain": [
       "<Figure size 432x288 with 1 Axes>"
      ]
     },
     "metadata": {
      "needs_background": "light"
     },
     "output_type": "display_data"
    }
   ],
   "source": [
    "# 2) Validating drug consumption rate across Gender\n",
    "\n",
    "sns.countplot(x='cannabis',hue='gender',data=df_cannabis,palette='afmhot')"
   ]
  },
  {
   "cell_type": "code",
   "execution_count": 44,
   "metadata": {},
   "outputs": [
    {
     "data": {
      "text/plain": [
       "<matplotlib.axes._subplots.AxesSubplot at 0x1dc02547a20>"
      ]
     },
     "execution_count": 44,
     "metadata": {},
     "output_type": "execute_result"
    },
    {
     "data": {
      "image/png": "[encoded data removed]",
      "text/plain": [
       "<Figure size 432x288 with 1 Axes>"
      ]
     },
     "metadata": {
      "needs_background": "light"
     },
     "output_type": "display_data"
    }
   ],
   "source": [
    "# 3) Analyzing drug consumption rate across Education Level\n",
    "\n",
    "sns.countplot(x='cannabis',hue='education',data=df_cannabis,palette='rainbow')"
   ]
  },
  {
   "cell_type": "code",
   "execution_count": 93,
   "metadata": {},
   "outputs": [
    {
     "data": {
      "text/html": [
       "<div>\n",
       "<style scoped>\n",
       "    .dataframe tbody tr th:only-of-type {\n",
       "        vertical-align: middle;\n",
       "    }\n",
       "\n",
       "    .dataframe tbody tr th {\n",
       "        vertical-align: top;\n",
       "    }\n",
       "\n",
       "    .dataframe thead th {\n",
       "        text-align: right;\n",
       "    }\n",
       "</style>\n",
       "<table border=\"1\" class=\"dataframe\">\n",
       "  <thead>\n",
       "    <tr style=\"text-align: right;\">\n",
       "      <th></th>\n",
       "      <th></th>\n",
       "      <th></th>\n",
       "      <th>cannabis</th>\n",
       "    </tr>\n",
       "    <tr>\n",
       "      <th>age</th>\n",
       "      <th>gender</th>\n",
       "      <th>education</th>\n",
       "      <th></th>\n",
       "    </tr>\n",
       "  </thead>\n",
       "  <tbody>\n",
       "    <tr>\n",
       "      <th>-0.95197</th>\n",
       "      <th>-0.48246</th>\n",
       "      <th>-2.43591</th>\n",
       "      <td>1.000000</td>\n",
       "    </tr>\n",
       "    <tr>\n",
       "      <th rowspan=\"4\" valign=\"top\">-0.07854</th>\n",
       "      <th>-0.48246</th>\n",
       "      <th>-1.22751</th>\n",
       "      <td>1.000000</td>\n",
       "    </tr>\n",
       "    <tr>\n",
       "      <th rowspan=\"3\" valign=\"top\">0.48246</th>\n",
       "      <th>-2.43591</th>\n",
       "      <td>1.000000</td>\n",
       "    </tr>\n",
       "    <tr>\n",
       "      <th>-1.43719</th>\n",
       "      <td>1.000000</td>\n",
       "    </tr>\n",
       "    <tr>\n",
       "      <th>-1.22751</th>\n",
       "      <td>1.000000</td>\n",
       "    </tr>\n",
       "    <tr>\n",
       "      <th rowspan=\"4\" valign=\"top\">0.49788</th>\n",
       "      <th rowspan=\"3\" valign=\"top\">-0.48246</th>\n",
       "      <th>-2.43591</th>\n",
       "      <td>1.000000</td>\n",
       "    </tr>\n",
       "    <tr>\n",
       "      <th>-1.43719</th>\n",
       "      <td>1.000000</td>\n",
       "    </tr>\n",
       "    <tr>\n",
       "      <th>-1.22751</th>\n",
       "      <td>1.000000</td>\n",
       "    </tr>\n",
       "    <tr>\n",
       "      <th>0.48246</th>\n",
       "      <th>-2.43591</th>\n",
       "      <td>1.000000</td>\n",
       "    </tr>\n",
       "    <tr>\n",
       "      <th>-0.95197</th>\n",
       "      <th>-0.48246</th>\n",
       "      <th>-1.73790</th>\n",
       "      <td>1.000000</td>\n",
       "    </tr>\n",
       "    <tr>\n",
       "      <th rowspan=\"3\" valign=\"top\">1.09449</th>\n",
       "      <th rowspan=\"2\" valign=\"top\">-0.48246</th>\n",
       "      <th>-2.43591</th>\n",
       "      <td>1.000000</td>\n",
       "    </tr>\n",
       "    <tr>\n",
       "      <th>-1.43719</th>\n",
       "      <td>1.000000</td>\n",
       "    </tr>\n",
       "    <tr>\n",
       "      <th>0.48246</th>\n",
       "      <th>-1.22751</th>\n",
       "      <td>1.000000</td>\n",
       "    </tr>\n",
       "    <tr>\n",
       "      <th rowspan=\"4\" valign=\"top\">1.82213</th>\n",
       "      <th>-0.48246</th>\n",
       "      <th>-1.43719</th>\n",
       "      <td>1.000000</td>\n",
       "    </tr>\n",
       "    <tr>\n",
       "      <th rowspan=\"3\" valign=\"top\">0.48246</th>\n",
       "      <th>-1.73790</th>\n",
       "      <td>1.000000</td>\n",
       "    </tr>\n",
       "    <tr>\n",
       "      <th>-1.43719</th>\n",
       "      <td>1.000000</td>\n",
       "    </tr>\n",
       "    <tr>\n",
       "      <th>1.98437</th>\n",
       "      <td>1.000000</td>\n",
       "    </tr>\n",
       "    <tr>\n",
       "      <th rowspan=\"2\" valign=\"top\">2.59171</th>\n",
       "      <th>-0.48246</th>\n",
       "      <th>1.16365</th>\n",
       "      <td>1.000000</td>\n",
       "    </tr>\n",
       "    <tr>\n",
       "      <th>0.48246</th>\n",
       "      <th>-0.05921</th>\n",
       "      <td>1.000000</td>\n",
       "    </tr>\n",
       "    <tr>\n",
       "      <th>-0.07854</th>\n",
       "      <th>-0.48246</th>\n",
       "      <th>-0.05921</th>\n",
       "      <td>1.000000</td>\n",
       "    </tr>\n",
       "    <tr>\n",
       "      <th>2.59171</th>\n",
       "      <th>0.48246</th>\n",
       "      <th>1.98437</th>\n",
       "      <td>1.000000</td>\n",
       "    </tr>\n",
       "    <tr>\n",
       "      <th rowspan=\"3\" valign=\"top\">-0.95197</th>\n",
       "      <th rowspan=\"3\" valign=\"top\">-0.48246</th>\n",
       "      <th>1.16365</th>\n",
       "      <td>1.000000</td>\n",
       "    </tr>\n",
       "    <tr>\n",
       "      <th>-1.43719</th>\n",
       "      <td>1.000000</td>\n",
       "    </tr>\n",
       "    <tr>\n",
       "      <th>-1.22751</th>\n",
       "      <td>1.000000</td>\n",
       "    </tr>\n",
       "    <tr>\n",
       "      <th rowspan=\"2\" valign=\"top\">-0.07854</th>\n",
       "      <th rowspan=\"2\" valign=\"top\">-0.48246</th>\n",
       "      <th>-1.43719</th>\n",
       "      <td>1.000000</td>\n",
       "    </tr>\n",
       "    <tr>\n",
       "      <th>-2.43591</th>\n",
       "      <td>1.000000</td>\n",
       "    </tr>\n",
       "    <tr>\n",
       "      <th rowspan=\"4\" valign=\"top\">-0.95197</th>\n",
       "      <th>-0.48246</th>\n",
       "      <th>1.98437</th>\n",
       "      <td>1.000000</td>\n",
       "    </tr>\n",
       "    <tr>\n",
       "      <th>0.48246</th>\n",
       "      <th>-2.43591</th>\n",
       "      <td>1.000000</td>\n",
       "    </tr>\n",
       "    <tr>\n",
       "      <th rowspan=\"2\" valign=\"top\">-0.48246</th>\n",
       "      <th>-0.61113</th>\n",
       "      <td>0.987179</td>\n",
       "    </tr>\n",
       "    <tr>\n",
       "      <th>-0.05921</th>\n",
       "      <td>0.970588</td>\n",
       "    </tr>\n",
       "    <tr>\n",
       "      <th>...</th>\n",
       "      <th>...</th>\n",
       "      <th>...</th>\n",
       "      <td>...</td>\n",
       "    </tr>\n",
       "    <tr>\n",
       "      <th>1.09449</th>\n",
       "      <th>0.48246</th>\n",
       "      <th>1.98437</th>\n",
       "      <td>0.600000</td>\n",
       "    </tr>\n",
       "    <tr>\n",
       "      <th>-0.95197</th>\n",
       "      <th>0.48246</th>\n",
       "      <th>-1.73790</th>\n",
       "      <td>0.600000</td>\n",
       "    </tr>\n",
       "    <tr>\n",
       "      <th>1.82213</th>\n",
       "      <th>0.48246</th>\n",
       "      <th>-0.61113</th>\n",
       "      <td>0.600000</td>\n",
       "    </tr>\n",
       "    <tr>\n",
       "      <th>1.09449</th>\n",
       "      <th>0.48246</th>\n",
       "      <th>0.45468</th>\n",
       "      <td>0.577778</td>\n",
       "    </tr>\n",
       "    <tr>\n",
       "      <th rowspan=\"2\" valign=\"top\">0.49788</th>\n",
       "      <th>-0.48246</th>\n",
       "      <th>1.98437</th>\n",
       "      <td>0.571429</td>\n",
       "    </tr>\n",
       "    <tr>\n",
       "      <th>0.48246</th>\n",
       "      <th>-0.05921</th>\n",
       "      <td>0.568182</td>\n",
       "    </tr>\n",
       "    <tr>\n",
       "      <th>1.09449</th>\n",
       "      <th>-0.48246</th>\n",
       "      <th>-0.05921</th>\n",
       "      <td>0.555556</td>\n",
       "    </tr>\n",
       "    <tr>\n",
       "      <th>-0.95197</th>\n",
       "      <th>0.48246</th>\n",
       "      <th>1.16365</th>\n",
       "      <td>0.555556</td>\n",
       "    </tr>\n",
       "    <tr>\n",
       "      <th>1.82213</th>\n",
       "      <th>0.48246</th>\n",
       "      <th>1.16365</th>\n",
       "      <td>0.500000</td>\n",
       "    </tr>\n",
       "    <tr>\n",
       "      <th>-0.07854</th>\n",
       "      <th>0.48246</th>\n",
       "      <th>-1.73790</th>\n",
       "      <td>0.500000</td>\n",
       "    </tr>\n",
       "    <tr>\n",
       "      <th>2.59171</th>\n",
       "      <th>-0.48246</th>\n",
       "      <th>-0.61113</th>\n",
       "      <td>0.500000</td>\n",
       "    </tr>\n",
       "    <tr>\n",
       "      <th rowspan=\"3\" valign=\"top\">1.82213</th>\n",
       "      <th>0.48246</th>\n",
       "      <th>-1.22751</th>\n",
       "      <td>0.500000</td>\n",
       "    </tr>\n",
       "    <tr>\n",
       "      <th rowspan=\"2\" valign=\"top\">-0.48246</th>\n",
       "      <th>-2.43591</th>\n",
       "      <td>0.500000</td>\n",
       "    </tr>\n",
       "    <tr>\n",
       "      <th>1.98437</th>\n",
       "      <td>0.500000</td>\n",
       "    </tr>\n",
       "    <tr>\n",
       "      <th>1.09449</th>\n",
       "      <th>0.48246</th>\n",
       "      <th>-1.73790</th>\n",
       "      <td>0.466667</td>\n",
       "    </tr>\n",
       "    <tr>\n",
       "      <th>1.82213</th>\n",
       "      <th>0.48246</th>\n",
       "      <th>-0.05921</th>\n",
       "      <td>0.416667</td>\n",
       "    </tr>\n",
       "    <tr>\n",
       "      <th rowspan=\"2\" valign=\"top\">0.49788</th>\n",
       "      <th rowspan=\"2\" valign=\"top\">0.48246</th>\n",
       "      <th>-1.73790</th>\n",
       "      <td>0.416667</td>\n",
       "    </tr>\n",
       "    <tr>\n",
       "      <th>-1.22751</th>\n",
       "      <td>0.400000</td>\n",
       "    </tr>\n",
       "    <tr>\n",
       "      <th>1.09449</th>\n",
       "      <th>0.48246</th>\n",
       "      <th>-0.05921</th>\n",
       "      <td>0.394737</td>\n",
       "    </tr>\n",
       "    <tr>\n",
       "      <th>2.59171</th>\n",
       "      <th>-0.48246</th>\n",
       "      <th>-2.43591</th>\n",
       "      <td>0.333333</td>\n",
       "    </tr>\n",
       "    <tr>\n",
       "      <th>0.49788</th>\n",
       "      <th>0.48246</th>\n",
       "      <th>-1.43719</th>\n",
       "      <td>0.333333</td>\n",
       "    </tr>\n",
       "    <tr>\n",
       "      <th>1.82213</th>\n",
       "      <th>0.48246</th>\n",
       "      <th>-2.43591</th>\n",
       "      <td>0.000000</td>\n",
       "    </tr>\n",
       "    <tr>\n",
       "      <th rowspan=\"6\" valign=\"top\">2.59171</th>\n",
       "      <th rowspan=\"3\" valign=\"top\">0.48246</th>\n",
       "      <th>-1.73790</th>\n",
       "      <td>0.000000</td>\n",
       "    </tr>\n",
       "    <tr>\n",
       "      <th>1.16365</th>\n",
       "      <td>0.000000</td>\n",
       "    </tr>\n",
       "    <tr>\n",
       "      <th>-1.22751</th>\n",
       "      <td>0.000000</td>\n",
       "    </tr>\n",
       "    <tr>\n",
       "      <th rowspan=\"3\" valign=\"top\">-0.48246</th>\n",
       "      <th>-0.05921</th>\n",
       "      <td>0.000000</td>\n",
       "    </tr>\n",
       "    <tr>\n",
       "      <th>1.98437</th>\n",
       "      <td>0.000000</td>\n",
       "    </tr>\n",
       "    <tr>\n",
       "      <th>0.45468</th>\n",
       "      <td>0.000000</td>\n",
       "    </tr>\n",
       "    <tr>\n",
       "      <th>1.09449</th>\n",
       "      <th>0.48246</th>\n",
       "      <th>-1.43719</th>\n",
       "      <td>0.000000</td>\n",
       "    </tr>\n",
       "    <tr>\n",
       "      <th>1.82213</th>\n",
       "      <th>-0.48246</th>\n",
       "      <th>-1.22751</th>\n",
       "      <td>0.000000</td>\n",
       "    </tr>\n",
       "  </tbody>\n",
       "</table>\n",
       "<p>100 rows × 1 columns</p>\n",
       "</div>"
      ],
      "text/plain": [
       "                             cannabis\n",
       "age      gender   education          \n",
       "-0.95197 -0.48246 -2.43591   1.000000\n",
       "-0.07854 -0.48246 -1.22751   1.000000\n",
       "          0.48246 -2.43591   1.000000\n",
       "                  -1.43719   1.000000\n",
       "                  -1.22751   1.000000\n",
       " 0.49788 -0.48246 -2.43591   1.000000\n",
       "                  -1.43719   1.000000\n",
       "                  -1.22751   1.000000\n",
       "          0.48246 -2.43591   1.000000\n",
       "-0.95197 -0.48246 -1.73790   1.000000\n",
       " 1.09449 -0.48246 -2.43591   1.000000\n",
       "                  -1.43719   1.000000\n",
       "          0.48246 -1.22751   1.000000\n",
       " 1.82213 -0.48246 -1.43719   1.000000\n",
       "          0.48246 -1.73790   1.000000\n",
       "                  -1.43719   1.000000\n",
       "                   1.98437   1.000000\n",
       " 2.59171 -0.48246  1.16365   1.000000\n",
       "          0.48246 -0.05921   1.000000\n",
       "-0.07854 -0.48246 -0.05921   1.000000\n",
       " 2.59171  0.48246  1.98437   1.000000\n",
       "-0.95197 -0.48246  1.16365   1.000000\n",
       "                  -1.43719   1.000000\n",
       "                  -1.22751   1.000000\n",
       "-0.07854 -0.48246 -1.43719   1.000000\n",
       "                  -2.43591   1.000000\n",
       "-0.95197 -0.48246  1.98437   1.000000\n",
       "          0.48246 -2.43591   1.000000\n",
       "         -0.48246 -0.61113   0.987179\n",
       "                  -0.05921   0.970588\n",
       "...                               ...\n",
       " 1.09449  0.48246  1.98437   0.600000\n",
       "-0.95197  0.48246 -1.73790   0.600000\n",
       " 1.82213  0.48246 -0.61113   0.600000\n",
       " 1.09449  0.48246  0.45468   0.577778\n",
       " 0.49788 -0.48246  1.98437   0.571429\n",
       "          0.48246 -0.05921   0.568182\n",
       " 1.09449 -0.48246 -0.05921   0.555556\n",
       "-0.95197  0.48246  1.16365   0.555556\n",
       " 1.82213  0.48246  1.16365   0.500000\n",
       "-0.07854  0.48246 -1.73790   0.500000\n",
       " 2.59171 -0.48246 -0.61113   0.500000\n",
       " 1.82213  0.48246 -1.22751   0.500000\n",
       "         -0.48246 -2.43591   0.500000\n",
       "                   1.98437   0.500000\n",
       " 1.09449  0.48246 -1.73790   0.466667\n",
       " 1.82213  0.48246 -0.05921   0.416667\n",
       " 0.49788  0.48246 -1.73790   0.416667\n",
       "                  -1.22751   0.400000\n",
       " 1.09449  0.48246 -0.05921   0.394737\n",
       " 2.59171 -0.48246 -2.43591   0.333333\n",
       " 0.49788  0.48246 -1.43719   0.333333\n",
       " 1.82213  0.48246 -2.43591   0.000000\n",
       " 2.59171  0.48246 -1.73790   0.000000\n",
       "                   1.16365   0.000000\n",
       "                  -1.22751   0.000000\n",
       "         -0.48246 -0.05921   0.000000\n",
       "                   1.98437   0.000000\n",
       "                   0.45468   0.000000\n",
       " 1.09449  0.48246 -1.43719   0.000000\n",
       " 1.82213 -0.48246 -1.22751   0.000000\n",
       "\n",
       "[100 rows x 1 columns]"
      ]
     },
     "execution_count": 93,
     "metadata": {},
     "output_type": "execute_result"
    }
   ],
   "source": [
    "# Bringing all the basic personal information features above (Age, Gender, Education) together and create a pivot table\n",
    "\n",
    "ASE=df_cannabis[df_cannabis.cannabis.notnull()].pivot_table(index=['age','gender','education'],values=['cannabis']).sort_values('cannabis',ascending=False)\n",
    "ASE"
   ]
  },
  {
   "cell_type": "code",
   "execution_count": 94,
   "metadata": {},
   "outputs": [
    {
     "data": {
      "text/plain": [
       "Text(80, 0.51, '50% potential smoker')"
      ]
     },
     "execution_count": 94,
     "metadata": {},
     "output_type": "execute_result"
    },
    {
     "data": {
      "image/png": "[encoded data removed]",
      "text/plain": [
       "<Figure size 864x576 with 1 Axes>"
      ]
     },
     "metadata": {
      "needs_background": "light"
     },
     "output_type": "display_data"
    }
   ],
   "source": [
    "# From the pivot tables above, there is definitely a relationship among 'Age','Gender','Education'and 'Drug Consumer'\n",
    "# So we can combine them together ==> Combined feature 'A.S.E'; and visualize it:\n",
    "\n",
    "ASE.plot(kind='bar',figsize=(12,8))\n",
    "plt.xticks(rotation=45)\n",
    "plt.axhline(0.8,color='#BA55D3')\n",
    "plt.axhline(0.5,color='#BA55D3')\n",
    "plt.annotate('80% potential smoker',xy=(30,0.81),xytext=(50,0.81),arrowprops=dict(facecolor='#BA55D3',shrink=0.05))\n",
    "plt.annotate('50% potential smoker',xy=(32,0.51),xytext=(80,0.51),arrowprops=dict(facecolor='#BA55D3',shrink=0.05))"
   ]
  },
  {
   "cell_type": "markdown",
   "metadata": {},
   "source": [
    "\n",
    "\n",
    "\n",
    "## Basic Modeling & Evaluation\n",
    "### We choose 5 models and use 5-folds cross-calidation to evaluate these models.\n",
    "\n",
    "    · Logistic Regression\n",
    "    · k-Nearest Neighbors\n",
    "    · Random Forrest\n",
    "    · Gradient Boosting Decision Tree\n",
    "    · Support Vector Machine\n"
   ]
  },
  {
   "cell_type": "code",
   "execution_count": 111,
   "metadata": {},
   "outputs": [],
   "source": [
    "# Define all the predictors\n",
    "predictors=['age', 'gender', 'education',\n",
    "          'neuroticism', 'extraversion', \n",
    "          'openness_to_experience', 'agreeableness',\n",
    "          'conscientiousness', 'impulsiveness', 'sensation']"
   ]
  },
  {
   "cell_type": "code",
   "execution_count": 122,
   "metadata": {},
   "outputs": [],
   "source": [
    "from sklearn.model_selection import cross_val_score\n",
    "from sklearn.neighbors import KNeighborsClassifier\n",
    "from sklearn.linear_model import LogisticRegression\n",
    "from sklearn.naive_bayes import GaussianNB\n",
    "from sklearn.tree import DecisionTreeClassifier\n",
    "from sklearn.ensemble import RandomForestClassifier\n",
    "from sklearn.ensemble import GradientBoostingClassifier\n",
    "from sklearn.svm import SVC"
   ]
  },
  {
   "cell_type": "code",
   "execution_count": 123,
   "metadata": {},
   "outputs": [],
   "source": [
    "# Scale the data using MinMaxScaler\n",
    "from sklearn.preprocessing import MinMaxScaler\n",
    "X_scaler = MinMaxScaler().fit(X_train)\n",
    "\n",
    "X_train_scaled = X_scaler.transform(X_train)\n",
    "X_test_scaled = X_scaler.transform(X_test)"
   ]
  },
  {
   "cell_type": "code",
   "execution_count": 124,
   "metadata": {},
   "outputs": [],
   "source": [
    "models=[LogisticRegression(),KNeighborsClassifier(),RandomForestClassifier(),GradientBoostingClassifier(),SVC()]"
   ]
  },
  {
   "cell_type": "code",
   "execution_count": 125,
   "metadata": {},
   "outputs": [
    {
     "name": "stdout",
     "output_type": "stream",
     "text": [
      "LR:0.7912387539783976,[0.77738516 0.77385159 0.80212014 0.80141844 0.80141844]\n",
      "KNN:0.7791995589304062,[0.76325088 0.78798587 0.77738516 0.79078014 0.77659574]\n",
      "RF:0.7671804125003133,[0.77031802 0.72084806 0.7844523  0.79787234 0.76241135]\n",
      "GDBT:0.777086935819362,[0.77031802 0.75971731 0.77738516 0.78723404 0.79078014]\n",
      "SVM:0.8018544971556023,[0.80918728 0.78091873 0.795053   0.81560284 0.80851064]\n"
     ]
    }
   ],
   "source": [
    "# evaluate models by using cross-validation\n",
    "names=['LR','KNN','RF','GDBT','SVM']\n",
    "for name, model in zip(names,models):\n",
    "    score=cross_val_score(model,X_train,y_train,cv=5)\n",
    "    print(\"{}:{},{}\".format(name,score.mean(),score))"
   ]
  },
  {
   "cell_type": "code",
   "execution_count": 128,
   "metadata": {},
   "outputs": [
    {
     "data": {
      "text/plain": [
       "GradientBoostingClassifier(criterion='friedman_mse', init=None,\n",
       "                           learning_rate=0.1, loss='deviance', max_depth=3,\n",
       "                           max_features=None, max_leaf_nodes=None,\n",
       "                           min_impurity_decrease=0.0, min_impurity_split=None,\n",
       "                           min_samples_leaf=1, min_samples_split=2,\n",
       "                           min_weight_fraction_leaf=0.0, n_estimators=100,\n",
       "                           n_iter_no_change=None, presort='auto',\n",
       "                           random_state=None, subsample=1.0, tol=0.0001,\n",
       "                           validation_fraction=0.1, verbose=0,\n",
       "                           warm_start=False)"
      ]
     },
     "execution_count": 128,
     "metadata": {},
     "output_type": "execute_result"
    }
   ],
   "source": [
    "## 1) We notice that Support Vector Machine and Logistic Regression might perform better on scaled data;\n",
    "\n",
    "## 2) Then we will use GradientBoostingClassifier to see which features are important\n",
    "\n",
    "model=GradientBoostingClassifier()\n",
    "model.fit(X_train,y_train)"
   ]
  },
  {
   "cell_type": "code",
   "execution_count": 129,
   "metadata": {},
   "outputs": [
    {
     "data": {
      "text/plain": [
       "array([0.08613484, 0.03061461, 0.07559287, 0.05290929, 0.09865953,\n",
       "       0.19395601, 0.08048554, 0.12929585, 0.01819414, 0.23415731])"
      ]
     },
     "execution_count": 129,
     "metadata": {},
     "output_type": "execute_result"
    }
   ],
   "source": [
    "model.feature_importances_"
   ]
  },
  {
   "cell_type": "code",
   "execution_count": 131,
   "metadata": {},
   "outputs": [
    {
     "data": {
      "text/html": [
       "<div>\n",
       "<style scoped>\n",
       "    .dataframe tbody tr th:only-of-type {\n",
       "        vertical-align: middle;\n",
       "    }\n",
       "\n",
       "    .dataframe tbody tr th {\n",
       "        vertical-align: top;\n",
       "    }\n",
       "\n",
       "    .dataframe thead th {\n",
       "        text-align: right;\n",
       "    }\n",
       "</style>\n",
       "<table border=\"1\" class=\"dataframe\">\n",
       "  <thead>\n",
       "    <tr style=\"text-align: right;\">\n",
       "      <th></th>\n",
       "      <th>importance</th>\n",
       "    </tr>\n",
       "  </thead>\n",
       "  <tbody>\n",
       "    <tr>\n",
       "      <th>sensation</th>\n",
       "      <td>0.234157</td>\n",
       "    </tr>\n",
       "    <tr>\n",
       "      <th>openness_to_experience</th>\n",
       "      <td>0.193956</td>\n",
       "    </tr>\n",
       "    <tr>\n",
       "      <th>conscientiousness</th>\n",
       "      <td>0.129296</td>\n",
       "    </tr>\n",
       "    <tr>\n",
       "      <th>extraversion</th>\n",
       "      <td>0.098660</td>\n",
       "    </tr>\n",
       "    <tr>\n",
       "      <th>age</th>\n",
       "      <td>0.086135</td>\n",
       "    </tr>\n",
       "    <tr>\n",
       "      <th>agreeableness</th>\n",
       "      <td>0.080486</td>\n",
       "    </tr>\n",
       "    <tr>\n",
       "      <th>education</th>\n",
       "      <td>0.075593</td>\n",
       "    </tr>\n",
       "    <tr>\n",
       "      <th>neuroticism</th>\n",
       "      <td>0.052909</td>\n",
       "    </tr>\n",
       "    <tr>\n",
       "      <th>gender</th>\n",
       "      <td>0.030615</td>\n",
       "    </tr>\n",
       "    <tr>\n",
       "      <th>impulsiveness</th>\n",
       "      <td>0.018194</td>\n",
       "    </tr>\n",
       "  </tbody>\n",
       "</table>\n",
       "</div>"
      ],
      "text/plain": [
       "                        importance\n",
       "sensation                 0.234157\n",
       "openness_to_experience    0.193956\n",
       "conscientiousness         0.129296\n",
       "extraversion              0.098660\n",
       "age                       0.086135\n",
       "agreeableness             0.080486\n",
       "education                 0.075593\n",
       "neuroticism               0.052909\n",
       "gender                    0.030615\n",
       "impulsiveness             0.018194"
      ]
     },
     "execution_count": 131,
     "metadata": {},
     "output_type": "execute_result"
    }
   ],
   "source": [
    "FI=pd.DataFrame({'importance':model.feature_importances_},index=X_train.columns)\n",
    "FI.sort_values('importance',ascending=False)"
   ]
  },
  {
   "cell_type": "code",
   "execution_count": 132,
   "metadata": {},
   "outputs": [
    {
     "data": {
      "text/plain": [
       "Text(0.5, 1.0, 'Feature Importance')"
      ]
     },
     "execution_count": 132,
     "metadata": {},
     "output_type": "execute_result"
    },
    {
     "data": {
      "image/png": "[encoded data removed]",
      "text/plain": [
       "<Figure size 792x504 with 1 Axes>"
      ]
     },
     "metadata": {
      "needs_background": "light"
     },
     "output_type": "display_data"
    }
   ],
   "source": [
    "FI.sort_values('importance',ascending=False).plot.bar(figsize=(11,7))\n",
    "plt.xticks(rotation=30)\n",
    "plt.title('Feature Importance',size='x-large')"
   ]
  },
  {
   "cell_type": "code",
   "execution_count": 141,
   "metadata": {},
   "outputs": [
    {
     "data": {
      "text/plain": [
       "<matplotlib.axes._subplots.AxesSubplot at 0x1dc0c3c0390>"
      ]
     },
     "execution_count": 141,
     "metadata": {},
     "output_type": "execute_result"
    },
    {
     "data": {
      "image/png": "[encoded data removed]",
      "text/plain": [
       "<Figure size 864x864 with 2 Axes>"
      ]
     },
     "metadata": {
      "needs_background": "light"
     },
     "output_type": "display_data"
    }
   ],
   "source": [
    "# Draw a Correlation cheatmap for all the features\n",
    "colormap = plt.cm.viridis\n",
    "plt.figure(figsize=(12,12))\n",
    "plt.title('Correlation of Features', y=1.05, size=20)\n",
    "sns.heatmap(X_train[['age', 'gender', 'education',\n",
    "          'neuroticism', 'extraversion', \n",
    "          'openness_to_experience', 'agreeableness',\n",
    "          'conscientiousness', 'impulsiveness', 'sensation']].astype(float).corr(),linewidths=0.1,vmax=1.0, square=True, cmap=colormap, linecolor='white', annot=True)"
   ]
  },
  {
   "cell_type": "markdown",
   "metadata": {},
   "source": [
    "##### k-Nearest Neighbors"
   ]
  },
  {
   "cell_type": "code",
   "execution_count": 155,
   "metadata": {},
   "outputs": [
    {
     "data": {
      "text/plain": [
       "({'n_neighbors': 10}, 0.7933474876150035)"
      ]
     },
     "execution_count": 155,
     "metadata": {},
     "output_type": "execute_result"
    }
   ],
   "source": [
    "from sklearn.model_selection import GridSearchCV\n",
    "\n",
    "param_grid={'n_neighbors':[1,2,3,4,5,6,7,8,9,10]}\n",
    "grid_search=GridSearchCV(KNeighborsClassifier(),param_grid,cv=5)\n",
    "\n",
    "grid_search.fit(X_train,y_train)\n",
    "\n",
    "grid_search.best_params_,grid_search.best_score_"
   ]
  },
  {
   "cell_type": "code",
   "execution_count": 172,
   "metadata": {},
   "outputs": [
    {
     "name": "stderr",
     "output_type": "stream",
     "text": [
      "C:\\Users\\CY\\Anaconda3\\lib\\site-packages\\sklearn\\model_selection\\_search.py:813: DeprecationWarning: The default of the `iid` parameter will change from True to False in version 0.22 and will be removed in 0.24. This will change numeric results when test-set sizes are unequal.\n",
      "  DeprecationWarning)\n"
     ]
    },
    {
     "data": {
      "text/plain": [
       "({'n_neighbors': 9}, 0.8347457627118644)"
      ]
     },
     "execution_count": 172,
     "metadata": {},
     "output_type": "execute_result"
    }
   ],
   "source": [
    "# test scores\n",
    "grid_search.fit(X_test,y_test)\n",
    "grid_search.best_params_,grid_search.best_score_"
   ]
  },
  {
   "cell_type": "markdown",
   "metadata": {},
   "source": [
    "###### Support Vector Machine"
   ]
  },
  {
   "cell_type": "code",
   "execution_count": 156,
   "metadata": {},
   "outputs": [
    {
     "name": "stdout",
     "output_type": "stream",
     "text": [
      "Training Data Score: 0.7806086341118188\n",
      "Testing Data Score: 0.7817796610169492\n"
     ]
    }
   ],
   "source": [
    "# Create SVC model\n",
    "from sklearn.svm import SVC\n",
    "SVCmodel = SVC(kernel='linear')\n",
    "SVCmodel.fit(X_train_scaled, y_train)\n",
    "\n",
    "print(f\"Training Data Score: {SVCmodel.score(X_train_scaled, y_train)}\")\n",
    "print(f\"Testing Data Score: {SVCmodel.score(X_test_scaled, y_test)}\")"
   ]
  },
  {
   "cell_type": "code",
   "execution_count": 157,
   "metadata": {},
   "outputs": [],
   "source": [
    "# Create the GridSearchCV model for SVC model\n",
    "from sklearn.model_selection import GridSearchCV\n",
    "svc_param_grid = {'C': [1, 5, 10],\n",
    "              'gamma': [0.0001, 0.001, 0.01],\n",
    "              'kernel': ['linear']}\n",
    "svc_grid = GridSearchCV(SVCmodel, svc_param_grid, verbose=3)"
   ]
  },
  {
   "cell_type": "code",
   "execution_count": 158,
   "metadata": {},
   "outputs": [
    {
     "name": "stdout",
     "output_type": "stream",
     "text": [
      "Fitting 3 folds for each of 9 candidates, totalling 27 fits\n",
      "[CV] C=1, gamma=0.0001, kernel=linear ................................\n",
      "[CV] .... C=1, gamma=0.0001, kernel=linear, score=0.780, total=   0.0s\n",
      "[CV] C=1, gamma=0.0001, kernel=linear ................................\n",
      "[CV] .... C=1, gamma=0.0001, kernel=linear, score=0.781, total=   0.0s\n",
      "[CV] C=1, gamma=0.0001, kernel=linear ................................\n",
      "[CV] .... C=1, gamma=0.0001, kernel=linear, score=0.781, total=   0.0s\n",
      "[CV] C=1, gamma=0.001, kernel=linear .................................\n",
      "[CV] ..... C=1, gamma=0.001, kernel=linear, score=0.780, total=   0.0s\n",
      "[CV] C=1, gamma=0.001, kernel=linear .................................\n",
      "[CV] ..... C=1, gamma=0.001, kernel=linear, score=0.781, total=   0.0s\n",
      "[CV] C=1, gamma=0.001, kernel=linear .................................\n",
      "[CV] ..... C=1, gamma=0.001, kernel=linear, score=0.781, total=   0.0s\n",
      "[CV] C=1, gamma=0.01, kernel=linear ..................................\n",
      "[CV] ...... C=1, gamma=0.01, kernel=linear, score=0.780, total=   0.0s\n",
      "[CV] C=1, gamma=0.01, kernel=linear ..................................\n",
      "[CV] ...... C=1, gamma=0.01, kernel=linear, score=0.781, total=   0.0s\n",
      "[CV] C=1, gamma=0.01, kernel=linear ..................................\n",
      "[CV] ...... C=1, gamma=0.01, kernel=linear, score=0.781, total=   0.0s\n",
      "[CV] C=5, gamma=0.0001, kernel=linear ................................\n",
      "[CV] .... C=5, gamma=0.0001, kernel=linear, score=0.786, total=   0.0s\n",
      "[CV] C=5, gamma=0.0001, kernel=linear ................................\n"
     ]
    },
    {
     "name": "stderr",
     "output_type": "stream",
     "text": [
      "[Parallel(n_jobs=1)]: Using backend SequentialBackend with 1 concurrent workers.\n",
      "[Parallel(n_jobs=1)]: Done   1 out of   1 | elapsed:    0.0s remaining:    0.0s\n",
      "[Parallel(n_jobs=1)]: Done   2 out of   2 | elapsed:    0.0s remaining:    0.0s\n"
     ]
    },
    {
     "name": "stdout",
     "output_type": "stream",
     "text": [
      "[CV] .... C=5, gamma=0.0001, kernel=linear, score=0.781, total=   0.0s\n",
      "[CV] C=5, gamma=0.0001, kernel=linear ................................\n",
      "[CV] .... C=5, gamma=0.0001, kernel=linear, score=0.781, total=   0.0s\n",
      "[CV] C=5, gamma=0.001, kernel=linear .................................\n",
      "[CV] ..... C=5, gamma=0.001, kernel=linear, score=0.786, total=   0.0s\n",
      "[CV] C=5, gamma=0.001, kernel=linear .................................\n",
      "[CV] ..... C=5, gamma=0.001, kernel=linear, score=0.781, total=   0.0s\n",
      "[CV] C=5, gamma=0.001, kernel=linear .................................\n",
      "[CV] ..... C=5, gamma=0.001, kernel=linear, score=0.781, total=   0.0s\n",
      "[CV] C=5, gamma=0.01, kernel=linear ..................................\n",
      "[CV] ...... C=5, gamma=0.01, kernel=linear, score=0.786, total=   0.0s\n",
      "[CV] C=5, gamma=0.01, kernel=linear ..................................\n",
      "[CV] ...... C=5, gamma=0.01, kernel=linear, score=0.781, total=   0.0s\n",
      "[CV] C=5, gamma=0.01, kernel=linear ..................................\n",
      "[CV] ...... C=5, gamma=0.01, kernel=linear, score=0.781, total=   0.0s\n",
      "[CV] C=10, gamma=0.0001, kernel=linear ...............................\n",
      "[CV] ... C=10, gamma=0.0001, kernel=linear, score=0.782, total=   0.0s\n",
      "[CV] C=10, gamma=0.0001, kernel=linear ...............................\n",
      "[CV] ... C=10, gamma=0.0001, kernel=linear, score=0.781, total=   0.0s\n",
      "[CV] C=10, gamma=0.0001, kernel=linear ...............................\n",
      "[CV] ... C=10, gamma=0.0001, kernel=linear, score=0.781, total=   0.0s\n",
      "[CV] C=10, gamma=0.001, kernel=linear ................................\n",
      "[CV] .... C=10, gamma=0.001, kernel=linear, score=0.782, total=   0.0s\n",
      "[CV] C=10, gamma=0.001, kernel=linear ................................\n",
      "[CV] .... C=10, gamma=0.001, kernel=linear, score=0.781, total=   0.0s\n",
      "[CV] C=10, gamma=0.001, kernel=linear ................................\n",
      "[CV] .... C=10, gamma=0.001, kernel=linear, score=0.781, total=   0.0s\n",
      "[CV] C=10, gamma=0.01, kernel=linear .................................\n",
      "[CV] ..... C=10, gamma=0.01, kernel=linear, score=0.782, total=   0.0s\n",
      "[CV] C=10, gamma=0.01, kernel=linear .................................\n",
      "[CV] ..... C=10, gamma=0.01, kernel=linear, score=0.781, total=   0.0s\n",
      "[CV] C=10, gamma=0.01, kernel=linear .................................\n",
      "[CV] ..... C=10, gamma=0.01, kernel=linear, score=0.781, total=   0.0s\n"
     ]
    },
    {
     "name": "stderr",
     "output_type": "stream",
     "text": [
      "[Parallel(n_jobs=1)]: Done  27 out of  27 | elapsed:    0.4s finished\n"
     ]
    },
    {
     "data": {
      "text/plain": [
       "GridSearchCV(cv='warn', error_score='raise-deprecating',\n",
       "             estimator=SVC(C=1.0, cache_size=200, class_weight=None, coef0=0.0,\n",
       "                           decision_function_shape='ovr', degree=3,\n",
       "                           gamma='auto_deprecated', kernel='linear',\n",
       "                           max_iter=-1, probability=False, random_state=None,\n",
       "                           shrinking=True, tol=0.001, verbose=False),\n",
       "             iid='warn', n_jobs=None,\n",
       "             param_grid={'C': [1, 5, 10], 'gamma': [0.0001, 0.001, 0.01],\n",
       "                         'kernel': ['linear']},\n",
       "             pre_dispatch='2*n_jobs', refit=True, return_train_score=False,\n",
       "             scoring=None, verbose=3)"
      ]
     },
     "execution_count": 158,
     "metadata": {},
     "output_type": "execute_result"
    }
   ],
   "source": [
    "# Fit the model using the grid search estimator\n",
    "svc_grid.fit(X_train_scaled, y_train)"
   ]
  },
  {
   "cell_type": "code",
   "execution_count": 159,
   "metadata": {},
   "outputs": [
    {
     "name": "stdout",
     "output_type": "stream",
     "text": [
      "{'C': 5, 'gamma': 0.0001, 'kernel': 'linear'}\n",
      "0.7827317763623496\n"
     ]
    }
   ],
   "source": [
    "# Print scores for SVC\n",
    "print(svc_grid.best_params_)\n",
    "print(svc_grid.best_score_)"
   ]
  },
  {
   "cell_type": "markdown",
   "metadata": {},
   "source": [
    "##### Logistic Regression model"
   ]
  },
  {
   "cell_type": "code",
   "execution_count": 160,
   "metadata": {},
   "outputs": [
    {
     "name": "stdout",
     "output_type": "stream",
     "text": [
      "Training Data Score: 0.7983014861995754\n",
      "Testing Data Score: 0.826271186440678\n"
     ]
    }
   ],
   "source": [
    "# Logistic Regression model\n",
    "from sklearn.linear_model import LogisticRegression\n",
    "model_log = LogisticRegression()\n",
    "\n",
    "# Train the model\n",
    "model_log.fit(X_train_scaled, y_train)\n",
    "\n",
    "# Print scores\n",
    "print(f\"Training Data Score: {model_log.score(X_train_scaled, y_train)}\")\n",
    "print(f\"Testing Data Score: {model_log.score(X_test_scaled, y_test)}\")"
   ]
  },
  {
   "cell_type": "code",
   "execution_count": 161,
   "metadata": {},
   "outputs": [],
   "source": [
    "# Create the GridSearchCV model for logistic regression\n",
    "from sklearn.model_selection import GridSearchCV\n",
    "\n",
    "logistic_param_grid = {\"penalty\": ['l1', 'l2'],\n",
    "              \"C\": np.logspace(0, 4, 10)}\n",
    "logistic_grid = GridSearchCV(model_log, logistic_param_grid, cv=5, verbose=3)"
   ]
  },
  {
   "cell_type": "code",
   "execution_count": 162,
   "metadata": {
    "scrolled": false
   },
   "outputs": [
    {
     "name": "stdout",
     "output_type": "stream",
     "text": [
      "Fitting 5 folds for each of 20 candidates, totalling 100 fits\n",
      "[CV] C=1.0, penalty=l1 ...............................................\n",
      "[CV] ................... C=1.0, penalty=l1, score=0.777, total=   0.0s\n",
      "[CV] C=1.0, penalty=l1 ...............................................\n",
      "[CV] ................... C=1.0, penalty=l1, score=0.774, total=   0.0s\n",
      "[CV] C=1.0, penalty=l1 ...............................................\n",
      "[CV] ................... C=1.0, penalty=l1, score=0.802, total=   0.0s\n",
      "[CV] C=1.0, penalty=l1 ...............................................\n",
      "[CV] ................... C=1.0, penalty=l1, score=0.805, total=   0.0s\n",
      "[CV] C=1.0, penalty=l1 ...............................................\n",
      "[CV] ................... C=1.0, penalty=l1, score=0.801, total=   0.0s\n",
      "[CV] C=1.0, penalty=l2 ...............................................\n",
      "[CV] ................... C=1.0, penalty=l2, score=0.777, total=   0.0s\n",
      "[CV] C=1.0, penalty=l2 ...............................................\n",
      "[CV] ................... C=1.0, penalty=l2, score=0.774, total=   0.0s\n",
      "[CV] C=1.0, penalty=l2 ...............................................\n",
      "[CV] ................... C=1.0, penalty=l2, score=0.802, total=   0.0s\n",
      "[CV] C=1.0, penalty=l2 ...............................................\n",
      "[CV] ................... C=1.0, penalty=l2, score=0.801, total=   0.0s\n",
      "[CV] C=1.0, penalty=l2 ...............................................\n",
      "[CV] ................... C=1.0, penalty=l2, score=0.801, total=   0.0s\n",
      "[CV] C=2.7825594022071245, penalty=l1 ................................\n",
      "[CV] .... C=2.7825594022071245, penalty=l1, score=0.777, total=   0.0s\n",
      "[CV] C=2.7825594022071245, penalty=l1 ................................\n",
      "[CV] .... C=2.7825594022071245, penalty=l1, score=0.774, total=   0.0s\n",
      "[CV] C=2.7825594022071245, penalty=l1 ................................\n",
      "[CV] .... C=2.7825594022071245, penalty=l1, score=0.802, total=   0.0s\n",
      "[CV] C=2.7825594022071245, penalty=l1 ................................\n",
      "[CV] .... C=2.7825594022071245, penalty=l1, score=0.801, total=   0.0s\n",
      "[CV] C=2.7825594022071245, penalty=l1 ................................\n",
      "[CV] .... C=2.7825594022071245, penalty=l1, score=0.801, total=   0.0s\n",
      "[CV] C=2.7825594022071245, penalty=l2 ................................\n",
      "[CV] .... C=2.7825594022071245, penalty=l2, score=0.777, total=   0.0s\n",
      "[CV] C=2.7825594022071245, penalty=l2 ................................\n",
      "[CV] .... C=2.7825594022071245, penalty=l2, score=0.774, total=   0.0s\n",
      "[CV] C=2.7825594022071245, penalty=l2 ................................\n",
      "[CV] .... C=2.7825594022071245, penalty=l2, score=0.802, total=   0.0s\n",
      "[CV] C=2.7825594022071245, penalty=l2 ................................\n",
      "[CV] .... C=2.7825594022071245, penalty=l2, score=0.801, total=   0.0s\n",
      "[CV] C=2.7825594022071245, penalty=l2 ................................\n",
      "[CV] .... C=2.7825594022071245, penalty=l2, score=0.801, total=   0.0s\n",
      "[CV] C=7.742636826811269, penalty=l1 .................................\n",
      "[CV] ..... C=7.742636826811269, penalty=l1, score=0.777, total=   0.0s\n",
      "[CV] C=7.742636826811269, penalty=l1 .................................\n",
      "[CV] ..... C=7.742636826811269, penalty=l1, score=0.774, total=   0.0s\n",
      "[CV] C=7.742636826811269, penalty=l1 .................................\n"
     ]
    },
    {
     "name": "stderr",
     "output_type": "stream",
     "text": [
      "[Parallel(n_jobs=1)]: Using backend SequentialBackend with 1 concurrent workers.\n",
      "[Parallel(n_jobs=1)]: Done   1 out of   1 | elapsed:    0.0s remaining:    0.0s\n",
      "[Parallel(n_jobs=1)]: Done   2 out of   2 | elapsed:    0.0s remaining:    0.0s\n"
     ]
    },
    {
     "name": "stdout",
     "output_type": "stream",
     "text": [
      "[CV] ..... C=7.742636826811269, penalty=l1, score=0.802, total=   0.0s\n",
      "[CV] C=7.742636826811269, penalty=l1 .................................\n",
      "[CV] ..... C=7.742636826811269, penalty=l1, score=0.801, total=   0.0s\n",
      "[CV] C=7.742636826811269, penalty=l1 .................................\n",
      "[CV] ..... C=7.742636826811269, penalty=l1, score=0.801, total=   0.0s\n",
      "[CV] C=7.742636826811269, penalty=l2 .................................\n",
      "[CV] ..... C=7.742636826811269, penalty=l2, score=0.777, total=   0.0s\n",
      "[CV] C=7.742636826811269, penalty=l2 .................................\n",
      "[CV] ..... C=7.742636826811269, penalty=l2, score=0.774, total=   0.0s\n",
      "[CV] C=7.742636826811269, penalty=l2 .................................\n",
      "[CV] ..... C=7.742636826811269, penalty=l2, score=0.802, total=   0.0s\n",
      "[CV] C=7.742636826811269, penalty=l2 .................................\n",
      "[CV] ..... C=7.742636826811269, penalty=l2, score=0.801, total=   0.0s\n",
      "[CV] C=7.742636826811269, penalty=l2 .................................\n",
      "[CV] ..... C=7.742636826811269, penalty=l2, score=0.801, total=   0.0s\n",
      "[CV] C=21.544346900318832, penalty=l1 ................................\n",
      "[CV] .... C=21.544346900318832, penalty=l1, score=0.777, total=   0.0s\n",
      "[CV] C=21.544346900318832, penalty=l1 ................................\n",
      "[CV] .... C=21.544346900318832, penalty=l1, score=0.774, total=   0.0s\n",
      "[CV] C=21.544346900318832, penalty=l1 ................................\n",
      "[CV] .... C=21.544346900318832, penalty=l1, score=0.802, total=   0.0s\n",
      "[CV] C=21.544346900318832, penalty=l1 ................................\n",
      "[CV] .... C=21.544346900318832, penalty=l1, score=0.801, total=   0.0s\n",
      "[CV] C=21.544346900318832, penalty=l1 ................................\n",
      "[CV] .... C=21.544346900318832, penalty=l1, score=0.801, total=   0.0s\n",
      "[CV] C=21.544346900318832, penalty=l2 ................................\n",
      "[CV] .... C=21.544346900318832, penalty=l2, score=0.777, total=   0.0s\n",
      "[CV] C=21.544346900318832, penalty=l2 ................................\n",
      "[CV] .... C=21.544346900318832, penalty=l2, score=0.774, total=   0.0s\n",
      "[CV] C=21.544346900318832, penalty=l2 ................................\n",
      "[CV] .... C=21.544346900318832, penalty=l2, score=0.802, total=   0.0s\n",
      "[CV] C=21.544346900318832, penalty=l2 ................................\n",
      "[CV] .... C=21.544346900318832, penalty=l2, score=0.801, total=   0.0s\n",
      "[CV] C=21.544346900318832, penalty=l2 ................................\n",
      "[CV] .... C=21.544346900318832, penalty=l2, score=0.801, total=   0.0s\n",
      "[CV] C=59.94842503189409, penalty=l1 .................................\n",
      "[CV] ..... C=59.94842503189409, penalty=l1, score=0.777, total=   0.0s\n",
      "[CV] C=59.94842503189409, penalty=l1 .................................\n",
      "[CV] ..... C=59.94842503189409, penalty=l1, score=0.774, total=   0.0s\n",
      "[CV] C=59.94842503189409, penalty=l1 .................................\n",
      "[CV] ..... C=59.94842503189409, penalty=l1, score=0.802, total=   0.0s\n",
      "[CV] C=59.94842503189409, penalty=l1 .................................\n",
      "[CV] ..... C=59.94842503189409, penalty=l1, score=0.801, total=   0.0s\n",
      "[CV] C=59.94842503189409, penalty=l1 .................................\n",
      "[CV] ..... C=59.94842503189409, penalty=l1, score=0.801, total=   0.0s\n",
      "[CV] C=59.94842503189409, penalty=l2 .................................\n",
      "[CV] ..... C=59.94842503189409, penalty=l2, score=0.777, total=   0.0s\n",
      "[CV] C=59.94842503189409, penalty=l2 .................................\n",
      "[CV] ..... C=59.94842503189409, penalty=l2, score=0.774, total=   0.0s\n",
      "[CV] C=59.94842503189409, penalty=l2 .................................\n",
      "[CV] ..... C=59.94842503189409, penalty=l2, score=0.802, total=   0.0s\n",
      "[CV] C=59.94842503189409, penalty=l2 .................................\n",
      "[CV] ..... C=59.94842503189409, penalty=l2, score=0.801, total=   0.0s\n",
      "[CV] C=59.94842503189409, penalty=l2 .................................\n",
      "[CV] ..... C=59.94842503189409, penalty=l2, score=0.801, total=   0.0s\n",
      "[CV] C=166.81005372000593, penalty=l1 ................................\n",
      "[CV] .... C=166.81005372000593, penalty=l1, score=0.777, total=   0.0s\n",
      "[CV] C=166.81005372000593, penalty=l1 ................................\n",
      "[CV] .... C=166.81005372000593, penalty=l1, score=0.774, total=   0.0s\n",
      "[CV] C=166.81005372000593, penalty=l1 ................................\n",
      "[CV] .... C=166.81005372000593, penalty=l1, score=0.802, total=   0.0s\n",
      "[CV] C=166.81005372000593, penalty=l1 ................................\n",
      "[CV] .... C=166.81005372000593, penalty=l1, score=0.801, total=   0.0s\n",
      "[CV] C=166.81005372000593, penalty=l1 ................................\n",
      "[CV] .... C=166.81005372000593, penalty=l1, score=0.801, total=   0.0s\n",
      "[CV] C=166.81005372000593, penalty=l2 ................................\n",
      "[CV] .... C=166.81005372000593, penalty=l2, score=0.777, total=   0.0s\n",
      "[CV] C=166.81005372000593, penalty=l2 ................................\n",
      "[CV] .... C=166.81005372000593, penalty=l2, score=0.774, total=   0.0s\n",
      "[CV] C=166.81005372000593, penalty=l2 ................................\n",
      "[CV] .... C=166.81005372000593, penalty=l2, score=0.802, total=   0.0s\n",
      "[CV] C=166.81005372000593, penalty=l2 ................................\n",
      "[CV] .... C=166.81005372000593, penalty=l2, score=0.801, total=   0.0s\n",
      "[CV] C=166.81005372000593, penalty=l2 ................................\n",
      "[CV] .... C=166.81005372000593, penalty=l2, score=0.801, total=   0.0s\n",
      "[CV] C=464.15888336127773, penalty=l1 ................................\n",
      "[CV] .... C=464.15888336127773, penalty=l1, score=0.777, total=   0.0s\n",
      "[CV] C=464.15888336127773, penalty=l1 ................................\n",
      "[CV] .... C=464.15888336127773, penalty=l1, score=0.774, total=   0.0s\n",
      "[CV] C=464.15888336127773, penalty=l1 ................................\n",
      "[CV] .... C=464.15888336127773, penalty=l1, score=0.802, total=   0.0s\n",
      "[CV] C=464.15888336127773, penalty=l1 ................................\n",
      "[CV] .... C=464.15888336127773, penalty=l1, score=0.801, total=   0.0s\n",
      "[CV] C=464.15888336127773, penalty=l1 ................................\n",
      "[CV] .... C=464.15888336127773, penalty=l1, score=0.801, total=   0.0s\n",
      "[CV] C=464.15888336127773, penalty=l2 ................................\n",
      "[CV] .... C=464.15888336127773, penalty=l2, score=0.777, total=   0.0s\n",
      "[CV] C=464.15888336127773, penalty=l2 ................................\n",
      "[CV] .... C=464.15888336127773, penalty=l2, score=0.774, total=   0.0s\n",
      "[CV] C=464.15888336127773, penalty=l2 ................................\n",
      "[CV] .... C=464.15888336127773, penalty=l2, score=0.802, total=   0.0s\n",
      "[CV] C=464.15888336127773, penalty=l2 ................................\n",
      "[CV] .... C=464.15888336127773, penalty=l2, score=0.801, total=   0.0s\n",
      "[CV] C=464.15888336127773, penalty=l2 ................................\n",
      "[CV] .... C=464.15888336127773, penalty=l2, score=0.801, total=   0.0s\n",
      "[CV] C=1291.5496650148827, penalty=l1 ................................\n",
      "[CV] .... C=1291.5496650148827, penalty=l1, score=0.777, total=   0.0s\n",
      "[CV] C=1291.5496650148827, penalty=l1 ................................\n",
      "[CV] .... C=1291.5496650148827, penalty=l1, score=0.774, total=   0.0s\n",
      "[CV] C=1291.5496650148827, penalty=l1 ................................\n",
      "[CV] .... C=1291.5496650148827, penalty=l1, score=0.802, total=   0.0s\n",
      "[CV] C=1291.5496650148827, penalty=l1 ................................\n",
      "[CV] .... C=1291.5496650148827, penalty=l1, score=0.801, total=   0.0s\n",
      "[CV] C=1291.5496650148827, penalty=l1 ................................\n",
      "[CV] .... C=1291.5496650148827, penalty=l1, score=0.801, total=   0.0s\n",
      "[CV] C=1291.5496650148827, penalty=l2 ................................\n",
      "[CV] .... C=1291.5496650148827, penalty=l2, score=0.777, total=   0.0s\n",
      "[CV] C=1291.5496650148827, penalty=l2 ................................\n",
      "[CV] .... C=1291.5496650148827, penalty=l2, score=0.774, total=   0.0s\n",
      "[CV] C=1291.5496650148827, penalty=l2 ................................\n",
      "[CV] .... C=1291.5496650148827, penalty=l2, score=0.802, total=   0.0s\n",
      "[CV] C=1291.5496650148827, penalty=l2 ................................\n",
      "[CV] .... C=1291.5496650148827, penalty=l2, score=0.801, total=   0.0s\n",
      "[CV] C=1291.5496650148827, penalty=l2 ................................\n",
      "[CV] .... C=1291.5496650148827, penalty=l2, score=0.801, total=   0.0s\n",
      "[CV] C=3593.813663804626, penalty=l1 .................................\n",
      "[CV] ..... C=3593.813663804626, penalty=l1, score=0.777, total=   0.0s\n",
      "[CV] C=3593.813663804626, penalty=l1 .................................\n",
      "[CV] ..... C=3593.813663804626, penalty=l1, score=0.774, total=   0.0s\n",
      "[CV] C=3593.813663804626, penalty=l1 .................................\n",
      "[CV] ..... C=3593.813663804626, penalty=l1, score=0.802, total=   0.0s\n",
      "[CV] C=3593.813663804626, penalty=l1 .................................\n",
      "[CV] ..... C=3593.813663804626, penalty=l1, score=0.801, total=   0.0s\n",
      "[CV] C=3593.813663804626, penalty=l1 .................................\n",
      "[CV] ..... C=3593.813663804626, penalty=l1, score=0.801, total=   0.0s\n",
      "[CV] C=3593.813663804626, penalty=l2 .................................\n",
      "[CV] ..... C=3593.813663804626, penalty=l2, score=0.777, total=   0.0s\n",
      "[CV] C=3593.813663804626, penalty=l2 .................................\n",
      "[CV] ..... C=3593.813663804626, penalty=l2, score=0.774, total=   0.0s\n",
      "[CV] C=3593.813663804626, penalty=l2 .................................\n",
      "[CV] ..... C=3593.813663804626, penalty=l2, score=0.802, total=   0.0s\n",
      "[CV] C=3593.813663804626, penalty=l2 .................................\n",
      "[CV] ..... C=3593.813663804626, penalty=l2, score=0.801, total=   0.0s\n",
      "[CV] C=3593.813663804626, penalty=l2 .................................\n",
      "[CV] ..... C=3593.813663804626, penalty=l2, score=0.801, total=   0.0s\n",
      "[CV] C=10000.0, penalty=l1 ...........................................\n",
      "[CV] ............... C=10000.0, penalty=l1, score=0.777, total=   0.0s\n",
      "[CV] C=10000.0, penalty=l1 ...........................................\n",
      "[CV] ............... C=10000.0, penalty=l1, score=0.774, total=   0.0s\n",
      "[CV] C=10000.0, penalty=l1 ...........................................\n",
      "[CV] ............... C=10000.0, penalty=l1, score=0.802, total=   0.0s\n",
      "[CV] C=10000.0, penalty=l1 ...........................................\n",
      "[CV] ............... C=10000.0, penalty=l1, score=0.801, total=   0.0s\n",
      "[CV] C=10000.0, penalty=l1 ...........................................\n",
      "[CV] ............... C=10000.0, penalty=l1, score=0.801, total=   0.0s\n",
      "[CV] C=10000.0, penalty=l2 ...........................................\n",
      "[CV] ............... C=10000.0, penalty=l2, score=0.777, total=   0.0s\n",
      "[CV] C=10000.0, penalty=l2 ...........................................\n",
      "[CV] ............... C=10000.0, penalty=l2, score=0.774, total=   0.0s\n",
      "[CV] C=10000.0, penalty=l2 ...........................................\n",
      "[CV] ............... C=10000.0, penalty=l2, score=0.802, total=   0.0s\n",
      "[CV] C=10000.0, penalty=l2 ...........................................\n",
      "[CV] ............... C=10000.0, penalty=l2, score=0.801, total=   0.0s\n",
      "[CV] C=10000.0, penalty=l2 ...........................................\n",
      "[CV] ............... C=10000.0, penalty=l2, score=0.801, total=   0.0s\n"
     ]
    },
    {
     "name": "stderr",
     "output_type": "stream",
     "text": [
      "[Parallel(n_jobs=1)]: Done 100 out of 100 | elapsed:    0.6s finished\n"
     ]
    },
    {
     "data": {
      "text/plain": [
       "GridSearchCV(cv=5, error_score='raise-deprecating',\n",
       "             estimator=LogisticRegression(C=1.0, class_weight=None, dual=False,\n",
       "                                          fit_intercept=True,\n",
       "                                          intercept_scaling=1, l1_ratio=None,\n",
       "                                          max_iter=100, multi_class='warn',\n",
       "                                          n_jobs=None, penalty='l2',\n",
       "                                          random_state=None, solver='warn',\n",
       "                                          tol=0.0001, verbose=0,\n",
       "                                          warm_start=False),\n",
       "             iid='warn', n_jobs=None,\n",
       "             param_grid={'C': array([1.00000000e+00, 2.78255940e+00, 7.74263683e+00, 2.15443469e+01,\n",
       "       5.99484250e+01, 1.66810054e+02, 4.64158883e+02, 1.29154967e+03,\n",
       "       3.59381366e+03, 1.00000000e+04]),\n",
       "                         'penalty': ['l1', 'l2']},\n",
       "             pre_dispatch='2*n_jobs', refit=True, return_train_score=False,\n",
       "             scoring=None, verbose=3)"
      ]
     },
     "execution_count": 162,
     "metadata": {},
     "output_type": "execute_result"
    }
   ],
   "source": [
    "# Fit the model using the grid search estimator\n",
    "logistic_grid.fit(X_train, y_train)"
   ]
  },
  {
   "cell_type": "code",
   "execution_count": 163,
   "metadata": {},
   "outputs": [
    {
     "name": "stdout",
     "output_type": "stream",
     "text": [
      "{'C': 1.0, 'penalty': 'l1'}\n",
      "0.7919320594479831\n"
     ]
    }
   ],
   "source": [
    "# Print scores for Logistic Regression\n",
    "print(logistic_grid.best_params_)\n",
    "print(logistic_grid.best_score_)"
   ]
  },
  {
   "cell_type": "code",
   "execution_count": 164,
   "metadata": {},
   "outputs": [
    {
     "name": "stdout",
     "output_type": "stream",
     "text": [
      "Training Data Score: 0.21024063495528178\n",
      "Testing Data Score: 0.26153064221041367\n"
     ]
    }
   ],
   "source": [
    "# Linear regression model\n",
    "from sklearn.linear_model import LinearRegression\n",
    "linear_model = LinearRegression()\n",
    "\n",
    "# Train the model\n",
    "linear_model.fit(X_train_scaled, y_train)\n",
    "\n",
    "# Print scores\n",
    "print(f\"Training Data Score: {linear_model.score(X_train_scaled, y_train)}\")\n",
    "print(f\"Testing Data Score: {linear_model.score(X_test_scaled, y_test)}\")"
   ]
  },
  {
   "cell_type": "code",
   "execution_count": 165,
   "metadata": {},
   "outputs": [],
   "source": [
    "# Create the GridSearchCV model for Linear Regression\n",
    "from sklearn.model_selection import GridSearchCV\n",
    "param_grid = {'fit_intercept':[True,False], 'normalize':[True,False], 'copy_X':[True, False]}\n",
    "linear_grid = GridSearchCV(linear_model, param_grid, verbose=3)"
   ]
  },
  {
   "cell_type": "code",
   "execution_count": 166,
   "metadata": {},
   "outputs": [
    {
     "name": "stdout",
     "output_type": "stream",
     "text": [
      "Fitting 3 folds for each of 8 candidates, totalling 24 fits\n",
      "[CV] copy_X=True, fit_intercept=True, normalize=True .................\n",
      "[CV]  copy_X=True, fit_intercept=True, normalize=True, score=0.159, total=   0.0s\n",
      "[CV] copy_X=True, fit_intercept=True, normalize=True .................\n",
      "[CV]  copy_X=True, fit_intercept=True, normalize=True, score=0.213, total=   0.0s\n",
      "[CV] copy_X=True, fit_intercept=True, normalize=True .................\n",
      "[CV]  copy_X=True, fit_intercept=True, normalize=True, score=0.224, total=   0.0s\n",
      "[CV] copy_X=True, fit_intercept=True, normalize=False ................\n",
      "[CV]  copy_X=True, fit_intercept=True, normalize=False, score=0.159, total=   0.0s\n",
      "[CV] copy_X=True, fit_intercept=True, normalize=False ................\n",
      "[CV]  copy_X=True, fit_intercept=True, normalize=False, score=0.213, total=   0.0s\n",
      "[CV] copy_X=True, fit_intercept=True, normalize=False ................\n",
      "[CV]  copy_X=True, fit_intercept=True, normalize=False, score=0.224, total=   0.0s\n",
      "[CV] copy_X=True, fit_intercept=False, normalize=True ................\n",
      "[CV]  copy_X=True, fit_intercept=False, normalize=True, score=-3.609, total=   0.0s\n",
      "[CV] copy_X=True, fit_intercept=False, normalize=True ................\n",
      "[CV]  copy_X=True, fit_intercept=False, normalize=True, score=-3.398, total=   0.0s\n",
      "[CV] copy_X=True, fit_intercept=False, normalize=True ................\n",
      "[CV]  copy_X=True, fit_intercept=False, normalize=True, score=-3.283, total=   0.0s\n",
      "[CV] copy_X=True, fit_intercept=False, normalize=False ...............\n",
      "[CV]  copy_X=True, fit_intercept=False, normalize=False, score=-3.609, total=   0.0s\n",
      "[CV] copy_X=True, fit_intercept=False, normalize=False ...............\n",
      "[CV]  copy_X=True, fit_intercept=False, normalize=False, score=-3.398, total=   0.0s\n",
      "[CV] copy_X=True, fit_intercept=False, normalize=False ...............\n",
      "[CV]  copy_X=True, fit_intercept=False, normalize=False, score=-3.283, total=   0.0s\n",
      "[CV] copy_X=False, fit_intercept=True, normalize=True ................\n",
      "[CV]  copy_X=False, fit_intercept=True, normalize=True, score=0.159, total=   0.0s\n",
      "[CV] copy_X=False, fit_intercept=True, normalize=True ................\n",
      "[CV]  copy_X=False, fit_intercept=True, normalize=True, score=0.213, total=   0.0s\n",
      "[CV] copy_X=False, fit_intercept=True, normalize=True ................\n",
      "[CV]  copy_X=False, fit_intercept=True, normalize=True, score=0.224, total=   0.0s\n",
      "[CV] copy_X=False, fit_intercept=True, normalize=False ...............\n",
      "[CV]  copy_X=False, fit_intercept=True, normalize=False, score=0.159, total=   0.0s\n",
      "[CV] copy_X=False, fit_intercept=True, normalize=False ...............\n",
      "[CV]  copy_X=False, fit_intercept=True, normalize=False, score=0.213, total=   0.0s\n",
      "[CV] copy_X=False, fit_intercept=True, normalize=False ...............\n",
      "[CV]  copy_X=False, fit_intercept=True, normalize=False, score=0.224, total=   0.0s\n",
      "[CV] copy_X=False, fit_intercept=False, normalize=True ...............\n",
      "[CV]  copy_X=False, fit_intercept=False, normalize=True, score=-3.609, total=   0.0s\n",
      "[CV] copy_X=False, fit_intercept=False, normalize=True ...............\n",
      "[CV]  copy_X=False, fit_intercept=False, normalize=True, score=-3.398, total=   0.0s\n",
      "[CV] copy_X=False, fit_intercept=False, normalize=True ...............\n",
      "[CV]  copy_X=False, fit_intercept=False, normalize=True, score=-3.283, total=   0.0s\n",
      "[CV] copy_X=False, fit_intercept=False, normalize=False ..............\n",
      "[CV]  copy_X=False, fit_intercept=False, normalize=False, score=-3.609, total=   0.0s\n",
      "[CV] copy_X=False, fit_intercept=False, normalize=False ..............\n",
      "[CV]  copy_X=False, fit_intercept=False, normalize=False, score=-3.398, total=   0.0s\n",
      "[CV] copy_X=False, fit_intercept=False, normalize=False ..............\n",
      "[CV]  copy_X=False, fit_intercept=False, normalize=False, score=-3.283, total=   0.0s\n"
     ]
    },
    {
     "name": "stderr",
     "output_type": "stream",
     "text": [
      "[Parallel(n_jobs=1)]: Using backend SequentialBackend with 1 concurrent workers.\n",
      "[Parallel(n_jobs=1)]: Done   1 out of   1 | elapsed:    0.0s remaining:    0.0s\n",
      "[Parallel(n_jobs=1)]: Done   2 out of   2 | elapsed:    0.0s remaining:    0.0s\n",
      "[Parallel(n_jobs=1)]: Done  24 out of  24 | elapsed:    0.1s finished\n"
     ]
    },
    {
     "data": {
      "text/plain": [
       "GridSearchCV(cv='warn', error_score='raise-deprecating',\n",
       "             estimator=LinearRegression(copy_X=True, fit_intercept=True,\n",
       "                                        n_jobs=None, normalize=False),\n",
       "             iid='warn', n_jobs=None,\n",
       "             param_grid={'copy_X': [True, False],\n",
       "                         'fit_intercept': [True, False],\n",
       "                         'normalize': [True, False]},\n",
       "             pre_dispatch='2*n_jobs', refit=True, return_train_score=False,\n",
       "             scoring=None, verbose=3)"
      ]
     },
     "execution_count": 166,
     "metadata": {},
     "output_type": "execute_result"
    }
   ],
   "source": [
    "# Fit the model using the grid search estimator\n",
    "linear_grid.fit(X_train, y_train)"
   ]
  },
  {
   "cell_type": "code",
   "execution_count": 167,
   "metadata": {},
   "outputs": [
    {
     "name": "stdout",
     "output_type": "stream",
     "text": [
      "{'copy_X': True, 'fit_intercept': True, 'normalize': True}\n",
      "0.19885774904465725\n"
     ]
    }
   ],
   "source": [
    "# Print LinearRegression best params and best score\n",
    "print(linear_grid.best_params_)\n",
    "print(linear_grid.best_score_)"
   ]
  },
  {
   "cell_type": "code",
   "execution_count": 168,
   "metadata": {},
   "outputs": [
    {
     "name": "stdout",
     "output_type": "stream",
     "text": [
      "Training Data Score: 0.21024062654868914\n",
      "Testing Data Score: 0.2615335927964304\n"
     ]
    }
   ],
   "source": [
    "# Ridge model\n",
    "from sklearn.linear_model import Ridge\n",
    "\n",
    "ridge = Ridge(alpha=.01).fit(X_train_scaled, y_train)\n",
    "\n",
    "print(f\"Training Data Score: {ridge.score(X_train_scaled, y_train)}\")\n",
    "print(f\"Testing Data Score: {ridge.score(X_test_scaled, y_test)}\")"
   ]
  },
  {
   "cell_type": "code",
   "execution_count": 169,
   "metadata": {},
   "outputs": [],
   "source": [
    "# Create the GridSearchCV model for Ridge\n",
    "from sklearn.model_selection import GridSearchCV\n",
    "\n",
    "param_grid_ridge = {'alpha': [0.001, 0.01, 0.1]}\n",
    "ridge_grid = GridSearchCV(ridge, param_grid_ridge, n_jobs=1, cv=10)"
   ]
  },
  {
   "cell_type": "code",
   "execution_count": 170,
   "metadata": {},
   "outputs": [
    {
     "data": {
      "text/plain": [
       "GridSearchCV(cv=10, error_score='raise-deprecating',\n",
       "             estimator=Ridge(alpha=0.01, copy_X=True, fit_intercept=True,\n",
       "                             max_iter=None, normalize=False, random_state=None,\n",
       "                             solver='auto', tol=0.001),\n",
       "             iid='warn', n_jobs=1, param_grid={'alpha': [0.001, 0.01, 0.1]},\n",
       "             pre_dispatch='2*n_jobs', refit=True, return_train_score=False,\n",
       "             scoring=None, verbose=0)"
      ]
     },
     "execution_count": 170,
     "metadata": {},
     "output_type": "execute_result"
    }
   ],
   "source": [
    "# Fit the model using the grid search estimator\n",
    "ridge_grid.fit(X_train_scaled, y_train)"
   ]
  },
  {
   "cell_type": "code",
   "execution_count": null,
   "metadata": {},
   "outputs": [],
   "source": [
    "# Print scores for Ridge\n",
    "print(ridge_grid.best_params_)\n",
    "print(ridge_grid.best_score_)"
   ]
  },
  {
   "cell_type": "code",
   "execution_count": null,
   "metadata": {},
   "outputs": [],
   "source": [
    "# ElasticNet model\n",
    "from sklearn.linear_model import ElasticNet\n",
    "\n",
    "# Create and train the model\n",
    "elastic_model = ElasticNet(alpha=.01).fit(X_train_scaled, y_train)\n",
    "\n",
    "# Print scores\n",
    "print(f\"Training Data Score: {elastic_model.score(X_train_scaled, y_train)}\")\n",
    "print(f\"Testing Data Score: {elastic_model.score(X_test_scaled, y_test)}\")"
   ]
  },
  {
   "cell_type": "code",
   "execution_count": null,
   "metadata": {},
   "outputs": [],
   "source": [
    "# Create the GridSearchCV model for ElasticNet\n",
    "from sklearn.model_selection import GridSearchCV\n",
    "elastic_param_grid = {\n",
    "                     \"max_iter\": [1, 5, 10],\n",
    "                      \"alpha\": [0.0001, 0.001, 0.01, 0.1, 1, 10, 100],\n",
    "                      \"l1_ratio\": np.arange(0.0, 1.0, 0.1)\n",
    "                     }\n",
    "elastic_grid = GridSearchCV(elastic_model, elastic_param_grid, verbose=3, scoring='r2', cv=10)"
   ]
  },
  {
   "cell_type": "code",
   "execution_count": null,
   "metadata": {},
   "outputs": [],
   "source": [
    "# Fit the model using the grid search estimator\n",
    "elastic_grid.fit(X_train_scaled, y_train)"
   ]
  },
  {
   "cell_type": "code",
   "execution_count": null,
   "metadata": {},
   "outputs": [],
   "source": [
    "# Print scores for ElasticNet\n",
    "print(elastic_grid.best_params_)\n",
    "print(elastic_grid.best_score_)"
   ]
  },
  {
   "cell_type": "code",
   "execution_count": null,
   "metadata": {},
   "outputs": [],
   "source": [
    "# Compare scores\n",
    "\n",
    "# Print LinearRegression best params and best score\n",
    "print(\"LinearRegression Scores\")\n",
    "print(linear_grid.best_params_)\n",
    "print(linear_grid.best_score_)\n",
    "print(\"-------------------------\")\n",
    "\n",
    "# Print scores for logistic regression\n",
    "print(\"LogisticRegression Scores\")\n",
    "print(logistic_grid.best_params_)\n",
    "print(logistic_grid.best_score_)\n",
    "print(\"-------------------------\")\n",
    "\n",
    "# Print scores for SVC\n",
    "print(\"SVC Scores\")\n",
    "print(svc_grid.best_params_)\n",
    "print(svc_grid.best_score_)\n",
    "print(\"-------------------------\")\n",
    "\n",
    "# Print scores for Ridge\n",
    "print(\"Ridge Scores\")\n",
    "print(ridge_grid.best_params_)\n",
    "print(ridge_grid.best_score_)\n",
    "print(\"-------------------------\")\n",
    "\n",
    "# Print scores for ElasticNet\n",
    "print(\"ElasticNet Scores\")\n",
    "print(elastic_grid.best_params_)\n",
    "print(elastic_grid.best_score_)"
   ]
  },
  {
   "cell_type": "code",
   "execution_count": null,
   "metadata": {},
   "outputs": [],
   "source": [
    "# One-hot encoding\n",
    "y_train_categorical = to_categorical(y_train)\n",
    "y_test_categorical = to_categorical(y_test)"
   ]
  },
  {
   "cell_type": "code",
   "execution_count": null,
   "metadata": {},
   "outputs": [],
   "source": [
    "# Deep Learning Model\n",
    "\n",
    "# Create a deep neural network\n",
    "deep_model = Sequential()\n",
    "deep_model.add(Dense(units=128, activation='relu', input_dim=X_train.shape[1]))\n",
    "deep_model.add(Dense(units=64, activation='relu'))\n",
    "deep_model.add(Dense(units=y_train_categorical.shape[1], activation='softmax'))"
   ]
  },
  {
   "cell_type": "code",
   "execution_count": null,
   "metadata": {},
   "outputs": [],
   "source": [
    "# Compile the model\n",
    "deep_model.compile(optimizer='adam',\n",
    "              loss='categorical_crossentropy',\n",
    "              metrics=['accuracy'])"
   ]
  },
  {
   "cell_type": "code",
   "execution_count": null,
   "metadata": {},
   "outputs": [],
   "source": [
    "deep_model.summary()"
   ]
  },
  {
   "cell_type": "code",
   "execution_count": null,
   "metadata": {},
   "outputs": [],
   "source": [
    "# Fit the model to the training data\n",
    "deep_model.fit(\n",
    "    X_train_scaled,\n",
    "    y_train_categorical,\n",
    "    epochs=100,\n",
    "    shuffle=True,\n",
    "    verbose=2\n",
    ")"
   ]
  },
  {
   "cell_type": "code",
   "execution_count": null,
   "metadata": {},
   "outputs": [],
   "source": [
    "deep_model_loss, deep_model_accuracy = deep_model.evaluate(\n",
    "    X_test_scaled, y_test_categorical, verbose=2)\n",
    "print(\n",
    "    f\"Deep Neural Network - Loss: {deep_model_loss}, Accuracy: {deep_model_accuracy}\")"
   ]
  },
  {
   "cell_type": "code",
   "execution_count": null,
   "metadata": {},
   "outputs": [],
   "source": [
    "# Deep Learning Model V2\n",
    "\n",
    "# Create a deep neural network\n",
    "deep_model2 = Sequential()\n",
    "deep_model2.add(Dense(units=128, activation='tanh', input_dim=X_train.shape[1]))\n",
    "deep_model2.add(Dense(units=64, activation='tanh'))\n",
    "deep_model2.add(Dense(units=y_train_categorical.shape[1], activation='softmax'))"
   ]
  },
  {
   "cell_type": "code",
   "execution_count": null,
   "metadata": {},
   "outputs": [],
   "source": [
    "# Compile the model\n",
    "deep_model2.compile(optimizer='adam',\n",
    "              loss='categorical_crossentropy',\n",
    "              metrics=['accuracy'])"
   ]
  },
  {
   "cell_type": "code",
   "execution_count": null,
   "metadata": {},
   "outputs": [],
   "source": [
    "deep_model2.summary()"
   ]
  },
  {
   "cell_type": "code",
   "execution_count": null,
   "metadata": {},
   "outputs": [],
   "source": [
    "# Fit the model to the training data\n",
    "deep_model2.fit(\n",
    "    X_train_scaled,\n",
    "    y_train_categorical,\n",
    "    epochs=100,\n",
    "    shuffle=True,\n",
    "    verbose=2\n",
    ")"
   ]
  },
  {
   "cell_type": "code",
   "execution_count": null,
   "metadata": {},
   "outputs": [],
   "source": [
    "deep_model2_loss, deep_model2_accuracy = deep_model2.evaluate(\n",
    "    X_test_scaled, y_test_categorical, verbose=2)\n",
    "print(\n",
    "    f\"Deep Neural Network V2 - Loss: {deep_model2_loss}, Accuracy: {deep_model2_accuracy}\")"
   ]
  },
  {
   "cell_type": "code",
   "execution_count": null,
   "metadata": {},
   "outputs": [],
   "source": [
    "# Deep Learning Model V3\n",
    "# Create a deep neural network\n",
    "deep_model3 = Sequential()\n",
    "deep_model3.add(Dense(units=500, activation='tanh', input_dim=X_train.shape[1]))\n",
    "deep_model3.add(Dense(units=500, activation='tanh'))\n",
    "deep_model3.add(Dense(units=500, activation='tanh'))\n",
    "deep_model3.add(Dense(units=y_train_categorical.shape[1], activation='softmax'))"
   ]
  },
  {
   "cell_type": "code",
   "execution_count": null,
   "metadata": {},
   "outputs": [],
   "source": [
    "# Compile the model\n",
    "deep_model3.compile(optimizer='adam',\n",
    "              loss='categorical_crossentropy',\n",
    "              metrics=['accuracy'])"
   ]
  },
  {
   "cell_type": "code",
   "execution_count": null,
   "metadata": {},
   "outputs": [],
   "source": [
    "deep_model3.summary()"
   ]
  },
  {
   "cell_type": "code",
   "execution_count": null,
   "metadata": {},
   "outputs": [],
   "source": [
    "# Fit the model to the training data\n",
    "deep_model3.fit(\n",
    "    X_train_scaled,\n",
    "    y_train_categorical,\n",
    "    epochs=100,\n",
    "    shuffle=True,\n",
    "    verbose=2\n",
    ")"
   ]
  },
  {
   "cell_type": "code",
   "execution_count": null,
   "metadata": {},
   "outputs": [],
   "source": [
    "deep_model3_loss, deep_model3_accuracy = deep_model3.evaluate(\n",
    "    X_test_scaled, y_test_categorical, verbose=2)\n",
    "print(\n",
    "    f\"Deep Neural Network V2 - Loss: {deep_model3_loss}, Accuracy: {deep_model3_accuracy}\")"
   ]
  },
  {
   "cell_type": "code",
   "execution_count": null,
   "metadata": {},
   "outputs": [],
   "source": []
  }
 ],
 "metadata": {
  "kernelspec": {
   "display_name": "Python 3",
   "language": "python",
   "name": "python3"
  },
  "language_info": {
   "codemirror_mode": {
    "name": "ipython",
    "version": 3
   },
   "file_extension": ".py",
   "mimetype": "text/x-python",
   "name": "python",
   "nbconvert_exporter": "python",
   "pygments_lexer": "ipython3",
   "version": "3.7.1"
  }
 },
 "nbformat": 4,
 "nbformat_minor": 2
}
