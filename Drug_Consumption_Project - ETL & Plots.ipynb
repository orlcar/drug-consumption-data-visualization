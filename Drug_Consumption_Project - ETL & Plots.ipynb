{
 "cells": [
  {
   "cell_type": "markdown",
   "metadata": {},
   "source": [
    "# DRUG CONSUMPTION\n",
    "\n",
    "## FOCUS ON CANNABIS USAGE & PREDICTION"
   ]
  },
  {
   "cell_type": "markdown",
   "metadata": {},
   "source": [
    "![Cannabis Users](images/cannabis.jpg \"Cannabis Leaf\")"
   ]
  },
  {
   "cell_type": "markdown",
   "metadata": {},
   "source": [
    "***\n"
   ]
  },
  {
   "cell_type": "markdown",
   "metadata": {},
   "source": [
    "## Data Processing Starts Here "
   ]
  },
  {
   "cell_type": "markdown",
   "metadata": {},
   "source": [
    "* Load the dependencies and libraries"
   ]
  },
  {
   "cell_type": "code",
   "execution_count": 1,
   "metadata": {},
   "outputs": [],
   "source": [
    "import pandas as pd\n",
    "import numpy as np\n",
    "import warnings\n",
    "\n",
    "# Suppress warnings\n",
    "warnings.filterwarnings(\"ignore\")"
   ]
  },
  {
   "cell_type": "markdown",
   "metadata": {},
   "source": [
    "### Load, Clean and Filter the Original .data file"
   ]
  },
  {
   "cell_type": "markdown",
   "metadata": {},
   "source": [
    "* The train/test data set was provided already grouped into bins, or Machine Learning ready. The ETL process for this dataset consisted of loading the data with the original headers."
   ]
  },
  {
   "cell_type": "code",
   "execution_count": 2,
   "metadata": {},
   "outputs": [],
   "source": [
    "# Read the \"Drug consumption (quantified) Data Set\"\n",
    "# from: https://archive.ics.uci.edu/ml/datasets/Drug+consumption+%28quantified%29#\n",
    "\n",
    "# Define the data headers\n",
    "names = ['id','age', 'gender', 'education', 'country',\n",
    "'ethnicity', 'neuroticism', 'extraversion', 'openness',\n",
    "'agreeableness','conscientiousness', 'impulsiveness', \n",
    "'sensation', 'alcohol', 'amphet', 'amyl', 'benzos', 'caffeine', \n",
    "'cannabis', 'chocolate', 'cocaine', 'crack', 'ecstasy', \n",
    "'heroin', 'ketamine', ' legalh', 'lsd', \n",
    "'meth', 'mushrooms', 'nicotine', 'semer', 'vsa']\n",
    "df = pd.read_csv('data/drug_consumption.data', names=names)\n",
    "df = df.drop(df.index[0])"
   ]
  },
  {
   "cell_type": "code",
   "execution_count": 3,
   "metadata": {},
   "outputs": [
    {
     "data": {
      "text/html": [
       "<div>\n",
       "<style scoped>\n",
       "    .dataframe tbody tr th:only-of-type {\n",
       "        vertical-align: middle;\n",
       "    }\n",
       "\n",
       "    .dataframe tbody tr th {\n",
       "        vertical-align: top;\n",
       "    }\n",
       "\n",
       "    .dataframe thead th {\n",
       "        text-align: right;\n",
       "    }\n",
       "</style>\n",
       "<table border=\"1\" class=\"dataframe\">\n",
       "  <thead>\n",
       "    <tr style=\"text-align: right;\">\n",
       "      <th></th>\n",
       "      <th>id</th>\n",
       "      <th>age</th>\n",
       "      <th>gender</th>\n",
       "      <th>education</th>\n",
       "      <th>country</th>\n",
       "      <th>ethnicity</th>\n",
       "      <th>neuroticism</th>\n",
       "      <th>extraversion</th>\n",
       "      <th>openness</th>\n",
       "      <th>agreeableness</th>\n",
       "      <th>...</th>\n",
       "      <th>ecstasy</th>\n",
       "      <th>heroin</th>\n",
       "      <th>ketamine</th>\n",
       "      <th>legalh</th>\n",
       "      <th>lsd</th>\n",
       "      <th>meth</th>\n",
       "      <th>mushrooms</th>\n",
       "      <th>nicotine</th>\n",
       "      <th>semer</th>\n",
       "      <th>vsa</th>\n",
       "    </tr>\n",
       "  </thead>\n",
       "  <tbody>\n",
       "    <tr>\n",
       "      <th>1</th>\n",
       "      <td>2</td>\n",
       "      <td>-0.07854</td>\n",
       "      <td>-0.48246</td>\n",
       "      <td>1.98437</td>\n",
       "      <td>0.96082</td>\n",
       "      <td>-0.31685</td>\n",
       "      <td>-0.67825</td>\n",
       "      <td>1.93886</td>\n",
       "      <td>1.43533</td>\n",
       "      <td>0.76096</td>\n",
       "      <td>...</td>\n",
       "      <td>CL4</td>\n",
       "      <td>CL0</td>\n",
       "      <td>CL2</td>\n",
       "      <td>CL0</td>\n",
       "      <td>CL2</td>\n",
       "      <td>CL3</td>\n",
       "      <td>CL0</td>\n",
       "      <td>CL4</td>\n",
       "      <td>CL0</td>\n",
       "      <td>CL0</td>\n",
       "    </tr>\n",
       "    <tr>\n",
       "      <th>2</th>\n",
       "      <td>3</td>\n",
       "      <td>0.49788</td>\n",
       "      <td>-0.48246</td>\n",
       "      <td>-0.05921</td>\n",
       "      <td>0.96082</td>\n",
       "      <td>-0.31685</td>\n",
       "      <td>-0.46725</td>\n",
       "      <td>0.80523</td>\n",
       "      <td>-0.84732</td>\n",
       "      <td>-1.62090</td>\n",
       "      <td>...</td>\n",
       "      <td>CL0</td>\n",
       "      <td>CL0</td>\n",
       "      <td>CL0</td>\n",
       "      <td>CL0</td>\n",
       "      <td>CL0</td>\n",
       "      <td>CL0</td>\n",
       "      <td>CL1</td>\n",
       "      <td>CL0</td>\n",
       "      <td>CL0</td>\n",
       "      <td>CL0</td>\n",
       "    </tr>\n",
       "  </tbody>\n",
       "</table>\n",
       "<p>2 rows × 32 columns</p>\n",
       "</div>"
      ],
      "text/plain": [
       "   id      age   gender  education  country  ethnicity  neuroticism  \\\n",
       "1   2 -0.07854 -0.48246    1.98437  0.96082   -0.31685     -0.67825   \n",
       "2   3  0.49788 -0.48246   -0.05921  0.96082   -0.31685     -0.46725   \n",
       "\n",
       "   extraversion  openness  agreeableness ...   ecstasy  heroin  ketamine  \\\n",
       "1       1.93886   1.43533        0.76096 ...       CL4     CL0       CL2   \n",
       "2       0.80523  -0.84732       -1.62090 ...       CL0     CL0       CL0   \n",
       "\n",
       "   legalh  lsd meth mushrooms nicotine semer  vsa  \n",
       "1     CL0  CL2  CL3       CL0      CL4   CL0  CL0  \n",
       "2     CL0  CL0  CL0       CL1      CL0   CL0  CL0  \n",
       "\n",
       "[2 rows x 32 columns]"
      ]
     },
     "execution_count": 3,
     "metadata": {},
     "output_type": "execute_result"
    }
   ],
   "source": [
    "df.head(2)"
   ]
  },
  {
   "cell_type": "markdown",
   "metadata": {},
   "source": [
    "### Selecting the Model Features "
   ]
  },
  {
   "cell_type": "markdown",
   "metadata": {},
   "source": [
    "* After loading the headers, we then filtered the features to be used with or model."
   ]
  },
  {
   "cell_type": "code",
   "execution_count": 4,
   "metadata": {},
   "outputs": [],
   "source": [
    "# Filter the features we want in our model \n",
    "### add remove personality traits here ###\n",
    "df_filtered = df[['id','age', 'gender', 'education',\n",
    "          'neuroticism', 'extraversion', \n",
    "          'openness', 'agreeableness', 'conscientiousness', \n",
    "          'impulsiveness', 'sensation', 'cannabis']]"
   ]
  },
  {
   "cell_type": "code",
   "execution_count": 5,
   "metadata": {
    "scrolled": true
   },
   "outputs": [
    {
     "data": {
      "text/html": [
       "<div>\n",
       "<style scoped>\n",
       "    .dataframe tbody tr th:only-of-type {\n",
       "        vertical-align: middle;\n",
       "    }\n",
       "\n",
       "    .dataframe tbody tr th {\n",
       "        vertical-align: top;\n",
       "    }\n",
       "\n",
       "    .dataframe thead th {\n",
       "        text-align: right;\n",
       "    }\n",
       "</style>\n",
       "<table border=\"1\" class=\"dataframe\">\n",
       "  <thead>\n",
       "    <tr style=\"text-align: right;\">\n",
       "      <th></th>\n",
       "      <th>id</th>\n",
       "      <th>age</th>\n",
       "      <th>gender</th>\n",
       "      <th>education</th>\n",
       "      <th>neuroticism</th>\n",
       "      <th>extraversion</th>\n",
       "      <th>openness</th>\n",
       "      <th>agreeableness</th>\n",
       "      <th>conscientiousness</th>\n",
       "      <th>impulsiveness</th>\n",
       "      <th>sensation</th>\n",
       "      <th>cannabis</th>\n",
       "    </tr>\n",
       "  </thead>\n",
       "  <tbody>\n",
       "    <tr>\n",
       "      <th>1</th>\n",
       "      <td>2</td>\n",
       "      <td>-0.07854</td>\n",
       "      <td>-0.48246</td>\n",
       "      <td>1.98437</td>\n",
       "      <td>-0.67825</td>\n",
       "      <td>1.93886</td>\n",
       "      <td>1.43533</td>\n",
       "      <td>0.76096</td>\n",
       "      <td>-0.14277</td>\n",
       "      <td>-0.71126</td>\n",
       "      <td>-0.21575</td>\n",
       "      <td>CL4</td>\n",
       "    </tr>\n",
       "    <tr>\n",
       "      <th>2</th>\n",
       "      <td>3</td>\n",
       "      <td>0.49788</td>\n",
       "      <td>-0.48246</td>\n",
       "      <td>-0.05921</td>\n",
       "      <td>-0.46725</td>\n",
       "      <td>0.80523</td>\n",
       "      <td>-0.84732</td>\n",
       "      <td>-1.62090</td>\n",
       "      <td>-1.01450</td>\n",
       "      <td>-1.37983</td>\n",
       "      <td>0.40148</td>\n",
       "      <td>CL3</td>\n",
       "    </tr>\n",
       "  </tbody>\n",
       "</table>\n",
       "</div>"
      ],
      "text/plain": [
       "   id      age   gender  education  neuroticism  extraversion  openness  \\\n",
       "1   2 -0.07854 -0.48246    1.98437     -0.67825       1.93886   1.43533   \n",
       "2   3  0.49788 -0.48246   -0.05921     -0.46725       0.80523  -0.84732   \n",
       "\n",
       "   agreeableness  conscientiousness  impulsiveness  sensation cannabis  \n",
       "1        0.76096           -0.14277       -0.71126   -0.21575      CL4  \n",
       "2       -1.62090           -1.01450       -1.37983    0.40148      CL3  "
      ]
     },
     "execution_count": 5,
     "metadata": {},
     "output_type": "execute_result"
    }
   ],
   "source": [
    "df_filtered.head(2)"
   ]
  },
  {
   "cell_type": "markdown",
   "metadata": {},
   "source": [
    "### Label Encoding"
   ]
  },
  {
   "cell_type": "markdown",
   "metadata": {},
   "source": [
    "* The third step was to encode the seven cannabis classes: \"Never Used\", \"Used over a Decade Ago\", \"Used in Last Decade\", \"Used in Last Year\", \"Used in Last Month\", \"Used in Last Week\", and \"Used in Last Day\" down to two, 0 = never used and 1 = used."
   ]
  },
  {
   "cell_type": "code",
   "execution_count": 6,
   "metadata": {},
   "outputs": [
    {
     "data": {
      "text/html": [
       "<div>\n",
       "<style scoped>\n",
       "    .dataframe tbody tr th:only-of-type {\n",
       "        vertical-align: middle;\n",
       "    }\n",
       "\n",
       "    .dataframe tbody tr th {\n",
       "        vertical-align: top;\n",
       "    }\n",
       "\n",
       "    .dataframe thead th {\n",
       "        text-align: right;\n",
       "    }\n",
       "</style>\n",
       "<table border=\"1\" class=\"dataframe\">\n",
       "  <thead>\n",
       "    <tr style=\"text-align: right;\">\n",
       "      <th></th>\n",
       "      <th>id</th>\n",
       "      <th>age</th>\n",
       "      <th>gender</th>\n",
       "      <th>education</th>\n",
       "      <th>neuroticism</th>\n",
       "      <th>extraversion</th>\n",
       "      <th>openness</th>\n",
       "      <th>agreeableness</th>\n",
       "      <th>conscientiousness</th>\n",
       "      <th>impulsiveness</th>\n",
       "      <th>sensation</th>\n",
       "      <th>cannabis</th>\n",
       "    </tr>\n",
       "  </thead>\n",
       "  <tbody>\n",
       "    <tr>\n",
       "      <th>1</th>\n",
       "      <td>2</td>\n",
       "      <td>-0.07854</td>\n",
       "      <td>-0.48246</td>\n",
       "      <td>1.98437</td>\n",
       "      <td>-0.67825</td>\n",
       "      <td>1.93886</td>\n",
       "      <td>1.43533</td>\n",
       "      <td>0.76096</td>\n",
       "      <td>-0.14277</td>\n",
       "      <td>-0.71126</td>\n",
       "      <td>-0.21575</td>\n",
       "      <td>1</td>\n",
       "    </tr>\n",
       "    <tr>\n",
       "      <th>2</th>\n",
       "      <td>3</td>\n",
       "      <td>0.49788</td>\n",
       "      <td>-0.48246</td>\n",
       "      <td>-0.05921</td>\n",
       "      <td>-0.46725</td>\n",
       "      <td>0.80523</td>\n",
       "      <td>-0.84732</td>\n",
       "      <td>-1.62090</td>\n",
       "      <td>-1.01450</td>\n",
       "      <td>-1.37983</td>\n",
       "      <td>0.40148</td>\n",
       "      <td>1</td>\n",
       "    </tr>\n",
       "  </tbody>\n",
       "</table>\n",
       "</div>"
      ],
      "text/plain": [
       "   id      age   gender  education  neuroticism  extraversion  openness  \\\n",
       "1   2 -0.07854 -0.48246    1.98437     -0.67825       1.93886   1.43533   \n",
       "2   3  0.49788 -0.48246   -0.05921     -0.46725       0.80523  -0.84732   \n",
       "\n",
       "   agreeableness  conscientiousness  impulsiveness  sensation  cannabis  \n",
       "1        0.76096           -0.14277       -0.71126   -0.21575         1  \n",
       "2       -1.62090           -1.01450       -1.37983    0.40148         1  "
      ]
     },
     "execution_count": 6,
     "metadata": {},
     "output_type": "execute_result"
    }
   ],
   "source": [
    "# Original data had cannabis usage divided into 7 categories\n",
    "df_filtered = df_filtered.replace({\n",
    "    'CL0' : 0, ## Never Used cannabis\n",
    "    'CL1' : 1, ## Used cannabis over a decade ago\n",
    "    'CL2' : 1, ## Used in last decade\n",
    "    'CL3' : 1, ## Used in last year\n",
    "    'CL4' : 1, ## Used in last month\n",
    "    'CL5' : 1, ## Used in last week\n",
    "    'CL6' : 1}) ## Used in last day\n",
    "\n",
    "# Cannabis used categories were combined into one category.\n",
    "# 0 = never used\n",
    "# 1 = used -past or present-\n",
    "df_filtered.head(2)"
   ]
  },
  {
   "cell_type": "markdown",
   "metadata": {},
   "source": [
    "### Save CSV to Use with the Model "
   ]
  },
  {
   "cell_type": "markdown",
   "metadata": {},
   "source": [
    "* The new generated CSV will be loaded and used with our model."
   ]
  },
  {
   "cell_type": "code",
   "execution_count": 7,
   "metadata": {},
   "outputs": [],
   "source": [
    "export_csv = df_filtered.to_csv ('data/model_test_train_data_original.csv', index = None, header=True)"
   ]
  },
  {
   "cell_type": "markdown",
   "metadata": {},
   "source": [
    "***"
   ]
  },
  {
   "cell_type": "markdown",
   "metadata": {},
   "source": [
    "### New ETL for Use with Matplotlib"
   ]
  },
  {
   "cell_type": "markdown",
   "metadata": {},
   "source": [
    "* Loaded the saved CSV file and normalized the values for use with Matplotlib"
   ]
  },
  {
   "cell_type": "code",
   "execution_count": 8,
   "metadata": {},
   "outputs": [],
   "source": [
    "df_plot = pd.read_csv('data/model_test_train_data_original.csv', low_memory=False)"
   ]
  },
  {
   "cell_type": "markdown",
   "metadata": {},
   "source": [
    "### Add 3 new columns to the dataframe "
   ]
  },
  {
   "cell_type": "markdown",
   "metadata": {},
   "source": [
    "* Created 3 new columns with the purpose of having a reference for the age, gender and education columns"
   ]
  },
  {
   "cell_type": "code",
   "execution_count": 9,
   "metadata": {},
   "outputs": [],
   "source": [
    "df_plot.insert(1, \"age_category\", True)\n",
    "df_plot.insert(3, \"gender_category\", True)\n",
    "df_plot.insert(5, \"education_category\", True)"
   ]
  },
  {
   "cell_type": "markdown",
   "metadata": {},
   "source": [
    "* Populated the new columns with existing data"
   ]
  },
  {
   "cell_type": "code",
   "execution_count": 10,
   "metadata": {},
   "outputs": [],
   "source": [
    "df_plot['age_category'] = df_plot['age']\n",
    "df_plot['gender_category'] = df_plot['gender']\n",
    "df_plot['education_category'] = df_plot['education']"
   ]
  },
  {
   "cell_type": "code",
   "execution_count": 11,
   "metadata": {},
   "outputs": [
    {
     "data": {
      "text/html": [
       "<div>\n",
       "<style scoped>\n",
       "    .dataframe tbody tr th:only-of-type {\n",
       "        vertical-align: middle;\n",
       "    }\n",
       "\n",
       "    .dataframe tbody tr th {\n",
       "        vertical-align: top;\n",
       "    }\n",
       "\n",
       "    .dataframe thead th {\n",
       "        text-align: right;\n",
       "    }\n",
       "</style>\n",
       "<table border=\"1\" class=\"dataframe\">\n",
       "  <thead>\n",
       "    <tr style=\"text-align: right;\">\n",
       "      <th></th>\n",
       "      <th>id</th>\n",
       "      <th>age_category</th>\n",
       "      <th>age</th>\n",
       "      <th>gender_category</th>\n",
       "      <th>gender</th>\n",
       "      <th>education_category</th>\n",
       "      <th>education</th>\n",
       "      <th>neuroticism</th>\n",
       "      <th>extraversion</th>\n",
       "      <th>openness</th>\n",
       "      <th>agreeableness</th>\n",
       "      <th>conscientiousness</th>\n",
       "      <th>impulsiveness</th>\n",
       "      <th>sensation</th>\n",
       "      <th>cannabis</th>\n",
       "    </tr>\n",
       "  </thead>\n",
       "  <tbody>\n",
       "    <tr>\n",
       "      <th>0</th>\n",
       "      <td>2</td>\n",
       "      <td>-0.07854</td>\n",
       "      <td>-0.07854</td>\n",
       "      <td>-0.48246</td>\n",
       "      <td>-0.48246</td>\n",
       "      <td>1.98437</td>\n",
       "      <td>1.98437</td>\n",
       "      <td>-0.67825</td>\n",
       "      <td>1.93886</td>\n",
       "      <td>1.43533</td>\n",
       "      <td>0.76096</td>\n",
       "      <td>-0.14277</td>\n",
       "      <td>-0.71126</td>\n",
       "      <td>-0.21575</td>\n",
       "      <td>1</td>\n",
       "    </tr>\n",
       "    <tr>\n",
       "      <th>1</th>\n",
       "      <td>3</td>\n",
       "      <td>0.49788</td>\n",
       "      <td>0.49788</td>\n",
       "      <td>-0.48246</td>\n",
       "      <td>-0.48246</td>\n",
       "      <td>-0.05921</td>\n",
       "      <td>-0.05921</td>\n",
       "      <td>-0.46725</td>\n",
       "      <td>0.80523</td>\n",
       "      <td>-0.84732</td>\n",
       "      <td>-1.62090</td>\n",
       "      <td>-1.01450</td>\n",
       "      <td>-1.37983</td>\n",
       "      <td>0.40148</td>\n",
       "      <td>1</td>\n",
       "    </tr>\n",
       "    <tr>\n",
       "      <th>2</th>\n",
       "      <td>4</td>\n",
       "      <td>-0.95197</td>\n",
       "      <td>-0.95197</td>\n",
       "      <td>0.48246</td>\n",
       "      <td>0.48246</td>\n",
       "      <td>1.16365</td>\n",
       "      <td>1.16365</td>\n",
       "      <td>-0.14882</td>\n",
       "      <td>-0.80615</td>\n",
       "      <td>-0.01928</td>\n",
       "      <td>0.59042</td>\n",
       "      <td>0.58489</td>\n",
       "      <td>-1.37983</td>\n",
       "      <td>-1.18084</td>\n",
       "      <td>1</td>\n",
       "    </tr>\n",
       "    <tr>\n",
       "      <th>3</th>\n",
       "      <td>5</td>\n",
       "      <td>0.49788</td>\n",
       "      <td>0.49788</td>\n",
       "      <td>0.48246</td>\n",
       "      <td>0.48246</td>\n",
       "      <td>1.98437</td>\n",
       "      <td>1.98437</td>\n",
       "      <td>0.73545</td>\n",
       "      <td>-1.63340</td>\n",
       "      <td>-0.45174</td>\n",
       "      <td>-0.30172</td>\n",
       "      <td>1.30612</td>\n",
       "      <td>-0.21712</td>\n",
       "      <td>-0.21575</td>\n",
       "      <td>1</td>\n",
       "    </tr>\n",
       "    <tr>\n",
       "      <th>4</th>\n",
       "      <td>6</td>\n",
       "      <td>2.59171</td>\n",
       "      <td>2.59171</td>\n",
       "      <td>0.48246</td>\n",
       "      <td>0.48246</td>\n",
       "      <td>-1.22751</td>\n",
       "      <td>-1.22751</td>\n",
       "      <td>-0.67825</td>\n",
       "      <td>-0.30033</td>\n",
       "      <td>-1.55521</td>\n",
       "      <td>2.03972</td>\n",
       "      <td>1.63088</td>\n",
       "      <td>-1.37983</td>\n",
       "      <td>-1.54858</td>\n",
       "      <td>0</td>\n",
       "    </tr>\n",
       "  </tbody>\n",
       "</table>\n",
       "</div>"
      ],
      "text/plain": [
       "   id  age_category      age  gender_category   gender  education_category  \\\n",
       "0   2      -0.07854 -0.07854         -0.48246 -0.48246             1.98437   \n",
       "1   3       0.49788  0.49788         -0.48246 -0.48246            -0.05921   \n",
       "2   4      -0.95197 -0.95197          0.48246  0.48246             1.16365   \n",
       "3   5       0.49788  0.49788          0.48246  0.48246             1.98437   \n",
       "4   6       2.59171  2.59171          0.48246  0.48246            -1.22751   \n",
       "\n",
       "   education  neuroticism  extraversion  openness  agreeableness  \\\n",
       "0    1.98437     -0.67825       1.93886   1.43533        0.76096   \n",
       "1   -0.05921     -0.46725       0.80523  -0.84732       -1.62090   \n",
       "2    1.16365     -0.14882      -0.80615  -0.01928        0.59042   \n",
       "3    1.98437      0.73545      -1.63340  -0.45174       -0.30172   \n",
       "4   -1.22751     -0.67825      -0.30033  -1.55521        2.03972   \n",
       "\n",
       "   conscientiousness  impulsiveness  sensation  cannabis  \n",
       "0           -0.14277       -0.71126   -0.21575         1  \n",
       "1           -1.01450       -1.37983    0.40148         1  \n",
       "2            0.58489       -1.37983   -1.18084         1  \n",
       "3            1.30612       -0.21712   -0.21575         1  \n",
       "4            1.63088       -1.37983   -1.54858         0  "
      ]
     },
     "execution_count": 11,
     "metadata": {},
     "output_type": "execute_result"
    }
   ],
   "source": [
    "df_plot.head()"
   ]
  },
  {
   "cell_type": "markdown",
   "metadata": {},
   "source": [
    "### Converted the original bins to strings"
   ]
  },
  {
   "cell_type": "code",
   "execution_count": 12,
   "metadata": {},
   "outputs": [
    {
     "data": {
      "text/html": [
       "<div>\n",
       "<style scoped>\n",
       "    .dataframe tbody tr th:only-of-type {\n",
       "        vertical-align: middle;\n",
       "    }\n",
       "\n",
       "    .dataframe tbody tr th {\n",
       "        vertical-align: top;\n",
       "    }\n",
       "\n",
       "    .dataframe thead th {\n",
       "        text-align: right;\n",
       "    }\n",
       "</style>\n",
       "<table border=\"1\" class=\"dataframe\">\n",
       "  <thead>\n",
       "    <tr style=\"text-align: right;\">\n",
       "      <th></th>\n",
       "      <th>id</th>\n",
       "      <th>age_category</th>\n",
       "      <th>age</th>\n",
       "      <th>gender_category</th>\n",
       "      <th>gender</th>\n",
       "      <th>education_category</th>\n",
       "      <th>education</th>\n",
       "      <th>neuroticism</th>\n",
       "      <th>extraversion</th>\n",
       "      <th>openness</th>\n",
       "      <th>agreeableness</th>\n",
       "      <th>conscientiousness</th>\n",
       "      <th>impulsiveness</th>\n",
       "      <th>sensation</th>\n",
       "      <th>cannabis</th>\n",
       "    </tr>\n",
       "  </thead>\n",
       "  <tbody>\n",
       "    <tr>\n",
       "      <th>0</th>\n",
       "      <td>2</td>\n",
       "      <td>-A.A7854</td>\n",
       "      <td>-A.A7854</td>\n",
       "      <td>-M.48246MMMMMMMMMM1</td>\n",
       "      <td>-M.48246MMMMMMMMMM1</td>\n",
       "      <td>1.98437</td>\n",
       "      <td>1.98437</td>\n",
       "      <td>-0.67825</td>\n",
       "      <td>1.93886</td>\n",
       "      <td>1.43533</td>\n",
       "      <td>0.76096</td>\n",
       "      <td>-0.14277</td>\n",
       "      <td>-0.71126</td>\n",
       "      <td>-0.21575</td>\n",
       "      <td>1</td>\n",
       "    </tr>\n",
       "    <tr>\n",
       "      <th>1</th>\n",
       "      <td>3</td>\n",
       "      <td>A.49788</td>\n",
       "      <td>A.49788</td>\n",
       "      <td>-M.48246MMMMMMMMMM1</td>\n",
       "      <td>-M.48246MMMMMMMMMM1</td>\n",
       "      <td>-E.E5921EEEEEEEEEEE1</td>\n",
       "      <td>-E.E5921EEEEEEEEEEE1</td>\n",
       "      <td>-0.46725</td>\n",
       "      <td>0.80523</td>\n",
       "      <td>-0.84732</td>\n",
       "      <td>-1.62090</td>\n",
       "      <td>-1.01450</td>\n",
       "      <td>-1.37983</td>\n",
       "      <td>0.40148</td>\n",
       "      <td>1</td>\n",
       "    </tr>\n",
       "    <tr>\n",
       "      <th>2</th>\n",
       "      <td>4</td>\n",
       "      <td>-A.95197</td>\n",
       "      <td>-A.95197</td>\n",
       "      <td>M.48246MMMMMMMMMM1</td>\n",
       "      <td>M.48246MMMMMMMMMM1</td>\n",
       "      <td>1.16365</td>\n",
       "      <td>1.16365</td>\n",
       "      <td>-0.14882</td>\n",
       "      <td>-0.80615</td>\n",
       "      <td>-0.01928</td>\n",
       "      <td>0.59042</td>\n",
       "      <td>0.58489</td>\n",
       "      <td>-1.37983</td>\n",
       "      <td>-1.18084</td>\n",
       "      <td>1</td>\n",
       "    </tr>\n",
       "    <tr>\n",
       "      <th>3</th>\n",
       "      <td>5</td>\n",
       "      <td>A.49788</td>\n",
       "      <td>A.49788</td>\n",
       "      <td>M.48246MMMMMMMMMM1</td>\n",
       "      <td>M.48246MMMMMMMMMM1</td>\n",
       "      <td>1.98437</td>\n",
       "      <td>1.98437</td>\n",
       "      <td>0.73545</td>\n",
       "      <td>-1.63340</td>\n",
       "      <td>-0.45174</td>\n",
       "      <td>-0.30172</td>\n",
       "      <td>1.30612</td>\n",
       "      <td>-0.21712</td>\n",
       "      <td>-0.21575</td>\n",
       "      <td>1</td>\n",
       "    </tr>\n",
       "    <tr>\n",
       "      <th>4</th>\n",
       "      <td>6</td>\n",
       "      <td>2.59171</td>\n",
       "      <td>2.59171</td>\n",
       "      <td>M.48246MMMMMMMMMM1</td>\n",
       "      <td>M.48246MMMMMMMMMM1</td>\n",
       "      <td>-1.22751</td>\n",
       "      <td>-1.22751</td>\n",
       "      <td>-0.67825</td>\n",
       "      <td>-0.30033</td>\n",
       "      <td>-1.55521</td>\n",
       "      <td>2.03972</td>\n",
       "      <td>1.63088</td>\n",
       "      <td>-1.37983</td>\n",
       "      <td>-1.54858</td>\n",
       "      <td>0</td>\n",
       "    </tr>\n",
       "  </tbody>\n",
       "</table>\n",
       "</div>"
      ],
      "text/plain": [
       "   id age_category       age      gender_category               gender  \\\n",
       "0   2     -A.A7854  -A.A7854  -M.48246MMMMMMMMMM1  -M.48246MMMMMMMMMM1   \n",
       "1   3      A.49788   A.49788  -M.48246MMMMMMMMMM1  -M.48246MMMMMMMMMM1   \n",
       "2   4     -A.95197  -A.95197   M.48246MMMMMMMMMM1   M.48246MMMMMMMMMM1   \n",
       "3   5      A.49788   A.49788   M.48246MMMMMMMMMM1   M.48246MMMMMMMMMM1   \n",
       "4   6      2.59171   2.59171   M.48246MMMMMMMMMM1   M.48246MMMMMMMMMM1   \n",
       "\n",
       "     education_category             education  neuroticism  extraversion  \\\n",
       "0               1.98437               1.98437     -0.67825       1.93886   \n",
       "1  -E.E5921EEEEEEEEEEE1  -E.E5921EEEEEEEEEEE1     -0.46725       0.80523   \n",
       "2               1.16365               1.16365     -0.14882      -0.80615   \n",
       "3               1.98437               1.98437      0.73545      -1.63340   \n",
       "4              -1.22751              -1.22751     -0.67825      -0.30033   \n",
       "\n",
       "   openness  agreeableness  conscientiousness  impulsiveness  sensation  \\\n",
       "0   1.43533        0.76096           -0.14277       -0.71126   -0.21575   \n",
       "1  -0.84732       -1.62090           -1.01450       -1.37983    0.40148   \n",
       "2  -0.01928        0.59042            0.58489       -1.37983   -1.18084   \n",
       "3  -0.45174       -0.30172            1.30612       -0.21712   -0.21575   \n",
       "4  -1.55521        2.03972            1.63088       -1.37983   -1.54858   \n",
       "\n",
       "   cannabis  \n",
       "0         1  \n",
       "1         1  \n",
       "2         1  \n",
       "3         1  \n",
       "4         0  "
      ]
     },
     "execution_count": 12,
     "metadata": {},
     "output_type": "execute_result"
    }
   ],
   "source": [
    "df_plot['age_category']=df_plot['age_category'].astype('str')\n",
    "df_plot['age']=df_plot['age'].astype('str')\n",
    "df_plot['gender_category']=df_plot['gender_category'].astype('str')\n",
    "df_plot['gender']=df_plot['gender'].astype('str')\n",
    "df_plot['education_category']=df_plot['education_category'].astype('str')\n",
    "df_plot['education']=df_plot['education'].astype('str')\n",
    "df_plot['age_category']=df_plot['age_category'].str.replace('0','A')\n",
    "df_plot['age']=df_plot['age'].str.replace('0','A')\n",
    "df_plot['gender_category']=df_plot['gender_category'].str.replace('0','M')\n",
    "df_plot['gender']=df_plot['gender'].str.replace('0','M')\n",
    "df_plot['education_category']=df_plot['education_category'].str.replace('0','E')\n",
    "df_plot['education']=df_plot['education'].str.replace('0','E')\n",
    "\n",
    "df_plot.head()"
   ]
  },
  {
   "cell_type": "code",
   "execution_count": 13,
   "metadata": {},
   "outputs": [
    {
     "data": {
      "text/html": [
       "<div>\n",
       "<style scoped>\n",
       "    .dataframe tbody tr th:only-of-type {\n",
       "        vertical-align: middle;\n",
       "    }\n",
       "\n",
       "    .dataframe tbody tr th {\n",
       "        vertical-align: top;\n",
       "    }\n",
       "\n",
       "    .dataframe thead th {\n",
       "        text-align: right;\n",
       "    }\n",
       "</style>\n",
       "<table border=\"1\" class=\"dataframe\">\n",
       "  <thead>\n",
       "    <tr style=\"text-align: right;\">\n",
       "      <th></th>\n",
       "      <th>id</th>\n",
       "      <th>age_category</th>\n",
       "      <th>age</th>\n",
       "      <th>gender_category</th>\n",
       "      <th>gender</th>\n",
       "      <th>education_category</th>\n",
       "      <th>education</th>\n",
       "      <th>neuroticism</th>\n",
       "      <th>extraversion</th>\n",
       "      <th>openness</th>\n",
       "      <th>agreeableness</th>\n",
       "      <th>conscientiousness</th>\n",
       "      <th>impulsiveness</th>\n",
       "      <th>sensation</th>\n",
       "      <th>cannabis</th>\n",
       "    </tr>\n",
       "  </thead>\n",
       "  <tbody>\n",
       "    <tr>\n",
       "      <th>0</th>\n",
       "      <td>2</td>\n",
       "      <td>25-34</td>\n",
       "      <td>-A.A7854</td>\n",
       "      <td>-M.48246MMMMMMMMMM1</td>\n",
       "      <td>-M.48246MMMMMMMMMM1</td>\n",
       "      <td>1.98437</td>\n",
       "      <td>1.98437</td>\n",
       "      <td>-0.67825</td>\n",
       "      <td>1.93886</td>\n",
       "      <td>1.43533</td>\n",
       "      <td>0.76096</td>\n",
       "      <td>-0.14277</td>\n",
       "      <td>-0.71126</td>\n",
       "      <td>-0.21575</td>\n",
       "      <td>1</td>\n",
       "    </tr>\n",
       "    <tr>\n",
       "      <th>1</th>\n",
       "      <td>3</td>\n",
       "      <td>35-44</td>\n",
       "      <td>A.49788</td>\n",
       "      <td>-M.48246MMMMMMMMMM1</td>\n",
       "      <td>-M.48246MMMMMMMMMM1</td>\n",
       "      <td>-E.E5921EEEEEEEEEEE1</td>\n",
       "      <td>-E.E5921EEEEEEEEEEE1</td>\n",
       "      <td>-0.46725</td>\n",
       "      <td>0.80523</td>\n",
       "      <td>-0.84732</td>\n",
       "      <td>-1.62090</td>\n",
       "      <td>-1.01450</td>\n",
       "      <td>-1.37983</td>\n",
       "      <td>0.40148</td>\n",
       "      <td>1</td>\n",
       "    </tr>\n",
       "  </tbody>\n",
       "</table>\n",
       "</div>"
      ],
      "text/plain": [
       "   id age_category       age      gender_category               gender  \\\n",
       "0   2        25-34  -A.A7854  -M.48246MMMMMMMMMM1  -M.48246MMMMMMMMMM1   \n",
       "1   3        35-44   A.49788  -M.48246MMMMMMMMMM1  -M.48246MMMMMMMMMM1   \n",
       "\n",
       "     education_category             education  neuroticism  extraversion  \\\n",
       "0               1.98437               1.98437     -0.67825       1.93886   \n",
       "1  -E.E5921EEEEEEEEEEE1  -E.E5921EEEEEEEEEEE1     -0.46725       0.80523   \n",
       "\n",
       "   openness  agreeableness  conscientiousness  impulsiveness  sensation  \\\n",
       "0   1.43533        0.76096           -0.14277       -0.71126   -0.21575   \n",
       "1  -0.84732       -1.62090           -1.01450       -1.37983    0.40148   \n",
       "\n",
       "   cannabis  \n",
       "0         1  \n",
       "1         1  "
      ]
     },
     "execution_count": 13,
     "metadata": {},
     "output_type": "execute_result"
    }
   ],
   "source": [
    "df_plot['age_category'].replace({\n",
    "    '-A.95197' :'18-24',\n",
    "    '-A.A7854':'25-34',\n",
    "    'A.49788':'35-44',\n",
    "    '1.A9449':'45-54',\n",
    "    '1.82213':'55-64',\n",
    "    '2.59171':'65+'}, \n",
    "    inplace=True)\n",
    "df_plot.head(2)"
   ]
  },
  {
   "cell_type": "code",
   "execution_count": 14,
   "metadata": {},
   "outputs": [
    {
     "data": {
      "text/plain": [
       "array(['25-34', '35-44', '18-24', '65+', '45-54', '55-64'], dtype=object)"
      ]
     },
     "execution_count": 14,
     "metadata": {},
     "output_type": "execute_result"
    }
   ],
   "source": [
    "df_plot.age_category.unique()"
   ]
  },
  {
   "cell_type": "code",
   "execution_count": 15,
   "metadata": {},
   "outputs": [
    {
     "data": {
      "text/html": [
       "<div>\n",
       "<style scoped>\n",
       "    .dataframe tbody tr th:only-of-type {\n",
       "        vertical-align: middle;\n",
       "    }\n",
       "\n",
       "    .dataframe tbody tr th {\n",
       "        vertical-align: top;\n",
       "    }\n",
       "\n",
       "    .dataframe thead th {\n",
       "        text-align: right;\n",
       "    }\n",
       "</style>\n",
       "<table border=\"1\" class=\"dataframe\">\n",
       "  <thead>\n",
       "    <tr style=\"text-align: right;\">\n",
       "      <th></th>\n",
       "      <th>id</th>\n",
       "      <th>age_category</th>\n",
       "      <th>age</th>\n",
       "      <th>gender_category</th>\n",
       "      <th>gender</th>\n",
       "      <th>education_category</th>\n",
       "      <th>education</th>\n",
       "      <th>neuroticism</th>\n",
       "      <th>extraversion</th>\n",
       "      <th>openness</th>\n",
       "      <th>agreeableness</th>\n",
       "      <th>conscientiousness</th>\n",
       "      <th>impulsiveness</th>\n",
       "      <th>sensation</th>\n",
       "      <th>cannabis</th>\n",
       "    </tr>\n",
       "  </thead>\n",
       "  <tbody>\n",
       "    <tr>\n",
       "      <th>0</th>\n",
       "      <td>2</td>\n",
       "      <td>25-34</td>\n",
       "      <td>2</td>\n",
       "      <td>-M.48246MMMMMMMMMM1</td>\n",
       "      <td>-M.48246MMMMMMMMMM1</td>\n",
       "      <td>1.98437</td>\n",
       "      <td>1.98437</td>\n",
       "      <td>-0.67825</td>\n",
       "      <td>1.93886</td>\n",
       "      <td>1.43533</td>\n",
       "      <td>0.76096</td>\n",
       "      <td>-0.14277</td>\n",
       "      <td>-0.71126</td>\n",
       "      <td>-0.21575</td>\n",
       "      <td>1</td>\n",
       "    </tr>\n",
       "    <tr>\n",
       "      <th>1</th>\n",
       "      <td>3</td>\n",
       "      <td>35-44</td>\n",
       "      <td>3</td>\n",
       "      <td>-M.48246MMMMMMMMMM1</td>\n",
       "      <td>-M.48246MMMMMMMMMM1</td>\n",
       "      <td>-E.E5921EEEEEEEEEEE1</td>\n",
       "      <td>-E.E5921EEEEEEEEEEE1</td>\n",
       "      <td>-0.46725</td>\n",
       "      <td>0.80523</td>\n",
       "      <td>-0.84732</td>\n",
       "      <td>-1.62090</td>\n",
       "      <td>-1.01450</td>\n",
       "      <td>-1.37983</td>\n",
       "      <td>0.40148</td>\n",
       "      <td>1</td>\n",
       "    </tr>\n",
       "  </tbody>\n",
       "</table>\n",
       "</div>"
      ],
      "text/plain": [
       "   id age_category  age      gender_category               gender  \\\n",
       "0   2        25-34    2  -M.48246MMMMMMMMMM1  -M.48246MMMMMMMMMM1   \n",
       "1   3        35-44    3  -M.48246MMMMMMMMMM1  -M.48246MMMMMMMMMM1   \n",
       "\n",
       "     education_category             education  neuroticism  extraversion  \\\n",
       "0               1.98437               1.98437     -0.67825       1.93886   \n",
       "1  -E.E5921EEEEEEEEEEE1  -E.E5921EEEEEEEEEEE1     -0.46725       0.80523   \n",
       "\n",
       "   openness  agreeableness  conscientiousness  impulsiveness  sensation  \\\n",
       "0   1.43533        0.76096           -0.14277       -0.71126   -0.21575   \n",
       "1  -0.84732       -1.62090           -1.01450       -1.37983    0.40148   \n",
       "\n",
       "   cannabis  \n",
       "0         1  \n",
       "1         1  "
      ]
     },
     "execution_count": 15,
     "metadata": {},
     "output_type": "execute_result"
    }
   ],
   "source": [
    "df_plot['age'].replace({\n",
    "    '-A.95197' :1,\n",
    "    '-A.A7854':2,\n",
    "    'A.49788':3,\n",
    "    '1.A9449':4,\n",
    "    '1.82213':5,\n",
    "    '2.59171':6}, \n",
    "    inplace=True)\n",
    "df_plot.head(2)"
   ]
  },
  {
   "cell_type": "code",
   "execution_count": 16,
   "metadata": {},
   "outputs": [
    {
     "data": {
      "text/plain": [
       "array([2, 3, 1, 6, 4, 5], dtype=int64)"
      ]
     },
     "execution_count": 16,
     "metadata": {},
     "output_type": "execute_result"
    }
   ],
   "source": [
    "df_plot.age.unique()"
   ]
  },
  {
   "cell_type": "code",
   "execution_count": 17,
   "metadata": {},
   "outputs": [
    {
     "data": {
      "text/html": [
       "<div>\n",
       "<style scoped>\n",
       "    .dataframe tbody tr th:only-of-type {\n",
       "        vertical-align: middle;\n",
       "    }\n",
       "\n",
       "    .dataframe tbody tr th {\n",
       "        vertical-align: top;\n",
       "    }\n",
       "\n",
       "    .dataframe thead th {\n",
       "        text-align: right;\n",
       "    }\n",
       "</style>\n",
       "<table border=\"1\" class=\"dataframe\">\n",
       "  <thead>\n",
       "    <tr style=\"text-align: right;\">\n",
       "      <th></th>\n",
       "      <th>id</th>\n",
       "      <th>age_category</th>\n",
       "      <th>age</th>\n",
       "      <th>gender_category</th>\n",
       "      <th>gender</th>\n",
       "      <th>education_category</th>\n",
       "      <th>education</th>\n",
       "      <th>neuroticism</th>\n",
       "      <th>extraversion</th>\n",
       "      <th>openness</th>\n",
       "      <th>agreeableness</th>\n",
       "      <th>conscientiousness</th>\n",
       "      <th>impulsiveness</th>\n",
       "      <th>sensation</th>\n",
       "      <th>cannabis</th>\n",
       "    </tr>\n",
       "  </thead>\n",
       "  <tbody>\n",
       "    <tr>\n",
       "      <th>0</th>\n",
       "      <td>2</td>\n",
       "      <td>25-34</td>\n",
       "      <td>2</td>\n",
       "      <td>M</td>\n",
       "      <td>-M.48246MMMMMMMMMM1</td>\n",
       "      <td>1.98437</td>\n",
       "      <td>1.98437</td>\n",
       "      <td>-0.67825</td>\n",
       "      <td>1.93886</td>\n",
       "      <td>1.43533</td>\n",
       "      <td>0.76096</td>\n",
       "      <td>-0.14277</td>\n",
       "      <td>-0.71126</td>\n",
       "      <td>-0.21575</td>\n",
       "      <td>1</td>\n",
       "    </tr>\n",
       "    <tr>\n",
       "      <th>1</th>\n",
       "      <td>3</td>\n",
       "      <td>35-44</td>\n",
       "      <td>3</td>\n",
       "      <td>M</td>\n",
       "      <td>-M.48246MMMMMMMMMM1</td>\n",
       "      <td>-E.E5921EEEEEEEEEEE1</td>\n",
       "      <td>-E.E5921EEEEEEEEEEE1</td>\n",
       "      <td>-0.46725</td>\n",
       "      <td>0.80523</td>\n",
       "      <td>-0.84732</td>\n",
       "      <td>-1.62090</td>\n",
       "      <td>-1.01450</td>\n",
       "      <td>-1.37983</td>\n",
       "      <td>0.40148</td>\n",
       "      <td>1</td>\n",
       "    </tr>\n",
       "  </tbody>\n",
       "</table>\n",
       "</div>"
      ],
      "text/plain": [
       "   id age_category  age gender_category               gender  \\\n",
       "0   2        25-34    2               M  -M.48246MMMMMMMMMM1   \n",
       "1   3        35-44    3               M  -M.48246MMMMMMMMMM1   \n",
       "\n",
       "     education_category             education  neuroticism  extraversion  \\\n",
       "0               1.98437               1.98437     -0.67825       1.93886   \n",
       "1  -E.E5921EEEEEEEEEEE1  -E.E5921EEEEEEEEEEE1     -0.46725       0.80523   \n",
       "\n",
       "   openness  agreeableness  conscientiousness  impulsiveness  sensation  \\\n",
       "0   1.43533        0.76096           -0.14277       -0.71126   -0.21575   \n",
       "1  -0.84732       -1.62090           -1.01450       -1.37983    0.40148   \n",
       "\n",
       "   cannabis  \n",
       "0         1  \n",
       "1         1  "
      ]
     },
     "execution_count": 17,
     "metadata": {},
     "output_type": "execute_result"
    }
   ],
   "source": [
    "df_plot['gender_category'].replace({\n",
    "    'M.48246MMMMMMMMMM1' :'F',\n",
    "    '-M.48246MMMMMMMMMM1':'M'}, \n",
    "    inplace=True)\n",
    "df_plot.head(2)"
   ]
  },
  {
   "cell_type": "code",
   "execution_count": 18,
   "metadata": {},
   "outputs": [
    {
     "data": {
      "text/plain": [
       "array(['M', 'F'], dtype=object)"
      ]
     },
     "execution_count": 18,
     "metadata": {},
     "output_type": "execute_result"
    }
   ],
   "source": [
    "df_plot.gender_category.unique()"
   ]
  },
  {
   "cell_type": "code",
   "execution_count": 19,
   "metadata": {},
   "outputs": [
    {
     "data": {
      "text/html": [
       "<div>\n",
       "<style scoped>\n",
       "    .dataframe tbody tr th:only-of-type {\n",
       "        vertical-align: middle;\n",
       "    }\n",
       "\n",
       "    .dataframe tbody tr th {\n",
       "        vertical-align: top;\n",
       "    }\n",
       "\n",
       "    .dataframe thead th {\n",
       "        text-align: right;\n",
       "    }\n",
       "</style>\n",
       "<table border=\"1\" class=\"dataframe\">\n",
       "  <thead>\n",
       "    <tr style=\"text-align: right;\">\n",
       "      <th></th>\n",
       "      <th>id</th>\n",
       "      <th>age_category</th>\n",
       "      <th>age</th>\n",
       "      <th>gender_category</th>\n",
       "      <th>gender</th>\n",
       "      <th>education_category</th>\n",
       "      <th>education</th>\n",
       "      <th>neuroticism</th>\n",
       "      <th>extraversion</th>\n",
       "      <th>openness</th>\n",
       "      <th>agreeableness</th>\n",
       "      <th>conscientiousness</th>\n",
       "      <th>impulsiveness</th>\n",
       "      <th>sensation</th>\n",
       "      <th>cannabis</th>\n",
       "    </tr>\n",
       "  </thead>\n",
       "  <tbody>\n",
       "    <tr>\n",
       "      <th>0</th>\n",
       "      <td>2</td>\n",
       "      <td>25-34</td>\n",
       "      <td>2</td>\n",
       "      <td>M</td>\n",
       "      <td>1</td>\n",
       "      <td>1.98437</td>\n",
       "      <td>1.98437</td>\n",
       "      <td>-0.67825</td>\n",
       "      <td>1.93886</td>\n",
       "      <td>1.43533</td>\n",
       "      <td>0.76096</td>\n",
       "      <td>-0.14277</td>\n",
       "      <td>-0.71126</td>\n",
       "      <td>-0.21575</td>\n",
       "      <td>1</td>\n",
       "    </tr>\n",
       "    <tr>\n",
       "      <th>1</th>\n",
       "      <td>3</td>\n",
       "      <td>35-44</td>\n",
       "      <td>3</td>\n",
       "      <td>M</td>\n",
       "      <td>1</td>\n",
       "      <td>-E.E5921EEEEEEEEEEE1</td>\n",
       "      <td>-E.E5921EEEEEEEEEEE1</td>\n",
       "      <td>-0.46725</td>\n",
       "      <td>0.80523</td>\n",
       "      <td>-0.84732</td>\n",
       "      <td>-1.62090</td>\n",
       "      <td>-1.01450</td>\n",
       "      <td>-1.37983</td>\n",
       "      <td>0.40148</td>\n",
       "      <td>1</td>\n",
       "    </tr>\n",
       "  </tbody>\n",
       "</table>\n",
       "</div>"
      ],
      "text/plain": [
       "   id age_category  age gender_category gender    education_category  \\\n",
       "0   2        25-34    2               M      1               1.98437   \n",
       "1   3        35-44    3               M      1  -E.E5921EEEEEEEEEEE1   \n",
       "\n",
       "              education  neuroticism  extraversion  openness  agreeableness  \\\n",
       "0               1.98437     -0.67825       1.93886   1.43533        0.76096   \n",
       "1  -E.E5921EEEEEEEEEEE1     -0.46725       0.80523  -0.84732       -1.62090   \n",
       "\n",
       "   conscientiousness  impulsiveness  sensation  cannabis  \n",
       "0           -0.14277       -0.71126   -0.21575         1  \n",
       "1           -1.01450       -1.37983    0.40148         1  "
      ]
     },
     "execution_count": 19,
     "metadata": {},
     "output_type": "execute_result"
    }
   ],
   "source": [
    "df_plot['gender'].replace({\n",
    "    'M.48246MMMMMMMMMM1' :'0',\n",
    "    '-M.48246MMMMMMMMMM1':'1'}, \n",
    "    inplace=True)\n",
    "df_plot.head(2)"
   ]
  },
  {
   "cell_type": "code",
   "execution_count": 20,
   "metadata": {},
   "outputs": [
    {
     "data": {
      "text/plain": [
       "array(['1', '0'], dtype=object)"
      ]
     },
     "execution_count": 20,
     "metadata": {},
     "output_type": "execute_result"
    }
   ],
   "source": [
    "df_plot.gender.unique()"
   ]
  },
  {
   "cell_type": "code",
   "execution_count": 21,
   "metadata": {},
   "outputs": [
    {
     "data": {
      "text/html": [
       "<div>\n",
       "<style scoped>\n",
       "    .dataframe tbody tr th:only-of-type {\n",
       "        vertical-align: middle;\n",
       "    }\n",
       "\n",
       "    .dataframe tbody tr th {\n",
       "        vertical-align: top;\n",
       "    }\n",
       "\n",
       "    .dataframe thead th {\n",
       "        text-align: right;\n",
       "    }\n",
       "</style>\n",
       "<table border=\"1\" class=\"dataframe\">\n",
       "  <thead>\n",
       "    <tr style=\"text-align: right;\">\n",
       "      <th></th>\n",
       "      <th>id</th>\n",
       "      <th>age_category</th>\n",
       "      <th>age</th>\n",
       "      <th>gender_category</th>\n",
       "      <th>gender</th>\n",
       "      <th>education_category</th>\n",
       "      <th>education</th>\n",
       "      <th>neuroticism</th>\n",
       "      <th>extraversion</th>\n",
       "      <th>openness</th>\n",
       "      <th>agreeableness</th>\n",
       "      <th>conscientiousness</th>\n",
       "      <th>impulsiveness</th>\n",
       "      <th>sensation</th>\n",
       "      <th>cannabis</th>\n",
       "    </tr>\n",
       "  </thead>\n",
       "  <tbody>\n",
       "    <tr>\n",
       "      <th>0</th>\n",
       "      <td>2</td>\n",
       "      <td>25-34</td>\n",
       "      <td>2</td>\n",
       "      <td>M</td>\n",
       "      <td>1</td>\n",
       "      <td>Doctorate</td>\n",
       "      <td>1.98437</td>\n",
       "      <td>-0.67825</td>\n",
       "      <td>1.93886</td>\n",
       "      <td>1.43533</td>\n",
       "      <td>0.76096</td>\n",
       "      <td>-0.14277</td>\n",
       "      <td>-0.71126</td>\n",
       "      <td>-0.21575</td>\n",
       "      <td>1</td>\n",
       "    </tr>\n",
       "    <tr>\n",
       "      <th>1</th>\n",
       "      <td>3</td>\n",
       "      <td>35-44</td>\n",
       "      <td>3</td>\n",
       "      <td>M</td>\n",
       "      <td>1</td>\n",
       "      <td>Certificate-diploma</td>\n",
       "      <td>-E.E5921EEEEEEEEEEE1</td>\n",
       "      <td>-0.46725</td>\n",
       "      <td>0.80523</td>\n",
       "      <td>-0.84732</td>\n",
       "      <td>-1.62090</td>\n",
       "      <td>-1.01450</td>\n",
       "      <td>-1.37983</td>\n",
       "      <td>0.40148</td>\n",
       "      <td>1</td>\n",
       "    </tr>\n",
       "  </tbody>\n",
       "</table>\n",
       "</div>"
      ],
      "text/plain": [
       "   id age_category  age gender_category gender   education_category  \\\n",
       "0   2        25-34    2               M      1            Doctorate   \n",
       "1   3        35-44    3               M      1  Certificate-diploma   \n",
       "\n",
       "              education  neuroticism  extraversion  openness  agreeableness  \\\n",
       "0               1.98437     -0.67825       1.93886   1.43533        0.76096   \n",
       "1  -E.E5921EEEEEEEEEEE1     -0.46725       0.80523  -0.84732       -1.62090   \n",
       "\n",
       "   conscientiousness  impulsiveness  sensation  cannabis  \n",
       "0           -0.14277       -0.71126   -0.21575         1  \n",
       "1           -1.01450       -1.37983    0.40148         1  "
      ]
     },
     "execution_count": 21,
     "metadata": {},
     "output_type": "execute_result"
    }
   ],
   "source": [
    "df_plot['education_category'].replace({\n",
    "    '-E.E5921EEEEEEEEEEE1':'Certificate-diploma',\n",
    "    '1.98437':'Doctorate',\n",
    "    '1.16365':'Masters',\n",
    "    '-1.22751':'Left_school_at_18',\n",
    "    '-1.7379':'Left_school_at_16',\n",
    "    'E.45468':'University_degree',\n",
    "    '-E.61113EEEEEEEEEE1':'Some_college',\n",
    "    '-2.43591':'Left_school_before_16',\n",
    "    '-1.43719':'Left_school_at_17'}, \n",
    "    inplace=True)\n",
    "df_plot.head(2)"
   ]
  },
  {
   "cell_type": "code",
   "execution_count": 22,
   "metadata": {},
   "outputs": [
    {
     "data": {
      "text/plain": [
       "array(['Doctorate', 'Certificate-diploma', 'Masters', 'Left_school_at_18',\n",
       "       'Left_school_at_16', 'University_degree', 'Some_college',\n",
       "       'Left_school_before_16', 'Left_school_at_17'], dtype=object)"
      ]
     },
     "execution_count": 22,
     "metadata": {},
     "output_type": "execute_result"
    }
   ],
   "source": [
    "df_plot.education_category.unique()"
   ]
  },
  {
   "cell_type": "code",
   "execution_count": 23,
   "metadata": {},
   "outputs": [
    {
     "data": {
      "text/html": [
       "<div>\n",
       "<style scoped>\n",
       "    .dataframe tbody tr th:only-of-type {\n",
       "        vertical-align: middle;\n",
       "    }\n",
       "\n",
       "    .dataframe tbody tr th {\n",
       "        vertical-align: top;\n",
       "    }\n",
       "\n",
       "    .dataframe thead th {\n",
       "        text-align: right;\n",
       "    }\n",
       "</style>\n",
       "<table border=\"1\" class=\"dataframe\">\n",
       "  <thead>\n",
       "    <tr style=\"text-align: right;\">\n",
       "      <th></th>\n",
       "      <th>id</th>\n",
       "      <th>age_category</th>\n",
       "      <th>age</th>\n",
       "      <th>gender_category</th>\n",
       "      <th>gender</th>\n",
       "      <th>education_category</th>\n",
       "      <th>education</th>\n",
       "      <th>neuroticism</th>\n",
       "      <th>extraversion</th>\n",
       "      <th>openness</th>\n",
       "      <th>agreeableness</th>\n",
       "      <th>conscientiousness</th>\n",
       "      <th>impulsiveness</th>\n",
       "      <th>sensation</th>\n",
       "      <th>cannabis</th>\n",
       "    </tr>\n",
       "  </thead>\n",
       "  <tbody>\n",
       "    <tr>\n",
       "      <th>0</th>\n",
       "      <td>2</td>\n",
       "      <td>25-34</td>\n",
       "      <td>2</td>\n",
       "      <td>M</td>\n",
       "      <td>1</td>\n",
       "      <td>Doctorate</td>\n",
       "      <td>9</td>\n",
       "      <td>-0.67825</td>\n",
       "      <td>1.93886</td>\n",
       "      <td>1.43533</td>\n",
       "      <td>0.76096</td>\n",
       "      <td>-0.14277</td>\n",
       "      <td>-0.71126</td>\n",
       "      <td>-0.21575</td>\n",
       "      <td>1</td>\n",
       "    </tr>\n",
       "    <tr>\n",
       "      <th>1</th>\n",
       "      <td>3</td>\n",
       "      <td>35-44</td>\n",
       "      <td>3</td>\n",
       "      <td>M</td>\n",
       "      <td>1</td>\n",
       "      <td>Certificate-diploma</td>\n",
       "      <td>6</td>\n",
       "      <td>-0.46725</td>\n",
       "      <td>0.80523</td>\n",
       "      <td>-0.84732</td>\n",
       "      <td>-1.62090</td>\n",
       "      <td>-1.01450</td>\n",
       "      <td>-1.37983</td>\n",
       "      <td>0.40148</td>\n",
       "      <td>1</td>\n",
       "    </tr>\n",
       "  </tbody>\n",
       "</table>\n",
       "</div>"
      ],
      "text/plain": [
       "   id age_category  age gender_category gender   education_category  \\\n",
       "0   2        25-34    2               M      1            Doctorate   \n",
       "1   3        35-44    3               M      1  Certificate-diploma   \n",
       "\n",
       "   education  neuroticism  extraversion  openness  agreeableness  \\\n",
       "0          9     -0.67825       1.93886   1.43533        0.76096   \n",
       "1          6     -0.46725       0.80523  -0.84732       -1.62090   \n",
       "\n",
       "   conscientiousness  impulsiveness  sensation  cannabis  \n",
       "0           -0.14277       -0.71126   -0.21575         1  \n",
       "1           -1.01450       -1.37983    0.40148         1  "
      ]
     },
     "execution_count": 23,
     "metadata": {},
     "output_type": "execute_result"
    }
   ],
   "source": [
    "df_plot['education'].replace({\n",
    "    '-E.E5921EEEEEEEEEEE1' :6,\n",
    "    '1.98437':9,\n",
    "    '1.16365':8,\n",
    "    '-1.22751':4,\n",
    "    '-1.7379':2,\n",
    "    'E.45468':7,\n",
    "    '-E.61113EEEEEEEEEE1':5,\n",
    "    '-2.43591':1,\n",
    "    '-1.43719':3}, \n",
    "    inplace=True)\n",
    "df_plot.head(2)"
   ]
  },
  {
   "cell_type": "code",
   "execution_count": 24,
   "metadata": {},
   "outputs": [
    {
     "data": {
      "text/plain": [
       "array([9, 6, 8, 4, 2, 7, 5, 1, 3], dtype=int64)"
      ]
     },
     "execution_count": 24,
     "metadata": {},
     "output_type": "execute_result"
    }
   ],
   "source": [
    "df_plot.education.unique()"
   ]
  },
  {
   "cell_type": "code",
   "execution_count": 25,
   "metadata": {},
   "outputs": [
    {
     "data": {
      "text/html": [
       "<div>\n",
       "<style scoped>\n",
       "    .dataframe tbody tr th:only-of-type {\n",
       "        vertical-align: middle;\n",
       "    }\n",
       "\n",
       "    .dataframe tbody tr th {\n",
       "        vertical-align: top;\n",
       "    }\n",
       "\n",
       "    .dataframe thead th {\n",
       "        text-align: right;\n",
       "    }\n",
       "</style>\n",
       "<table border=\"1\" class=\"dataframe\">\n",
       "  <thead>\n",
       "    <tr style=\"text-align: right;\">\n",
       "      <th></th>\n",
       "      <th>id</th>\n",
       "      <th>age_category</th>\n",
       "      <th>age</th>\n",
       "      <th>gender_category</th>\n",
       "      <th>gender</th>\n",
       "      <th>education_category</th>\n",
       "      <th>education</th>\n",
       "      <th>neuroticism</th>\n",
       "      <th>extraversion</th>\n",
       "      <th>openness</th>\n",
       "      <th>agreeableness</th>\n",
       "      <th>conscientiousness</th>\n",
       "      <th>impulsiveness</th>\n",
       "      <th>sensation</th>\n",
       "      <th>cannabis</th>\n",
       "    </tr>\n",
       "  </thead>\n",
       "  <tbody>\n",
       "    <tr>\n",
       "      <th>0</th>\n",
       "      <td>2</td>\n",
       "      <td>25-34</td>\n",
       "      <td>2</td>\n",
       "      <td>M</td>\n",
       "      <td>1</td>\n",
       "      <td>Doctorate</td>\n",
       "      <td>9</td>\n",
       "      <td>-0.67825</td>\n",
       "      <td>1.93886</td>\n",
       "      <td>1.43533</td>\n",
       "      <td>0.76096</td>\n",
       "      <td>-0.14277</td>\n",
       "      <td>-0.71126</td>\n",
       "      <td>-0.21575</td>\n",
       "      <td>1</td>\n",
       "    </tr>\n",
       "    <tr>\n",
       "      <th>1</th>\n",
       "      <td>3</td>\n",
       "      <td>35-44</td>\n",
       "      <td>3</td>\n",
       "      <td>M</td>\n",
       "      <td>1</td>\n",
       "      <td>Certificate-diploma</td>\n",
       "      <td>6</td>\n",
       "      <td>-0.46725</td>\n",
       "      <td>0.80523</td>\n",
       "      <td>-0.84732</td>\n",
       "      <td>-1.62090</td>\n",
       "      <td>-1.01450</td>\n",
       "      <td>-1.37983</td>\n",
       "      <td>0.40148</td>\n",
       "      <td>1</td>\n",
       "    </tr>\n",
       "    <tr>\n",
       "      <th>2</th>\n",
       "      <td>4</td>\n",
       "      <td>18-24</td>\n",
       "      <td>1</td>\n",
       "      <td>F</td>\n",
       "      <td>0</td>\n",
       "      <td>Masters</td>\n",
       "      <td>8</td>\n",
       "      <td>-0.14882</td>\n",
       "      <td>-0.80615</td>\n",
       "      <td>-0.01928</td>\n",
       "      <td>0.59042</td>\n",
       "      <td>0.58489</td>\n",
       "      <td>-1.37983</td>\n",
       "      <td>-1.18084</td>\n",
       "      <td>1</td>\n",
       "    </tr>\n",
       "  </tbody>\n",
       "</table>\n",
       "</div>"
      ],
      "text/plain": [
       "   id age_category  age gender_category gender   education_category  \\\n",
       "0   2        25-34    2               M      1            Doctorate   \n",
       "1   3        35-44    3               M      1  Certificate-diploma   \n",
       "2   4        18-24    1               F      0              Masters   \n",
       "\n",
       "   education  neuroticism  extraversion  openness  agreeableness  \\\n",
       "0          9     -0.67825       1.93886   1.43533        0.76096   \n",
       "1          6     -0.46725       0.80523  -0.84732       -1.62090   \n",
       "2          8     -0.14882      -0.80615  -0.01928        0.59042   \n",
       "\n",
       "   conscientiousness  impulsiveness  sensation  cannabis  \n",
       "0           -0.14277       -0.71126   -0.21575         1  \n",
       "1           -1.01450       -1.37983    0.40148         1  \n",
       "2            0.58489       -1.37983   -1.18084         1  "
      ]
     },
     "execution_count": 25,
     "metadata": {},
     "output_type": "execute_result"
    }
   ],
   "source": [
    "df_plot.head(3)"
   ]
  },
  {
   "cell_type": "code",
   "execution_count": 26,
   "metadata": {},
   "outputs": [
    {
     "data": {
      "text/html": [
       "<div>\n",
       "<style scoped>\n",
       "    .dataframe tbody tr th:only-of-type {\n",
       "        vertical-align: middle;\n",
       "    }\n",
       "\n",
       "    .dataframe tbody tr th {\n",
       "        vertical-align: top;\n",
       "    }\n",
       "\n",
       "    .dataframe thead th {\n",
       "        text-align: right;\n",
       "    }\n",
       "</style>\n",
       "<table border=\"1\" class=\"dataframe\">\n",
       "  <thead>\n",
       "    <tr style=\"text-align: right;\">\n",
       "      <th></th>\n",
       "      <th>id</th>\n",
       "      <th>age_category</th>\n",
       "      <th>age</th>\n",
       "      <th>gender_category</th>\n",
       "      <th>gender</th>\n",
       "      <th>education_category</th>\n",
       "      <th>education</th>\n",
       "      <th>neuroticism</th>\n",
       "      <th>extraversion</th>\n",
       "      <th>openness</th>\n",
       "      <th>agreeableness</th>\n",
       "      <th>conscientiousness</th>\n",
       "      <th>impulsiveness</th>\n",
       "      <th>sensation</th>\n",
       "      <th>cannabis</th>\n",
       "    </tr>\n",
       "  </thead>\n",
       "  <tbody>\n",
       "    <tr>\n",
       "      <th>0</th>\n",
       "      <td>2</td>\n",
       "      <td>25-34</td>\n",
       "      <td>2</td>\n",
       "      <td>M</td>\n",
       "      <td>1</td>\n",
       "      <td>Doctorate</td>\n",
       "      <td>9</td>\n",
       "      <td>-N.67825</td>\n",
       "      <td>1.93886</td>\n",
       "      <td>1.43533</td>\n",
       "      <td>A.76A96AAAAAAAAAA1</td>\n",
       "      <td>-C.14277</td>\n",
       "      <td>-M.71126</td>\n",
       "      <td>-S.21575</td>\n",
       "      <td>1</td>\n",
       "    </tr>\n",
       "    <tr>\n",
       "      <th>1</th>\n",
       "      <td>3</td>\n",
       "      <td>35-44</td>\n",
       "      <td>3</td>\n",
       "      <td>M</td>\n",
       "      <td>1</td>\n",
       "      <td>Certificate-diploma</td>\n",
       "      <td>6</td>\n",
       "      <td>-N.46725</td>\n",
       "      <td>E.8E523</td>\n",
       "      <td>-P.84732PPPPPPPPPP1</td>\n",
       "      <td>-1.62A9</td>\n",
       "      <td>-1.C145</td>\n",
       "      <td>-1.37983</td>\n",
       "      <td>S.4S148</td>\n",
       "      <td>1</td>\n",
       "    </tr>\n",
       "  </tbody>\n",
       "</table>\n",
       "</div>"
      ],
      "text/plain": [
       "   id age_category  age gender_category gender   education_category  \\\n",
       "0   2        25-34    2               M      1            Doctorate   \n",
       "1   3        35-44    3               M      1  Certificate-diploma   \n",
       "\n",
       "   education neuroticism extraversion             openness  \\\n",
       "0          9    -N.67825      1.93886              1.43533   \n",
       "1          6    -N.46725      E.8E523  -P.84732PPPPPPPPPP1   \n",
       "\n",
       "        agreeableness conscientiousness impulsiveness sensation  cannabis  \n",
       "0  A.76A96AAAAAAAAAA1          -C.14277      -M.71126  -S.21575         1  \n",
       "1             -1.62A9           -1.C145      -1.37983   S.4S148         1  "
      ]
     },
     "execution_count": 26,
     "metadata": {},
     "output_type": "execute_result"
    }
   ],
   "source": [
    "df_plot['neuroticism']=df_plot['neuroticism'].astype('str')\n",
    "df_plot['extraversion']=df_plot['extraversion'].astype('str')\n",
    "df_plot['openness']=df_plot['openness'].astype('str')\n",
    "df_plot['agreeableness']=df_plot['agreeableness'].astype('str')\n",
    "df_plot['conscientiousness']=df_plot['conscientiousness'].astype('str')\n",
    "df_plot['impulsiveness']=df_plot['impulsiveness'].astype('str')\n",
    "df_plot['sensation']=df_plot['sensation'].astype('str')\n",
    "\n",
    "df_plot['neuroticism']=df_plot['neuroticism'].str.replace('0','N')\n",
    "df_plot['extraversion']=df_plot['extraversion'].str.replace('0','E')\n",
    "df_plot['openness']=df_plot['openness'].str.replace('0','P')\n",
    "df_plot['agreeableness']=df_plot['agreeableness'].str.replace('0','A')\n",
    "df_plot['conscientiousness']=df_plot['conscientiousness'].str.replace('0','C')\n",
    "df_plot['impulsiveness']=df_plot['impulsiveness'].str.replace('0','M')\n",
    "df_plot['sensation']=df_plot['sensation'].str.replace('0','S')\n",
    "\n",
    "df_plot.head(2)"
   ]
  },
  {
   "cell_type": "code",
   "execution_count": 27,
   "metadata": {},
   "outputs": [
    {
     "data": {
      "text/plain": [
       "array(['-N.67825', '-N.46725', '-N.14882', 'N.73545', '-1.32828',\n",
       "       'N.62967', '-N.24649', '-1.N53N8', '2.28554', '-N.79151',\n",
       "       '-N.921N4', '-2.N5N48', '-1.55N7799999999998', 'N.52135',\n",
       "       '1.37297', '-N.34799', '-1.1943', 'N.41667', '1.6N383', '-N.N5188',\n",
       "       'N.N4257', 'N.31287', '1.N2119', 'N.82562', 'N.136N6', '1.13281',\n",
       "       '-1.439N7', '-N.58N16', 'N.22393', '-2.21844', 'N.91N93',\n",
       "       '-2.3436', '1.8399', '1.49158', '3.27393', '-1.69163', '1.98437',\n",
       "       '2.82196', '1.23461', '-1.86962', '2.127', '-2.42317NNNNNNNNNN3',\n",
       "       '2.46262NNNNNNNNNN3', '1.72N12', '2.61139', '-2.75696', '-2.52197',\n",
       "       '-3.15735', '-3.46436'], dtype=object)"
      ]
     },
     "execution_count": 27,
     "metadata": {},
     "output_type": "execute_result"
    }
   ],
   "source": [
    "df_plot.neuroticism.unique()"
   ]
  },
  {
   "cell_type": "code",
   "execution_count": 28,
   "metadata": {},
   "outputs": [
    {
     "data": {
      "text/html": [
       "<div>\n",
       "<style scoped>\n",
       "    .dataframe tbody tr th:only-of-type {\n",
       "        vertical-align: middle;\n",
       "    }\n",
       "\n",
       "    .dataframe tbody tr th {\n",
       "        vertical-align: top;\n",
       "    }\n",
       "\n",
       "    .dataframe thead th {\n",
       "        text-align: right;\n",
       "    }\n",
       "</style>\n",
       "<table border=\"1\" class=\"dataframe\">\n",
       "  <thead>\n",
       "    <tr style=\"text-align: right;\">\n",
       "      <th></th>\n",
       "      <th>id</th>\n",
       "      <th>age_category</th>\n",
       "      <th>age</th>\n",
       "      <th>gender_category</th>\n",
       "      <th>gender</th>\n",
       "      <th>education_category</th>\n",
       "      <th>education</th>\n",
       "      <th>neuroticism</th>\n",
       "      <th>extraversion</th>\n",
       "      <th>openness</th>\n",
       "      <th>agreeableness</th>\n",
       "      <th>conscientiousness</th>\n",
       "      <th>impulsiveness</th>\n",
       "      <th>sensation</th>\n",
       "      <th>cannabis</th>\n",
       "    </tr>\n",
       "  </thead>\n",
       "  <tbody>\n",
       "    <tr>\n",
       "      <th>0</th>\n",
       "      <td>2</td>\n",
       "      <td>25-34</td>\n",
       "      <td>2</td>\n",
       "      <td>M</td>\n",
       "      <td>1</td>\n",
       "      <td>Doctorate</td>\n",
       "      <td>9</td>\n",
       "      <td>29</td>\n",
       "      <td>1.93886</td>\n",
       "      <td>1.43533</td>\n",
       "      <td>A.76A96AAAAAAAAAA1</td>\n",
       "      <td>-C.14277</td>\n",
       "      <td>-M.71126</td>\n",
       "      <td>-S.21575</td>\n",
       "      <td>1</td>\n",
       "    </tr>\n",
       "    <tr>\n",
       "      <th>1</th>\n",
       "      <td>3</td>\n",
       "      <td>35-44</td>\n",
       "      <td>3</td>\n",
       "      <td>M</td>\n",
       "      <td>1</td>\n",
       "      <td>Certificate-diploma</td>\n",
       "      <td>6</td>\n",
       "      <td>31</td>\n",
       "      <td>E.8E523</td>\n",
       "      <td>-P.84732PPPPPPPPPP1</td>\n",
       "      <td>-1.62A9</td>\n",
       "      <td>-1.C145</td>\n",
       "      <td>-1.37983</td>\n",
       "      <td>S.4S148</td>\n",
       "      <td>1</td>\n",
       "    </tr>\n",
       "  </tbody>\n",
       "</table>\n",
       "</div>"
      ],
      "text/plain": [
       "   id age_category  age gender_category gender   education_category  \\\n",
       "0   2        25-34    2               M      1            Doctorate   \n",
       "1   3        35-44    3               M      1  Certificate-diploma   \n",
       "\n",
       "   education  neuroticism extraversion             openness  \\\n",
       "0          9           29      1.93886              1.43533   \n",
       "1          6           31      E.8E523  -P.84732PPPPPPPPPP1   \n",
       "\n",
       "        agreeableness conscientiousness impulsiveness sensation  cannabis  \n",
       "0  A.76A96AAAAAAAAAA1          -C.14277      -M.71126  -S.21575         1  \n",
       "1             -1.62A9           -1.C145      -1.37983   S.4S148         1  "
      ]
     },
     "execution_count": 28,
     "metadata": {},
     "output_type": "execute_result"
    }
   ],
   "source": [
    "df_plot['neuroticism'].replace({\n",
    "'-3.46436':12, '-3.15735':13, '-2.75696':14, '-2.52197':15, '-2.42317NNNNNNNNNN3':16, \n",
    "'-2.3436':17, '-2.21844':18, '-2.N5N48':19, '-1.86962':20, '-1.69163':21,\n",
    "'-1.55N7799999999998':22, '-1.439N7':23, '-1.32828':24, '-1.1943':25,\n",
    "'-1.N53N8':26, '-N.921N4':27, '-N.79151':28, '-N.67825':29, '-N.58N16':30,\n",
    "'-N.46725':31, '-N.34799':32, '-N.24649':33, '-N.14882':34,\n",
    "'-N.N5188':35, 'N.N4257':36, 'N.136N6':37, 'N.22393':38,\n",
    "'N.31287':39, 'N.41667':40, 'N.52135':41, 'N.62967':42, 'N.73545':43,\n",
    "'N.82562':44, 'N.91N93':45, '1.N2119':46, '1.13281':47, '1.23461':48,\n",
    "'1.37297':49, '1.49158':50, '1.6N383':51, '1.72N12':52, '1.8399':53,\n",
    "'1.98437':54, '2.127':55, '2.28554':56,'2.46262NNNNNNNNNN3':57, '2.61139':58,\n",
    "'2.82196':59, '3.27393':60}, inplace=True)\n",
    "df_plot.head(2)"
   ]
  },
  {
   "cell_type": "code",
   "execution_count": 29,
   "metadata": {},
   "outputs": [
    {
     "data": {
      "text/plain": [
       "array([29, 31, 34, 43, 24, 42, 33, 26, 56, 28, 27, 19, 22, 41, 49, 32, 25,\n",
       "       40, 51, 35, 36, 39, 46, 44, 37, 47, 23, 30, 38, 18, 45, 17, 53, 50,\n",
       "       60, 21, 54, 59, 48, 20, 55, 16, 57, 52, 58, 14, 15, 13, 12],\n",
       "      dtype=int64)"
      ]
     },
     "execution_count": 29,
     "metadata": {},
     "output_type": "execute_result"
    }
   ],
   "source": [
    "df_plot.neuroticism.unique()"
   ]
  },
  {
   "cell_type": "code",
   "execution_count": 30,
   "metadata": {},
   "outputs": [
    {
     "data": {
      "text/plain": [
       "array(['1.93886', 'E.8E523', '-E.8E615', '-1.6334',\n",
       "       '-E.3EE33EEEEEEEEEEE4', '-1.E92E7', '2.573E9',\n",
       "       'E.EE332EEEEEEEEEEEEE5', 'E.16767', '1.45421', '-1.5E796',\n",
       "       '-1.23177', '-E.15487', '-1.7625', 'E.47617', '-E.94779',\n",
       "       '-3.27393', 'E.63779', '-E.43999', '1.74E91', '-E.57545',\n",
       "       'E.32197', '1.2861', 'E.96248', '1.114E6', '-E.695E9', '1.58487',\n",
       "       '-1.37639', '-1.92173', '3.EE537', '2.127', '2.32338', '-2.21E69',\n",
       "       '-2.32338', '-2.11437', '-2.72827', '-2.5383', '-2.449E4',\n",
       "       '-2.E3972', '2.8595', '3.27393', '-3.EE537'], dtype=object)"
      ]
     },
     "execution_count": 30,
     "metadata": {},
     "output_type": "execute_result"
    }
   ],
   "source": [
    "df_plot.extraversion.unique()"
   ]
  },
  {
   "cell_type": "code",
   "execution_count": 31,
   "metadata": {},
   "outputs": [],
   "source": [
    "df_plot['extraversion'].replace({\n",
    "'-3.27393':16, '-3.EE537':18, '-2.72827':19,'-2.5383':20,'-2.449E4':21,\n",
    "'-2.32338':22,'-2.21E69':23,'-2.11437':24,'-2.E3972':25,'-1.92173':26,\n",
    "'-1.7625':27,'-1.6334':28,'-1.5E796':29,'-1.37639':30,'-1.23177':31,\n",
    "'-1.E92E7':32,'-E.94779':33,'-E.8E615':34,'-E.695E9':35,'-E.57545':36,\n",
    "'-E.43999':37,'-E.3EE33EEEEEEEEEEE4':38,'-E.15487':39,'E.EE332EEEEEEEEEEEEE5':40,\n",
    "'E.16767':41,'E.32197':42,'E.47617':43,'E.63779':44,'E.8E523':45,\n",
    "'E.96248':46,'1.114E6':47,'1.2861':48,'1.45421':49,'1.58487':50,\n",
    "'1.74E91':51,'1.93886':52,'2.127':53,'2.32338':54,'2.573E9':55,\n",
    "'2.8595':56,'3.EE537':58,'3.27393':59}, inplace=True)"
   ]
  },
  {
   "cell_type": "code",
   "execution_count": 32,
   "metadata": {},
   "outputs": [
    {
     "data": {
      "text/plain": [
       "array([52, 45, 34, 28, 38, 32, 55, 40, 41, 49, 29, 31, 39, 27, 43, 33, 16,\n",
       "       44, 37, 51, 36, 42, 48, 46, 47, 35, 50, 30, 26, 58, 53, 54, 23, 22,\n",
       "       24, 19, 20, 21, 25, 56, 59, 18], dtype=int64)"
      ]
     },
     "execution_count": 32,
     "metadata": {},
     "output_type": "execute_result"
    }
   ],
   "source": [
    "df_plot.extraversion.unique()"
   ]
  },
  {
   "cell_type": "code",
   "execution_count": 33,
   "metadata": {},
   "outputs": [
    {
     "data": {
      "text/plain": [
       "array(['1.43533', '-P.84732PPPPPPPPPP1', '-P.P1928', '-P.45174',\n",
       "       '-1.55521', '-P.97631', '-1.42424', '-1.119P2', 'P.14143',\n",
       "       'P.44585', '-1.68P62', '-P.31776', '-P.17779', '-2.39883',\n",
       "       'P.7233', '-1.2755299999999998', '1.24P33', '-3.27393', '-P.71727',\n",
       "       'P.883P899999999999', 'P.29338PPPPPPPPPPP3', '-2.63199', '1.P6238',\n",
       "       '-1.97495', '-P.58331', '-1.82919', '-2.8595', '-2.P9P15',\n",
       "       'P.58331', '2.15324PPPPPPPPPP3', '-2.21P69', '1.6565299999999998',\n",
       "       '1.88511', '2.9P161', '2.449P4'], dtype=object)"
      ]
     },
     "execution_count": 33,
     "metadata": {},
     "output_type": "execute_result"
    }
   ],
   "source": [
    "df_plot.openness.unique()"
   ]
  },
  {
   "cell_type": "code",
   "execution_count": 34,
   "metadata": {},
   "outputs": [],
   "source": [
    "df_plot['openness'].replace({\n",
    "'-3.27393':24,'-2.8595':26,'-2.63199':28,'-2.39883':29,'-2.21P69':30,\n",
    "'-2.P9P15':31,'-1.97495':32,'-1.82919':33,'-1.68P62':34,'-1.55521':35,\n",
    "'-1.42424':36,'-1.2755299999999998':37,'-1.119P2':38,'-P.97631':39,\n",
    "'-P.84732PPPPPPPPPP1':40,'-P.71727':41,'-P.58331':42,'-P.45174':43,\n",
    "'-P.31776':44,'-P.17779':45,'-P.P1928':46,'P.14143':47,'P.29338PPPPPPPPPPP3':48,\n",
    "'P.44585':49,'P.58331':50,'P.7233':51,'P.883P899999999999':52,\n",
    "'1.P6238':53,'1.24P33':54,'1.43533':55,'1.6565299999999998':56,\n",
    "'1.88511':57,'2.15324PPPPPPPPPP3':58,'2.449P4':59,'2.9P161':60}, inplace=True)"
   ]
  },
  {
   "cell_type": "code",
   "execution_count": 35,
   "metadata": {},
   "outputs": [
    {
     "data": {
      "text/plain": [
       "array([55, 40, 46, 43, 35, 39, 36, 38, 47, 49, 34, 44, 45, 29, 51, 37, 54,\n",
       "       24, 41, 52, 48, 28, 53, 32, 42, 33, 26, 31, 50, 58, 30, 56, 57, 60,\n",
       "       59], dtype=int64)"
      ]
     },
     "execution_count": 35,
     "metadata": {},
     "output_type": "execute_result"
    }
   ],
   "source": [
    "df_plot.openness.unique()"
   ]
  },
  {
   "cell_type": "code",
   "execution_count": 36,
   "metadata": {},
   "outputs": [
    {
     "data": {
      "text/plain": [
       "array(['A.76A96AAAAAAAAAA1', '-1.62A9', 'A.59A42', '-A.3A172', '2.A3972',\n",
       "       '-A.76A96AAAAAAAAAA1', '-1.92595', 'A.94156', '-A.6A633',\n",
       "       '-1.A7533', 'A.28783AAAAAAAAAAA3', '-A.45321AAAAAAAAAA1',\n",
       "       '1.611A799999999998', '1.114A6', '-A.A1729', '-1.47955', 'A.43852',\n",
       "       '1.2861', '-2.9A161', 'A.13136', '-2.A7848', '1.81866', '-A.15487',\n",
       "       '-A.91699', '-1.21213', '-1.34289', '1.45A39',\n",
       "       '-1.7719999999999998', '2.46262AAAAAAAAAA3', '2.23427', '-2.35413',\n",
       "       '-2.7A172', '-2.21844', '2.75696', '-2.5383', '3.15735',\n",
       "       '-2.78793', '-3.AA537', '-3.46436', '-3.15735', '3.46436'],\n",
       "      dtype=object)"
      ]
     },
     "execution_count": 36,
     "metadata": {},
     "output_type": "execute_result"
    }
   ],
   "source": [
    "df_plot.agreeableness.unique()"
   ]
  },
  {
   "cell_type": "code",
   "execution_count": 37,
   "metadata": {},
   "outputs": [],
   "source": [
    "df_plot['agreeableness'].replace({\n",
    "'-3.46436':12,'-3.15735':16,'-3.AA537':18,'-2.9A161':23,'-2.78793':24,\n",
    "'-2.7A172':25,'-2.5383':26,'-2.35413':27,'-2.21844':28,'-2.A7848':29,\n",
    "'-1.92595':30,'-1.7719999999999998':31,'-1.62A9':32,'-1.47955':33,\n",
    "'-1.34289':34,'-1.21213':35,'-1.A7533':36,'-A.91699':37,'-A.76A96AAAAAAAAAA1':38,\n",
    "'-A.6A633':39,'-A.45321AAAAAAAAAA1':40,'-A.3A172':41,'-A.15487':42,\n",
    "'-A.A1729':43,'A.13136':44,'A.28783AAAAAAAAAAA3':45,'A.43852':46,\n",
    "'A.59A42':47,'A.76A96AAAAAAAAAA1':48,'A.94156':49,'1.114A6':50,'1.2861':51,\n",
    "'1.45A39':52,'1.611A799999999998':53,'1.81866':54,'2.A3972':55,\n",
    "'2.23427':56,'2.46262AAAAAAAAAA3':57,'2.75696':58,'3.15735':59,'3.46436':60}, inplace=True)    "
   ]
  },
  {
   "cell_type": "code",
   "execution_count": 38,
   "metadata": {},
   "outputs": [
    {
     "data": {
      "text/plain": [
       "array([48, 32, 47, 41, 55, 38, 30, 49, 39, 36, 45, 40, 53, 50, 43, 33, 46,\n",
       "       51, 23, 44, 29, 54, 42, 37, 35, 34, 52, 31, 57, 56, 27, 25, 28, 58,\n",
       "       26, 59, 24, 18, 12, 16, 60], dtype=int64)"
      ]
     },
     "execution_count": 38,
     "metadata": {},
     "output_type": "execute_result"
    }
   ],
   "source": [
    "df_plot.agreeableness.unique()"
   ]
  },
  {
   "cell_type": "code",
   "execution_count": 39,
   "metadata": {},
   "outputs": [
    {
     "data": {
      "text/plain": [
       "array(['-C.14277', '-1.C145', 'C.5848899999999999', '1.3C612CCCCCCCCCC2',\n",
       "       '1.63C88', 'C.93949', '1.134C7', 'C.12331', '1.81175', '-C.52745',\n",
       "       '-C.78155', '3.46436', 'C.7583', '-1.385C2', '-1.5184', '-1.13788',\n",
       "       '-C.89891', '1.46191', '-C.CC665', '-2.181C9', '-C.65253',\n",
       "       'C.41594', '-C.4C581', 'C.25953CCCCCCCCCCC4', '-1.92173',\n",
       "       '-C.276C7', '-1.641C1', '2.C45C6', '2.33337', '-1.25773',\n",
       "       '2.63199', '-2.9C161', '-1.78169CCCCCCCCCC2', '-2.C45C6',\n",
       "       '-2.573C9', '-2.3C4C8', '-2.42317CCCCCCCCCC3', '-3.15735',\n",
       "       '-3.46436', '-2.72827', '3.CC537'], dtype=object)"
      ]
     },
     "execution_count": 39,
     "metadata": {},
     "output_type": "execute_result"
    }
   ],
   "source": [
    "df_plot.conscientiousness.unique()"
   ]
  },
  {
   "cell_type": "code",
   "execution_count": 40,
   "metadata": {},
   "outputs": [
    {
     "data": {
      "text/html": [
       "<div>\n",
       "<style scoped>\n",
       "    .dataframe tbody tr th:only-of-type {\n",
       "        vertical-align: middle;\n",
       "    }\n",
       "\n",
       "    .dataframe tbody tr th {\n",
       "        vertical-align: top;\n",
       "    }\n",
       "\n",
       "    .dataframe thead th {\n",
       "        text-align: right;\n",
       "    }\n",
       "</style>\n",
       "<table border=\"1\" class=\"dataframe\">\n",
       "  <thead>\n",
       "    <tr style=\"text-align: right;\">\n",
       "      <th></th>\n",
       "      <th>id</th>\n",
       "      <th>age_category</th>\n",
       "      <th>age</th>\n",
       "      <th>gender_category</th>\n",
       "      <th>gender</th>\n",
       "      <th>education_category</th>\n",
       "      <th>education</th>\n",
       "      <th>neuroticism</th>\n",
       "      <th>extraversion</th>\n",
       "      <th>openness</th>\n",
       "      <th>agreeableness</th>\n",
       "      <th>conscientiousness</th>\n",
       "      <th>impulsiveness</th>\n",
       "      <th>sensation</th>\n",
       "      <th>cannabis</th>\n",
       "    </tr>\n",
       "  </thead>\n",
       "  <tbody>\n",
       "    <tr>\n",
       "      <th>0</th>\n",
       "      <td>2</td>\n",
       "      <td>25-34</td>\n",
       "      <td>2</td>\n",
       "      <td>M</td>\n",
       "      <td>1</td>\n",
       "      <td>Doctorate</td>\n",
       "      <td>9</td>\n",
       "      <td>29</td>\n",
       "      <td>52</td>\n",
       "      <td>55</td>\n",
       "      <td>48</td>\n",
       "      <td>41</td>\n",
       "      <td>-M.71126</td>\n",
       "      <td>-S.21575</td>\n",
       "      <td>1</td>\n",
       "    </tr>\n",
       "    <tr>\n",
       "      <th>1</th>\n",
       "      <td>3</td>\n",
       "      <td>35-44</td>\n",
       "      <td>3</td>\n",
       "      <td>M</td>\n",
       "      <td>1</td>\n",
       "      <td>Certificate-diploma</td>\n",
       "      <td>6</td>\n",
       "      <td>31</td>\n",
       "      <td>45</td>\n",
       "      <td>40</td>\n",
       "      <td>32</td>\n",
       "      <td>34</td>\n",
       "      <td>-1.37983</td>\n",
       "      <td>S.4S148</td>\n",
       "      <td>1</td>\n",
       "    </tr>\n",
       "  </tbody>\n",
       "</table>\n",
       "</div>"
      ],
      "text/plain": [
       "   id age_category  age gender_category gender   education_category  \\\n",
       "0   2        25-34    2               M      1            Doctorate   \n",
       "1   3        35-44    3               M      1  Certificate-diploma   \n",
       "\n",
       "   education  neuroticism  extraversion  openness  agreeableness  \\\n",
       "0          9           29            52        55             48   \n",
       "1          6           31            45        40             32   \n",
       "\n",
       "   conscientiousness impulsiveness sensation  cannabis  \n",
       "0                 41      -M.71126  -S.21575         1  \n",
       "1                 34      -1.37983   S.4S148         1  "
      ]
     },
     "execution_count": 40,
     "metadata": {},
     "output_type": "execute_result"
    }
   ],
   "source": [
    "df_plot['conscientiousness'].replace({\n",
    "'-3.46436':17,'-3.15735':19,'-2.9C161':20,'-2.72827':21,'-2.573C9':22,\n",
    "'-2.42317CCCCCCCCCC3':23,'-2.3C4C8':24,'-2.181C9':25,'-2.C45C6':26,\n",
    "'-1.92173':27,'-1.78169CCCCCCCCCC2':28,'-1.641C1':29,'-1.5184':30,\n",
    "'-1.385C2':31,'-1.25773':32,'-1.13788':33,'-1.C145':34,'-C.89891':35,\n",
    "'-C.78155':36,'-C.65253':37,'-C.52745':38,'-C.4C581':39,'-C.276C7':40,\n",
    "'-C.14277':41,'-C.CC665':42,'C.12331':43,'C.25953CCCCCCCCCCC4':44,\n",
    "'C.41594':45,'C.5848899999999999':46,'C.7583':47,'C.93949':48,'1.134C7':49,\n",
    "'1.3C612CCCCCCCCCC2':50,'1.46191':51,'1.63C88':52,'1.81175':53,'2.C45C6':54,\n",
    "'2.33337':55,'2.63199':56,'3.CC537':57,'3.46436':59}, inplace=True)  \n",
    "df_plot.head(2)"
   ]
  },
  {
   "cell_type": "code",
   "execution_count": 41,
   "metadata": {},
   "outputs": [
    {
     "data": {
      "text/plain": [
       "array([41, 34, 46, 50, 52, 48, 49, 43, 53, 38, 36, 59, 47, 31, 30, 33, 35,\n",
       "       51, 42, 25, 37, 45, 39, 44, 27, 40, 29, 54, 55, 32, 56, 20, 28, 26,\n",
       "       22, 24, 23, 19, 17, 21, 57], dtype=int64)"
      ]
     },
     "execution_count": 41,
     "metadata": {},
     "output_type": "execute_result"
    }
   ],
   "source": [
    "df_plot.conscientiousness.unique()"
   ]
  },
  {
   "cell_type": "code",
   "execution_count": 42,
   "metadata": {},
   "outputs": [
    {
     "data": {
      "text/plain": [
       "array(['-M.71126', '-1.37983', '-M.21712', 'M.19268', 'M.52975',\n",
       "       '1.29221', '1.862M3', '-2.55524', 'M.88113', '2.9M161'],\n",
       "      dtype=object)"
      ]
     },
     "execution_count": 42,
     "metadata": {},
     "output_type": "execute_result"
    }
   ],
   "source": [
    "df_plot.impulsiveness.unique()"
   ]
  },
  {
   "cell_type": "code",
   "execution_count": 43,
   "metadata": {},
   "outputs": [
    {
     "data": {
      "text/html": [
       "<div>\n",
       "<style scoped>\n",
       "    .dataframe tbody tr th:only-of-type {\n",
       "        vertical-align: middle;\n",
       "    }\n",
       "\n",
       "    .dataframe tbody tr th {\n",
       "        vertical-align: top;\n",
       "    }\n",
       "\n",
       "    .dataframe thead th {\n",
       "        text-align: right;\n",
       "    }\n",
       "</style>\n",
       "<table border=\"1\" class=\"dataframe\">\n",
       "  <thead>\n",
       "    <tr style=\"text-align: right;\">\n",
       "      <th></th>\n",
       "      <th>id</th>\n",
       "      <th>age_category</th>\n",
       "      <th>age</th>\n",
       "      <th>gender_category</th>\n",
       "      <th>gender</th>\n",
       "      <th>education_category</th>\n",
       "      <th>education</th>\n",
       "      <th>neuroticism</th>\n",
       "      <th>extraversion</th>\n",
       "      <th>openness</th>\n",
       "      <th>agreeableness</th>\n",
       "      <th>conscientiousness</th>\n",
       "      <th>impulsiveness</th>\n",
       "      <th>sensation</th>\n",
       "      <th>cannabis</th>\n",
       "    </tr>\n",
       "  </thead>\n",
       "  <tbody>\n",
       "    <tr>\n",
       "      <th>0</th>\n",
       "      <td>2</td>\n",
       "      <td>25-34</td>\n",
       "      <td>2</td>\n",
       "      <td>M</td>\n",
       "      <td>1</td>\n",
       "      <td>Doctorate</td>\n",
       "      <td>9</td>\n",
       "      <td>29</td>\n",
       "      <td>52</td>\n",
       "      <td>55</td>\n",
       "      <td>48</td>\n",
       "      <td>41</td>\n",
       "      <td>3</td>\n",
       "      <td>-S.21575</td>\n",
       "      <td>1</td>\n",
       "    </tr>\n",
       "    <tr>\n",
       "      <th>1</th>\n",
       "      <td>3</td>\n",
       "      <td>35-44</td>\n",
       "      <td>3</td>\n",
       "      <td>M</td>\n",
       "      <td>1</td>\n",
       "      <td>Certificate-diploma</td>\n",
       "      <td>6</td>\n",
       "      <td>31</td>\n",
       "      <td>45</td>\n",
       "      <td>40</td>\n",
       "      <td>32</td>\n",
       "      <td>34</td>\n",
       "      <td>2</td>\n",
       "      <td>S.4S148</td>\n",
       "      <td>1</td>\n",
       "    </tr>\n",
       "  </tbody>\n",
       "</table>\n",
       "</div>"
      ],
      "text/plain": [
       "   id age_category  age gender_category gender   education_category  \\\n",
       "0   2        25-34    2               M      1            Doctorate   \n",
       "1   3        35-44    3               M      1  Certificate-diploma   \n",
       "\n",
       "   education  neuroticism  extraversion  openness  agreeableness  \\\n",
       "0          9           29            52        55             48   \n",
       "1          6           31            45        40             32   \n",
       "\n",
       "   conscientiousness  impulsiveness sensation  cannabis  \n",
       "0                 41              3  -S.21575         1  \n",
       "1                 34              2   S.4S148         1  "
      ]
     },
     "execution_count": 43,
     "metadata": {},
     "output_type": "execute_result"
    }
   ],
   "source": [
    "df_plot['impulsiveness'].replace({\n",
    "'-2.55524':1,'-1.37983':2,'-M.71126':3,'-M.21712':4,'M.19268':5,\n",
    "'M.52975':6,'M.88113':7,'1.29221':8,'1.862M3':9,'2.9M161':10}, inplace=True)  \n",
    "df_plot.head(2)"
   ]
  },
  {
   "cell_type": "code",
   "execution_count": 44,
   "metadata": {},
   "outputs": [
    {
     "data": {
      "text/plain": [
       "array([ 3,  2,  4,  5,  6,  8,  9,  1,  7, 10], dtype=int64)"
      ]
     },
     "execution_count": 44,
     "metadata": {},
     "output_type": "execute_result"
    }
   ],
   "source": [
    "df_plot.impulsiveness.unique()"
   ]
  },
  {
   "cell_type": "code",
   "execution_count": 45,
   "metadata": {},
   "outputs": [
    {
     "data": {
      "text/plain": [
       "array(['-S.21575', 'S.4S148', '-1.18S84', '-1.5485799999999998',\n",
       "       'S.S7987SSSSSSSSSSS1', '-S.52593', '-S.84637SSSSSSSSSS1', '1.2247',\n",
       "       'S.7654', '-2.S7848', '1.92173'], dtype=object)"
      ]
     },
     "execution_count": 45,
     "metadata": {},
     "output_type": "execute_result"
    }
   ],
   "source": [
    "df_plot.sensation.unique()"
   ]
  },
  {
   "cell_type": "code",
   "execution_count": 46,
   "metadata": {},
   "outputs": [
    {
     "data": {
      "text/html": [
       "<div>\n",
       "<style scoped>\n",
       "    .dataframe tbody tr th:only-of-type {\n",
       "        vertical-align: middle;\n",
       "    }\n",
       "\n",
       "    .dataframe tbody tr th {\n",
       "        vertical-align: top;\n",
       "    }\n",
       "\n",
       "    .dataframe thead th {\n",
       "        text-align: right;\n",
       "    }\n",
       "</style>\n",
       "<table border=\"1\" class=\"dataframe\">\n",
       "  <thead>\n",
       "    <tr style=\"text-align: right;\">\n",
       "      <th></th>\n",
       "      <th>id</th>\n",
       "      <th>age_category</th>\n",
       "      <th>age</th>\n",
       "      <th>gender_category</th>\n",
       "      <th>gender</th>\n",
       "      <th>education_category</th>\n",
       "      <th>education</th>\n",
       "      <th>neuroticism</th>\n",
       "      <th>extraversion</th>\n",
       "      <th>openness</th>\n",
       "      <th>agreeableness</th>\n",
       "      <th>conscientiousness</th>\n",
       "      <th>impulsiveness</th>\n",
       "      <th>sensation</th>\n",
       "      <th>cannabis</th>\n",
       "    </tr>\n",
       "  </thead>\n",
       "  <tbody>\n",
       "    <tr>\n",
       "      <th>0</th>\n",
       "      <td>2</td>\n",
       "      <td>25-34</td>\n",
       "      <td>2</td>\n",
       "      <td>M</td>\n",
       "      <td>1</td>\n",
       "      <td>Doctorate</td>\n",
       "      <td>9</td>\n",
       "      <td>29</td>\n",
       "      <td>52</td>\n",
       "      <td>55</td>\n",
       "      <td>48</td>\n",
       "      <td>41</td>\n",
       "      <td>3</td>\n",
       "      <td>9</td>\n",
       "      <td>1</td>\n",
       "    </tr>\n",
       "    <tr>\n",
       "      <th>1</th>\n",
       "      <td>3</td>\n",
       "      <td>35-44</td>\n",
       "      <td>3</td>\n",
       "      <td>M</td>\n",
       "      <td>1</td>\n",
       "      <td>Certificate-diploma</td>\n",
       "      <td>6</td>\n",
       "      <td>31</td>\n",
       "      <td>45</td>\n",
       "      <td>40</td>\n",
       "      <td>32</td>\n",
       "      <td>34</td>\n",
       "      <td>2</td>\n",
       "      <td>10</td>\n",
       "      <td>1</td>\n",
       "    </tr>\n",
       "  </tbody>\n",
       "</table>\n",
       "</div>"
      ],
      "text/plain": [
       "   id age_category  age gender_category gender   education_category  \\\n",
       "0   2        25-34    2               M      1            Doctorate   \n",
       "1   3        35-44    3               M      1  Certificate-diploma   \n",
       "\n",
       "   education  neuroticism  extraversion  openness  agreeableness  \\\n",
       "0          9           29            52        55             48   \n",
       "1          6           31            45        40             32   \n",
       "\n",
       "   conscientiousness  impulsiveness  sensation  cannabis  \n",
       "0                 41              3          9         1  \n",
       "1                 34              2         10         1  "
      ]
     },
     "execution_count": 46,
     "metadata": {},
     "output_type": "execute_result"
    }
   ],
   "source": [
    "df_plot['sensation'].replace({\n",
    "'-2.S7848':1,'-1.5485799999999998':2,'1.92173':2,'-1.18S84':3,\n",
    "'-S.84637SSSSSSSSSS1':4,'1.2247':5,'-S.52593':6,'S.7654':7,\n",
    "'S.S7987SSSSSSSSSSS1':8,'-S.21575':9,'S.4S148':10}, inplace=True)  \n",
    "df_plot.head(2)"
   ]
  },
  {
   "cell_type": "code",
   "execution_count": 47,
   "metadata": {},
   "outputs": [
    {
     "data": {
      "text/plain": [
       "array([ 9, 10,  3,  2,  8,  6,  4,  5,  7,  1], dtype=int64)"
      ]
     },
     "execution_count": 47,
     "metadata": {},
     "output_type": "execute_result"
    }
   ],
   "source": [
    "df_plot.sensation.unique()"
   ]
  },
  {
   "cell_type": "markdown",
   "metadata": {},
   "source": [
    "### Converted Dataframe - Matplolib Ready "
   ]
  },
  {
   "cell_type": "code",
   "execution_count": 48,
   "metadata": {},
   "outputs": [
    {
     "data": {
      "text/html": [
       "<div>\n",
       "<style scoped>\n",
       "    .dataframe tbody tr th:only-of-type {\n",
       "        vertical-align: middle;\n",
       "    }\n",
       "\n",
       "    .dataframe tbody tr th {\n",
       "        vertical-align: top;\n",
       "    }\n",
       "\n",
       "    .dataframe thead th {\n",
       "        text-align: right;\n",
       "    }\n",
       "</style>\n",
       "<table border=\"1\" class=\"dataframe\">\n",
       "  <thead>\n",
       "    <tr style=\"text-align: right;\">\n",
       "      <th></th>\n",
       "      <th>id</th>\n",
       "      <th>age_category</th>\n",
       "      <th>age</th>\n",
       "      <th>gender_category</th>\n",
       "      <th>gender</th>\n",
       "      <th>education_category</th>\n",
       "      <th>education</th>\n",
       "      <th>neuroticism</th>\n",
       "      <th>extraversion</th>\n",
       "      <th>openness</th>\n",
       "      <th>agreeableness</th>\n",
       "      <th>conscientiousness</th>\n",
       "      <th>impulsiveness</th>\n",
       "      <th>sensation</th>\n",
       "      <th>cannabis</th>\n",
       "    </tr>\n",
       "  </thead>\n",
       "  <tbody>\n",
       "    <tr>\n",
       "      <th>0</th>\n",
       "      <td>2</td>\n",
       "      <td>25-34</td>\n",
       "      <td>2</td>\n",
       "      <td>M</td>\n",
       "      <td>1</td>\n",
       "      <td>Doctorate</td>\n",
       "      <td>9</td>\n",
       "      <td>29</td>\n",
       "      <td>52</td>\n",
       "      <td>55</td>\n",
       "      <td>48</td>\n",
       "      <td>41</td>\n",
       "      <td>3</td>\n",
       "      <td>9</td>\n",
       "      <td>1</td>\n",
       "    </tr>\n",
       "    <tr>\n",
       "      <th>1</th>\n",
       "      <td>3</td>\n",
       "      <td>35-44</td>\n",
       "      <td>3</td>\n",
       "      <td>M</td>\n",
       "      <td>1</td>\n",
       "      <td>Certificate-diploma</td>\n",
       "      <td>6</td>\n",
       "      <td>31</td>\n",
       "      <td>45</td>\n",
       "      <td>40</td>\n",
       "      <td>32</td>\n",
       "      <td>34</td>\n",
       "      <td>2</td>\n",
       "      <td>10</td>\n",
       "      <td>1</td>\n",
       "    </tr>\n",
       "  </tbody>\n",
       "</table>\n",
       "</div>"
      ],
      "text/plain": [
       "   id age_category  age gender_category gender   education_category  \\\n",
       "0   2        25-34    2               M      1            Doctorate   \n",
       "1   3        35-44    3               M      1  Certificate-diploma   \n",
       "\n",
       "   education  neuroticism  extraversion  openness  agreeableness  \\\n",
       "0          9           29            52        55             48   \n",
       "1          6           31            45        40             32   \n",
       "\n",
       "   conscientiousness  impulsiveness  sensation  cannabis  \n",
       "0                 41              3          9         1  \n",
       "1                 34              2         10         1  "
      ]
     },
     "execution_count": 48,
     "metadata": {},
     "output_type": "execute_result"
    }
   ],
   "source": [
    "df_plot.head(2)"
   ]
  },
  {
   "cell_type": "code",
   "execution_count": 49,
   "metadata": {},
   "outputs": [],
   "source": [
    "export_df_plot_csv = df_plot.to_csv (\"data/manual_personality_scores_drugdata_original_plus_onehot.csv\", index = None, header=True)"
   ]
  },
  {
   "cell_type": "markdown",
   "metadata": {},
   "source": [
    "***"
   ]
  },
  {
   "cell_type": "markdown",
   "metadata": {},
   "source": [
    "# Validation Data - To be Used with the Model"
   ]
  },
  {
   "cell_type": "markdown",
   "metadata": {},
   "source": [
    "## Load, Clean and Filter the Validation .tsv file"
   ]
  },
  {
   "cell_type": "markdown",
   "metadata": {},
   "source": [
    "**Validation Data**\n",
    "\n",
    "The data set was obtained from [SAMHDA Substance Abuse and Mental Health Services Administration](https://datafiles.samhsa.gov/study-dataset/national-survey-drug-use-and-health-2017-nsduh-2017-ds0001-nid17939)\n",
    "\n",
    "The series is from the National Survey on Drug Use and Health, 2017 (NSDUH-2017-DS0001).\n",
    "\n",
    "**Study Series details background:**\n",
    "\n",
    "The National Survey on Drug Use and Health (NSDUH) series, is a major source of statistical information on the use of illicit drugs, alcohol, and tobacco and on mental health issues among members of the U.S."
   ]
  },
  {
   "cell_type": "code",
   "execution_count": 50,
   "metadata": {},
   "outputs": [],
   "source": [
    "import pandas as pd\n",
    "import numpy as np\n",
    "NSDUH_df = pd.read_csv('data/NSDUH_2017_Tab.tsv', sep='\\t', low_memory=False)"
   ]
  },
  {
   "cell_type": "code",
   "execution_count": 51,
   "metadata": {},
   "outputs": [
    {
     "data": {
      "text/html": [
       "<div>\n",
       "<style scoped>\n",
       "    .dataframe tbody tr th:only-of-type {\n",
       "        vertical-align: middle;\n",
       "    }\n",
       "\n",
       "    .dataframe tbody tr th {\n",
       "        vertical-align: top;\n",
       "    }\n",
       "\n",
       "    .dataframe thead th {\n",
       "        text-align: right;\n",
       "    }\n",
       "</style>\n",
       "<table border=\"1\" class=\"dataframe\">\n",
       "  <thead>\n",
       "    <tr style=\"text-align: right;\">\n",
       "      <th></th>\n",
       "      <th>QUESTID2</th>\n",
       "      <th>FILEDATE</th>\n",
       "      <th>CIGEVER</th>\n",
       "      <th>CIGOFRSM</th>\n",
       "      <th>CIGWILYR</th>\n",
       "      <th>CIGTRY</th>\n",
       "      <th>CIGYFU</th>\n",
       "      <th>CIGMFU</th>\n",
       "      <th>CIGREC</th>\n",
       "      <th>CIG30USE</th>\n",
       "      <th>...</th>\n",
       "      <th>POVERTY3</th>\n",
       "      <th>TOOLONG</th>\n",
       "      <th>TROUBUND</th>\n",
       "      <th>PDEN10</th>\n",
       "      <th>COUTYP4</th>\n",
       "      <th>MAIIN102</th>\n",
       "      <th>AIIND102</th>\n",
       "      <th>ANALWT_C</th>\n",
       "      <th>VESTR</th>\n",
       "      <th>VEREP</th>\n",
       "    </tr>\n",
       "  </thead>\n",
       "  <tbody>\n",
       "    <tr>\n",
       "      <th>0</th>\n",
       "      <td>55235143</td>\n",
       "      <td>10/09/2018</td>\n",
       "      <td>1</td>\n",
       "      <td>99</td>\n",
       "      <td>99</td>\n",
       "      <td>13</td>\n",
       "      <td>9999</td>\n",
       "      <td>99</td>\n",
       "      <td>4</td>\n",
       "      <td>93</td>\n",
       "      <td>...</td>\n",
       "      <td>3.0</td>\n",
       "      <td>2</td>\n",
       "      <td>2</td>\n",
       "      <td>1</td>\n",
       "      <td>1</td>\n",
       "      <td>2</td>\n",
       "      <td>2</td>\n",
       "      <td>11203.888954</td>\n",
       "      <td>40043</td>\n",
       "      <td>1</td>\n",
       "    </tr>\n",
       "    <tr>\n",
       "      <th>1</th>\n",
       "      <td>13435143</td>\n",
       "      <td>10/09/2018</td>\n",
       "      <td>1</td>\n",
       "      <td>99</td>\n",
       "      <td>99</td>\n",
       "      <td>15</td>\n",
       "      <td>9999</td>\n",
       "      <td>99</td>\n",
       "      <td>1</td>\n",
       "      <td>18</td>\n",
       "      <td>...</td>\n",
       "      <td>3.0</td>\n",
       "      <td>1</td>\n",
       "      <td>2</td>\n",
       "      <td>1</td>\n",
       "      <td>1</td>\n",
       "      <td>2</td>\n",
       "      <td>2</td>\n",
       "      <td>9496.462244</td>\n",
       "      <td>40006</td>\n",
       "      <td>2</td>\n",
       "    </tr>\n",
       "  </tbody>\n",
       "</table>\n",
       "<p>2 rows × 2668 columns</p>\n",
       "</div>"
      ],
      "text/plain": [
       "   QUESTID2    FILEDATE  CIGEVER  CIGOFRSM  CIGWILYR  CIGTRY  CIGYFU  CIGMFU  \\\n",
       "0  55235143  10/09/2018        1        99        99      13    9999      99   \n",
       "1  13435143  10/09/2018        1        99        99      15    9999      99   \n",
       "\n",
       "   CIGREC  CIG30USE  ...    POVERTY3  TOOLONG  TROUBUND  PDEN10  COUTYP4  \\\n",
       "0       4        93  ...         3.0        2         2       1        1   \n",
       "1       1        18  ...         3.0        1         2       1        1   \n",
       "\n",
       "   MAIIN102  AIIND102      ANALWT_C  VESTR  VEREP  \n",
       "0         2         2  11203.888954  40043      1  \n",
       "1         2         2   9496.462244  40006      2  \n",
       "\n",
       "[2 rows x 2668 columns]"
      ]
     },
     "execution_count": 51,
     "metadata": {},
     "output_type": "execute_result"
    }
   ],
   "source": [
    "NSDUH_df.head(2)"
   ]
  },
  {
   "cell_type": "code",
   "execution_count": 52,
   "metadata": {},
   "outputs": [
    {
     "data": {
      "text/html": [
       "<div>\n",
       "<style scoped>\n",
       "    .dataframe tbody tr th:only-of-type {\n",
       "        vertical-align: middle;\n",
       "    }\n",
       "\n",
       "    .dataframe tbody tr th {\n",
       "        vertical-align: top;\n",
       "    }\n",
       "\n",
       "    .dataframe thead th {\n",
       "        text-align: right;\n",
       "    }\n",
       "</style>\n",
       "<table border=\"1\" class=\"dataframe\">\n",
       "  <thead>\n",
       "    <tr style=\"text-align: right;\">\n",
       "      <th></th>\n",
       "      <th>QUESTID2</th>\n",
       "      <th>AGE2</th>\n",
       "      <th>IRSEX</th>\n",
       "      <th>IREDUHIGHST2</th>\n",
       "      <th>MJEVER</th>\n",
       "    </tr>\n",
       "  </thead>\n",
       "  <tbody>\n",
       "    <tr>\n",
       "      <th>0</th>\n",
       "      <td>55235143</td>\n",
       "      <td>17</td>\n",
       "      <td>1</td>\n",
       "      <td>11</td>\n",
       "      <td>2</td>\n",
       "    </tr>\n",
       "    <tr>\n",
       "      <th>1</th>\n",
       "      <td>13435143</td>\n",
       "      <td>15</td>\n",
       "      <td>1</td>\n",
       "      <td>11</td>\n",
       "      <td>1</td>\n",
       "    </tr>\n",
       "  </tbody>\n",
       "</table>\n",
       "</div>"
      ],
      "text/plain": [
       "   QUESTID2  AGE2  IRSEX  IREDUHIGHST2  MJEVER\n",
       "0  55235143    17      1            11       2\n",
       "1  13435143    15      1            11       1"
      ]
     },
     "execution_count": 52,
     "metadata": {},
     "output_type": "execute_result"
    }
   ],
   "source": [
    "NSDUH_df_trimmed = NSDUH_df[['QUESTID2', 'AGE2', 'IRSEX', 'IREDUHIGHST2',\n",
    "                     'MJEVER']]\n",
    "NSDUH_df_trimmed.head(2)"
   ]
  },
  {
   "cell_type": "code",
   "execution_count": 53,
   "metadata": {},
   "outputs": [
    {
     "data": {
      "text/html": [
       "<div>\n",
       "<style scoped>\n",
       "    .dataframe tbody tr th:only-of-type {\n",
       "        vertical-align: middle;\n",
       "    }\n",
       "\n",
       "    .dataframe tbody tr th {\n",
       "        vertical-align: top;\n",
       "    }\n",
       "\n",
       "    .dataframe thead th {\n",
       "        text-align: right;\n",
       "    }\n",
       "</style>\n",
       "<table border=\"1\" class=\"dataframe\">\n",
       "  <thead>\n",
       "    <tr style=\"text-align: right;\">\n",
       "      <th></th>\n",
       "      <th>id</th>\n",
       "      <th>age</th>\n",
       "      <th>gender</th>\n",
       "      <th>education</th>\n",
       "      <th>cannabis</th>\n",
       "    </tr>\n",
       "  </thead>\n",
       "  <tbody>\n",
       "    <tr>\n",
       "      <th>0</th>\n",
       "      <td>55235143</td>\n",
       "      <td>17</td>\n",
       "      <td>1</td>\n",
       "      <td>11</td>\n",
       "      <td>2</td>\n",
       "    </tr>\n",
       "    <tr>\n",
       "      <th>1</th>\n",
       "      <td>13435143</td>\n",
       "      <td>15</td>\n",
       "      <td>1</td>\n",
       "      <td>11</td>\n",
       "      <td>1</td>\n",
       "    </tr>\n",
       "  </tbody>\n",
       "</table>\n",
       "</div>"
      ],
      "text/plain": [
       "         id  age  gender  education  cannabis\n",
       "0  55235143   17       1         11         2\n",
       "1  13435143   15       1         11         1"
      ]
     },
     "execution_count": 53,
     "metadata": {},
     "output_type": "execute_result"
    }
   ],
   "source": [
    "# Rename the columns with more informative names \n",
    "NSDUH_df_trimmed.rename(columns={\n",
    "    'QUESTID2' : 'id',\n",
    "    'AGE2' : 'age',\n",
    "    'IRSEX' : 'gender',\n",
    "    'IREDUHIGHST2' : 'education',\n",
    "    'MJEVER' : 'cannabis'}, \n",
    "    inplace=True)\n",
    "\n",
    "NSDUH_df_trimmed.head(2)"
   ]
  },
  {
   "cell_type": "code",
   "execution_count": 54,
   "metadata": {},
   "outputs": [],
   "source": [
    "NSDUH_df_trimmed['neuroticism'] = np.random.randint(12, 61, size=len(NSDUH_df))\n",
    "NSDUH_df_trimmed['extraversion'] = np.random.randint(16, 60, size=len(NSDUH_df))\n",
    "NSDUH_df_trimmed['openness'] = np.random.randint(24, 61, size=len(NSDUH_df))\n",
    "NSDUH_df_trimmed['agreeableness'] = np.random.randint(12, 61, size=len(NSDUH_df))\n",
    "NSDUH_df_trimmed['conscientiousness'] = np.random.randint(17, 59, size=len(NSDUH_df))\n",
    "NSDUH_df_trimmed['impulsiveness'] = np.random.randint(1, 11, size=len(NSDUH_df))\n",
    "NSDUH_df_trimmed['sensation'] = np.random.randint(1, 12, size=len(NSDUH_df))\n"
   ]
  },
  {
   "cell_type": "code",
   "execution_count": 55,
   "metadata": {},
   "outputs": [
    {
     "data": {
      "text/html": [
       "<div>\n",
       "<style scoped>\n",
       "    .dataframe tbody tr th:only-of-type {\n",
       "        vertical-align: middle;\n",
       "    }\n",
       "\n",
       "    .dataframe tbody tr th {\n",
       "        vertical-align: top;\n",
       "    }\n",
       "\n",
       "    .dataframe thead th {\n",
       "        text-align: right;\n",
       "    }\n",
       "</style>\n",
       "<table border=\"1\" class=\"dataframe\">\n",
       "  <thead>\n",
       "    <tr style=\"text-align: right;\">\n",
       "      <th></th>\n",
       "      <th>id</th>\n",
       "      <th>age</th>\n",
       "      <th>gender</th>\n",
       "      <th>education</th>\n",
       "      <th>cannabis</th>\n",
       "      <th>neuroticism</th>\n",
       "      <th>extraversion</th>\n",
       "      <th>openness</th>\n",
       "      <th>agreeableness</th>\n",
       "      <th>conscientiousness</th>\n",
       "      <th>impulsiveness</th>\n",
       "      <th>sensation</th>\n",
       "    </tr>\n",
       "  </thead>\n",
       "  <tbody>\n",
       "    <tr>\n",
       "      <th>0</th>\n",
       "      <td>55235143</td>\n",
       "      <td>17</td>\n",
       "      <td>1</td>\n",
       "      <td>11</td>\n",
       "      <td>2</td>\n",
       "      <td>28</td>\n",
       "      <td>52</td>\n",
       "      <td>46</td>\n",
       "      <td>26</td>\n",
       "      <td>52</td>\n",
       "      <td>5</td>\n",
       "      <td>2</td>\n",
       "    </tr>\n",
       "    <tr>\n",
       "      <th>1</th>\n",
       "      <td>13435143</td>\n",
       "      <td>15</td>\n",
       "      <td>1</td>\n",
       "      <td>11</td>\n",
       "      <td>1</td>\n",
       "      <td>13</td>\n",
       "      <td>34</td>\n",
       "      <td>52</td>\n",
       "      <td>40</td>\n",
       "      <td>22</td>\n",
       "      <td>7</td>\n",
       "      <td>4</td>\n",
       "    </tr>\n",
       "  </tbody>\n",
       "</table>\n",
       "</div>"
      ],
      "text/plain": [
       "         id  age  gender  education  cannabis  neuroticism  extraversion  \\\n",
       "0  55235143   17       1         11         2           28            52   \n",
       "1  13435143   15       1         11         1           13            34   \n",
       "\n",
       "   openness  agreeableness  conscientiousness  impulsiveness  sensation  \n",
       "0        46             26                 52              5          2  \n",
       "1        52             40                 22              7          4  "
      ]
     },
     "execution_count": 55,
     "metadata": {},
     "output_type": "execute_result"
    }
   ],
   "source": [
    "NSDUH_df_trimmed.head(2)"
   ]
  },
  {
   "cell_type": "code",
   "execution_count": 56,
   "metadata": {
    "scrolled": true
   },
   "outputs": [
    {
     "data": {
      "text/html": [
       "<div>\n",
       "<style scoped>\n",
       "    .dataframe tbody tr th:only-of-type {\n",
       "        vertical-align: middle;\n",
       "    }\n",
       "\n",
       "    .dataframe tbody tr th {\n",
       "        vertical-align: top;\n",
       "    }\n",
       "\n",
       "    .dataframe thead th {\n",
       "        text-align: right;\n",
       "    }\n",
       "</style>\n",
       "<table border=\"1\" class=\"dataframe\">\n",
       "  <thead>\n",
       "    <tr style=\"text-align: right;\">\n",
       "      <th></th>\n",
       "      <th>id</th>\n",
       "      <th>age</th>\n",
       "      <th>gender</th>\n",
       "      <th>education</th>\n",
       "      <th>neuroticism</th>\n",
       "      <th>extraversion</th>\n",
       "      <th>openness</th>\n",
       "      <th>agreeableness</th>\n",
       "      <th>conscientiousness</th>\n",
       "      <th>impulsiveness</th>\n",
       "      <th>sensation</th>\n",
       "      <th>cannabis</th>\n",
       "    </tr>\n",
       "  </thead>\n",
       "  <tbody>\n",
       "    <tr>\n",
       "      <th>0</th>\n",
       "      <td>55235143</td>\n",
       "      <td>17</td>\n",
       "      <td>1</td>\n",
       "      <td>11</td>\n",
       "      <td>28</td>\n",
       "      <td>52</td>\n",
       "      <td>46</td>\n",
       "      <td>26</td>\n",
       "      <td>52</td>\n",
       "      <td>5</td>\n",
       "      <td>2</td>\n",
       "      <td>2</td>\n",
       "    </tr>\n",
       "    <tr>\n",
       "      <th>1</th>\n",
       "      <td>13435143</td>\n",
       "      <td>15</td>\n",
       "      <td>1</td>\n",
       "      <td>11</td>\n",
       "      <td>13</td>\n",
       "      <td>34</td>\n",
       "      <td>52</td>\n",
       "      <td>40</td>\n",
       "      <td>22</td>\n",
       "      <td>7</td>\n",
       "      <td>4</td>\n",
       "      <td>1</td>\n",
       "    </tr>\n",
       "  </tbody>\n",
       "</table>\n",
       "</div>"
      ],
      "text/plain": [
       "         id  age  gender  education  neuroticism  extraversion  openness  \\\n",
       "0  55235143   17       1         11           28            52        46   \n",
       "1  13435143   15       1         11           13            34        52   \n",
       "\n",
       "   agreeableness  conscientiousness  impulsiveness  sensation  cannabis  \n",
       "0             26                 52              5          2         2  \n",
       "1             40                 22              7          4         1  "
      ]
     },
     "execution_count": 56,
     "metadata": {},
     "output_type": "execute_result"
    }
   ],
   "source": [
    "NSDUH_df_trimmed = NSDUH_df_trimmed[[\"id\", \"age\", \"gender\", \"education\", \"neuroticism\", \"extraversion\", \"openness\",  \"agreeableness\", \"conscientiousness\", \"impulsiveness\", \"sensation\", \"cannabis\"]]\n",
    "NSDUH_df_trimmed.head(2)"
   ]
  },
  {
   "cell_type": "code",
   "execution_count": 57,
   "metadata": {},
   "outputs": [],
   "source": [
    "export_NSDUH_df_csv = NSDUH_df_trimmed.to_csv ('data/NSDUH_trimmed_data.csv', index = None, header=True)"
   ]
  },
  {
   "cell_type": "markdown",
   "metadata": {},
   "source": [
    "***"
   ]
  },
  {
   "cell_type": "markdown",
   "metadata": {},
   "source": [
    "## Normalize the Validation Data Set "
   ]
  },
  {
   "cell_type": "code",
   "execution_count": 58,
   "metadata": {},
   "outputs": [],
   "source": [
    "converted_df = pd.read_csv('data/NSDUH_trimmed_data.csv', low_memory=False)"
   ]
  },
  {
   "cell_type": "code",
   "execution_count": 59,
   "metadata": {},
   "outputs": [
    {
     "data": {
      "text/html": [
       "<div>\n",
       "<style scoped>\n",
       "    .dataframe tbody tr th:only-of-type {\n",
       "        vertical-align: middle;\n",
       "    }\n",
       "\n",
       "    .dataframe tbody tr th {\n",
       "        vertical-align: top;\n",
       "    }\n",
       "\n",
       "    .dataframe thead th {\n",
       "        text-align: right;\n",
       "    }\n",
       "</style>\n",
       "<table border=\"1\" class=\"dataframe\">\n",
       "  <thead>\n",
       "    <tr style=\"text-align: right;\">\n",
       "      <th></th>\n",
       "      <th>id</th>\n",
       "      <th>age</th>\n",
       "      <th>gender</th>\n",
       "      <th>education</th>\n",
       "      <th>neuroticism</th>\n",
       "      <th>extraversion</th>\n",
       "      <th>openness</th>\n",
       "      <th>agreeableness</th>\n",
       "      <th>conscientiousness</th>\n",
       "      <th>impulsiveness</th>\n",
       "      <th>sensation</th>\n",
       "      <th>cannabis</th>\n",
       "    </tr>\n",
       "  </thead>\n",
       "  <tbody>\n",
       "    <tr>\n",
       "      <th>0</th>\n",
       "      <td>55235143</td>\n",
       "      <td>17</td>\n",
       "      <td>1</td>\n",
       "      <td>11</td>\n",
       "      <td>28</td>\n",
       "      <td>52</td>\n",
       "      <td>46</td>\n",
       "      <td>26</td>\n",
       "      <td>52</td>\n",
       "      <td>5</td>\n",
       "      <td>2</td>\n",
       "      <td>2</td>\n",
       "    </tr>\n",
       "    <tr>\n",
       "      <th>1</th>\n",
       "      <td>13435143</td>\n",
       "      <td>15</td>\n",
       "      <td>1</td>\n",
       "      <td>11</td>\n",
       "      <td>13</td>\n",
       "      <td>34</td>\n",
       "      <td>52</td>\n",
       "      <td>40</td>\n",
       "      <td>22</td>\n",
       "      <td>7</td>\n",
       "      <td>4</td>\n",
       "      <td>1</td>\n",
       "    </tr>\n",
       "    <tr>\n",
       "      <th>2</th>\n",
       "      <td>81345143</td>\n",
       "      <td>15</td>\n",
       "      <td>1</td>\n",
       "      <td>9</td>\n",
       "      <td>50</td>\n",
       "      <td>45</td>\n",
       "      <td>26</td>\n",
       "      <td>24</td>\n",
       "      <td>53</td>\n",
       "      <td>8</td>\n",
       "      <td>8</td>\n",
       "      <td>1</td>\n",
       "    </tr>\n",
       "  </tbody>\n",
       "</table>\n",
       "</div>"
      ],
      "text/plain": [
       "         id  age  gender  education  neuroticism  extraversion  openness  \\\n",
       "0  55235143   17       1         11           28            52        46   \n",
       "1  13435143   15       1         11           13            34        52   \n",
       "2  81345143   15       1          9           50            45        26   \n",
       "\n",
       "   agreeableness  conscientiousness  impulsiveness  sensation  cannabis  \n",
       "0             26                 52              5          2         2  \n",
       "1             40                 22              7          4         1  \n",
       "2             24                 53              8          8         1  "
      ]
     },
     "execution_count": 59,
     "metadata": {},
     "output_type": "execute_result"
    }
   ],
   "source": [
    "converted_df.head(3)"
   ]
  },
  {
   "cell_type": "code",
   "execution_count": 60,
   "metadata": {},
   "outputs": [
    {
     "data": {
      "text/html": [
       "<div>\n",
       "<style scoped>\n",
       "    .dataframe tbody tr th:only-of-type {\n",
       "        vertical-align: middle;\n",
       "    }\n",
       "\n",
       "    .dataframe tbody tr th {\n",
       "        vertical-align: top;\n",
       "    }\n",
       "\n",
       "    .dataframe thead th {\n",
       "        text-align: right;\n",
       "    }\n",
       "</style>\n",
       "<table border=\"1\" class=\"dataframe\">\n",
       "  <thead>\n",
       "    <tr style=\"text-align: right;\">\n",
       "      <th></th>\n",
       "      <th>id</th>\n",
       "      <th>age</th>\n",
       "      <th>gender</th>\n",
       "      <th>education</th>\n",
       "      <th>neuroticism</th>\n",
       "      <th>extraversion</th>\n",
       "      <th>openness</th>\n",
       "      <th>agreeableness</th>\n",
       "      <th>conscientiousness</th>\n",
       "      <th>impulsiveness</th>\n",
       "      <th>sensation</th>\n",
       "      <th>cannabis</th>\n",
       "    </tr>\n",
       "  </thead>\n",
       "  <tbody>\n",
       "    <tr>\n",
       "      <th>0</th>\n",
       "      <td>55235143</td>\n",
       "      <td>3</td>\n",
       "      <td>1</td>\n",
       "      <td>11</td>\n",
       "      <td>28</td>\n",
       "      <td>52</td>\n",
       "      <td>46</td>\n",
       "      <td>26</td>\n",
       "      <td>52</td>\n",
       "      <td>5</td>\n",
       "      <td>2</td>\n",
       "      <td>2</td>\n",
       "    </tr>\n",
       "    <tr>\n",
       "      <th>1</th>\n",
       "      <td>13435143</td>\n",
       "      <td>2</td>\n",
       "      <td>1</td>\n",
       "      <td>11</td>\n",
       "      <td>13</td>\n",
       "      <td>34</td>\n",
       "      <td>52</td>\n",
       "      <td>40</td>\n",
       "      <td>22</td>\n",
       "      <td>7</td>\n",
       "      <td>4</td>\n",
       "      <td>1</td>\n",
       "    </tr>\n",
       "  </tbody>\n",
       "</table>\n",
       "</div>"
      ],
      "text/plain": [
       "         id  age  gender  education  neuroticism  extraversion  openness  \\\n",
       "0  55235143    3       1         11           28            52        46   \n",
       "1  13435143    2       1         11           13            34        52   \n",
       "\n",
       "   agreeableness  conscientiousness  impulsiveness  sensation  cannabis  \n",
       "0             26                 52              5          2         2  \n",
       "1             40                 22              7          4         1  "
      ]
     },
     "execution_count": 60,
     "metadata": {},
     "output_type": "execute_result"
    }
   ],
   "source": [
    "converted_df['age'] = np.random.randint(1, 7, size=len(converted_df))\n",
    "converted_df.head(2)"
   ]
  },
  {
   "cell_type": "code",
   "execution_count": 61,
   "metadata": {},
   "outputs": [
    {
     "data": {
      "text/plain": [
       "array([3, 2, 5, 4, 6, 1], dtype=int64)"
      ]
     },
     "execution_count": 61,
     "metadata": {},
     "output_type": "execute_result"
    }
   ],
   "source": [
    "converted_df.age.unique()"
   ]
  },
  {
   "cell_type": "code",
   "execution_count": 62,
   "metadata": {},
   "outputs": [
    {
     "data": {
      "text/html": [
       "<div>\n",
       "<style scoped>\n",
       "    .dataframe tbody tr th:only-of-type {\n",
       "        vertical-align: middle;\n",
       "    }\n",
       "\n",
       "    .dataframe tbody tr th {\n",
       "        vertical-align: top;\n",
       "    }\n",
       "\n",
       "    .dataframe thead th {\n",
       "        text-align: right;\n",
       "    }\n",
       "</style>\n",
       "<table border=\"1\" class=\"dataframe\">\n",
       "  <thead>\n",
       "    <tr style=\"text-align: right;\">\n",
       "      <th></th>\n",
       "      <th>id</th>\n",
       "      <th>age</th>\n",
       "      <th>gender</th>\n",
       "      <th>education</th>\n",
       "      <th>neuroticism</th>\n",
       "      <th>extraversion</th>\n",
       "      <th>openness</th>\n",
       "      <th>agreeableness</th>\n",
       "      <th>conscientiousness</th>\n",
       "      <th>impulsiveness</th>\n",
       "      <th>sensation</th>\n",
       "      <th>cannabis</th>\n",
       "    </tr>\n",
       "  </thead>\n",
       "  <tbody>\n",
       "    <tr>\n",
       "      <th>0</th>\n",
       "      <td>55235143</td>\n",
       "      <td>3</td>\n",
       "      <td>1</td>\n",
       "      <td>8</td>\n",
       "      <td>28</td>\n",
       "      <td>52</td>\n",
       "      <td>46</td>\n",
       "      <td>26</td>\n",
       "      <td>52</td>\n",
       "      <td>5</td>\n",
       "      <td>2</td>\n",
       "      <td>2</td>\n",
       "    </tr>\n",
       "    <tr>\n",
       "      <th>1</th>\n",
       "      <td>13435143</td>\n",
       "      <td>2</td>\n",
       "      <td>1</td>\n",
       "      <td>4</td>\n",
       "      <td>13</td>\n",
       "      <td>34</td>\n",
       "      <td>52</td>\n",
       "      <td>40</td>\n",
       "      <td>22</td>\n",
       "      <td>7</td>\n",
       "      <td>4</td>\n",
       "      <td>1</td>\n",
       "    </tr>\n",
       "  </tbody>\n",
       "</table>\n",
       "</div>"
      ],
      "text/plain": [
       "         id  age  gender  education  neuroticism  extraversion  openness  \\\n",
       "0  55235143    3       1          8           28            52        46   \n",
       "1  13435143    2       1          4           13            34        52   \n",
       "\n",
       "   agreeableness  conscientiousness  impulsiveness  sensation  cannabis  \n",
       "0             26                 52              5          2         2  \n",
       "1             40                 22              7          4         1  "
      ]
     },
     "execution_count": 62,
     "metadata": {},
     "output_type": "execute_result"
    }
   ],
   "source": [
    "converted_df['education'] = np.random.randint(1, 10, size=len(converted_df))\n",
    "converted_df.head(2)"
   ]
  },
  {
   "cell_type": "code",
   "execution_count": 63,
   "metadata": {},
   "outputs": [
    {
     "data": {
      "text/plain": [
       "array([8, 4, 2, 9, 7, 3, 6, 1, 5], dtype=int64)"
      ]
     },
     "execution_count": 63,
     "metadata": {},
     "output_type": "execute_result"
    }
   ],
   "source": [
    "converted_df.education.unique()"
   ]
  },
  {
   "cell_type": "code",
   "execution_count": 64,
   "metadata": {},
   "outputs": [
    {
     "data": {
      "text/html": [
       "<div>\n",
       "<style scoped>\n",
       "    .dataframe tbody tr th:only-of-type {\n",
       "        vertical-align: middle;\n",
       "    }\n",
       "\n",
       "    .dataframe tbody tr th {\n",
       "        vertical-align: top;\n",
       "    }\n",
       "\n",
       "    .dataframe thead th {\n",
       "        text-align: right;\n",
       "    }\n",
       "</style>\n",
       "<table border=\"1\" class=\"dataframe\">\n",
       "  <thead>\n",
       "    <tr style=\"text-align: right;\">\n",
       "      <th></th>\n",
       "      <th>id</th>\n",
       "      <th>age</th>\n",
       "      <th>gender</th>\n",
       "      <th>education</th>\n",
       "      <th>neuroticism</th>\n",
       "      <th>extraversion</th>\n",
       "      <th>openness</th>\n",
       "      <th>agreeableness</th>\n",
       "      <th>conscientiousness</th>\n",
       "      <th>impulsiveness</th>\n",
       "      <th>sensation</th>\n",
       "      <th>cannabis</th>\n",
       "    </tr>\n",
       "  </thead>\n",
       "  <tbody>\n",
       "    <tr>\n",
       "      <th>0</th>\n",
       "      <td>55235143</td>\n",
       "      <td>3</td>\n",
       "      <td>0</td>\n",
       "      <td>8</td>\n",
       "      <td>28</td>\n",
       "      <td>52</td>\n",
       "      <td>46</td>\n",
       "      <td>26</td>\n",
       "      <td>52</td>\n",
       "      <td>5</td>\n",
       "      <td>2</td>\n",
       "      <td>2</td>\n",
       "    </tr>\n",
       "    <tr>\n",
       "      <th>1</th>\n",
       "      <td>13435143</td>\n",
       "      <td>2</td>\n",
       "      <td>0</td>\n",
       "      <td>4</td>\n",
       "      <td>13</td>\n",
       "      <td>34</td>\n",
       "      <td>52</td>\n",
       "      <td>40</td>\n",
       "      <td>22</td>\n",
       "      <td>7</td>\n",
       "      <td>4</td>\n",
       "      <td>1</td>\n",
       "    </tr>\n",
       "  </tbody>\n",
       "</table>\n",
       "</div>"
      ],
      "text/plain": [
       "         id  age  gender  education  neuroticism  extraversion  openness  \\\n",
       "0  55235143    3       0          8           28            52        46   \n",
       "1  13435143    2       0          4           13            34        52   \n",
       "\n",
       "   agreeableness  conscientiousness  impulsiveness  sensation  cannabis  \n",
       "0             26                 52              5          2         2  \n",
       "1             40                 22              7          4         1  "
      ]
     },
     "execution_count": 64,
     "metadata": {},
     "output_type": "execute_result"
    }
   ],
   "source": [
    "# convert age numerical values to strings for easy recognition\n",
    "converted_df['gender'].replace({\n",
    "    1 : 0,  \n",
    "    2 : 1}, inplace=True)\n",
    "\n",
    "converted_df.head(2)"
   ]
  },
  {
   "cell_type": "code",
   "execution_count": 65,
   "metadata": {},
   "outputs": [
    {
     "data": {
      "text/plain": [
       "array([28, 13, 50, 16, 60, 32, 58, 56, 18, 43, 55, 20, 49, 14, 42, 35, 17,\n",
       "       51, 52, 23, 12, 38, 27, 22, 31, 44, 29, 25, 15, 41, 33, 57, 45, 19,\n",
       "       47, 54, 46, 37, 48, 59, 21, 40, 26, 53, 36, 39, 24, 30, 34],\n",
       "      dtype=int64)"
      ]
     },
     "execution_count": 65,
     "metadata": {},
     "output_type": "execute_result"
    }
   ],
   "source": [
    "converted_df.neuroticism.unique()"
   ]
  },
  {
   "cell_type": "code",
   "execution_count": 66,
   "metadata": {},
   "outputs": [
    {
     "data": {
      "text/plain": [
       "array([0, 1], dtype=int64)"
      ]
     },
     "execution_count": 66,
     "metadata": {},
     "output_type": "execute_result"
    }
   ],
   "source": [
    "converted_df.gender.unique()"
   ]
  },
  {
   "cell_type": "code",
   "execution_count": 67,
   "metadata": {},
   "outputs": [],
   "source": [
    "converted_df[\"extraversion\"].replace(to_replace=[17], value=16, inplace=True)"
   ]
  },
  {
   "cell_type": "code",
   "execution_count": 68,
   "metadata": {},
   "outputs": [],
   "source": [
    "converted_df[\"extraversion\"].replace(to_replace=[57], value=58, inplace=True)"
   ]
  },
  {
   "cell_type": "code",
   "execution_count": 69,
   "metadata": {},
   "outputs": [
    {
     "data": {
      "text/plain": [
       "array([16, 18, 19, 20, 21, 22, 23, 24, 25, 26, 27, 28, 29, 30, 31, 32, 33,\n",
       "       34, 35, 36, 37, 38, 39, 40, 41, 42, 43, 44, 45, 46, 47, 48, 49, 50,\n",
       "       51, 52, 53, 54, 55, 56, 58, 59], dtype=int64)"
      ]
     },
     "execution_count": 69,
     "metadata": {},
     "output_type": "execute_result"
    }
   ],
   "source": [
    "np.sort(converted_df.extraversion.unique())"
   ]
  },
  {
   "cell_type": "code",
   "execution_count": 70,
   "metadata": {},
   "outputs": [
    {
     "data": {
      "text/plain": [
       "array([24, 25, 26, 27, 28, 29, 30, 31, 32, 33, 34, 35, 36, 37, 38, 39, 40,\n",
       "       41, 42, 43, 44, 45, 46, 47, 48, 49, 50, 51, 52, 53, 54, 55, 56, 57,\n",
       "       58, 59, 60], dtype=int64)"
      ]
     },
     "execution_count": 70,
     "metadata": {},
     "output_type": "execute_result"
    }
   ],
   "source": [
    "np.sort(converted_df.openness.unique())"
   ]
  },
  {
   "cell_type": "code",
   "execution_count": 71,
   "metadata": {},
   "outputs": [],
   "source": [
    "converted_df[\"openness\"].replace(to_replace=[25], value=24, inplace=True)\n",
    "converted_df[\"openness\"].replace(to_replace=[27], value=28, inplace=True)"
   ]
  },
  {
   "cell_type": "code",
   "execution_count": 72,
   "metadata": {},
   "outputs": [
    {
     "data": {
      "text/plain": [
       "array([24, 26, 28, 29, 30, 31, 32, 33, 34, 35, 36, 37, 38, 39, 40, 41, 42,\n",
       "       43, 44, 45, 46, 47, 48, 49, 50, 51, 52, 53, 54, 55, 56, 57, 58, 59,\n",
       "       60], dtype=int64)"
      ]
     },
     "execution_count": 72,
     "metadata": {},
     "output_type": "execute_result"
    }
   ],
   "source": [
    "np.sort(converted_df.openness.unique())"
   ]
  },
  {
   "cell_type": "code",
   "execution_count": 73,
   "metadata": {},
   "outputs": [
    {
     "data": {
      "text/plain": [
       "array([12, 13, 14, 15, 16, 17, 18, 19, 20, 21, 22, 23, 24, 25, 26, 27, 28,\n",
       "       29, 30, 31, 32, 33, 34, 35, 36, 37, 38, 39, 40, 41, 42, 43, 44, 45,\n",
       "       46, 47, 48, 49, 50, 51, 52, 53, 54, 55, 56, 57, 58, 59, 60],\n",
       "      dtype=int64)"
      ]
     },
     "execution_count": 73,
     "metadata": {},
     "output_type": "execute_result"
    }
   ],
   "source": [
    "np.sort(converted_df.agreeableness.unique())"
   ]
  },
  {
   "cell_type": "code",
   "execution_count": 74,
   "metadata": {},
   "outputs": [],
   "source": [
    "converted_df[\"agreeableness\"].replace(to_replace=[13], value=12, inplace=True)\n",
    "converted_df[\"agreeableness\"].replace(to_replace=[14], value=16, inplace=True)\n",
    "converted_df[\"agreeableness\"].replace(to_replace=[15], value=18, inplace=True)\n",
    "converted_df[\"agreeableness\"].replace(to_replace=[17], value=23, inplace=True)\n",
    "converted_df[\"agreeableness\"].replace(to_replace=[19], value=24, inplace=True)\n",
    "converted_df[\"agreeableness\"].replace(to_replace=[20], value=25, inplace=True)\n",
    "converted_df[\"agreeableness\"].replace(to_replace=[21], value=26, inplace=True)\n",
    "converted_df[\"agreeableness\"].replace(to_replace=[22], value=27, inplace=True)"
   ]
  },
  {
   "cell_type": "code",
   "execution_count": 75,
   "metadata": {},
   "outputs": [
    {
     "data": {
      "text/plain": [
       "array([12, 16, 18, 23, 24, 25, 26, 27, 28, 29, 30, 31, 32, 33, 34, 35, 36,\n",
       "       37, 38, 39, 40, 41, 42, 43, 44, 45, 46, 47, 48, 49, 50, 51, 52, 53,\n",
       "       54, 55, 56, 57, 58, 59, 60], dtype=int64)"
      ]
     },
     "execution_count": 75,
     "metadata": {},
     "output_type": "execute_result"
    }
   ],
   "source": [
    "np.sort(converted_df.agreeableness.unique())"
   ]
  },
  {
   "cell_type": "code",
   "execution_count": 76,
   "metadata": {},
   "outputs": [
    {
     "data": {
      "text/plain": [
       "array([17, 18, 19, 20, 21, 22, 23, 24, 25, 26, 27, 28, 29, 30, 31, 32, 33,\n",
       "       34, 35, 36, 37, 38, 39, 40, 41, 42, 43, 44, 45, 46, 47, 48, 49, 50,\n",
       "       51, 52, 53, 54, 55, 56, 57, 58], dtype=int64)"
      ]
     },
     "execution_count": 76,
     "metadata": {},
     "output_type": "execute_result"
    }
   ],
   "source": [
    "np.sort(converted_df.conscientiousness.unique())"
   ]
  },
  {
   "cell_type": "code",
   "execution_count": 77,
   "metadata": {},
   "outputs": [],
   "source": [
    "converted_df[\"conscientiousness\"].replace(to_replace=[18], value=17, inplace=True)\n",
    "converted_df[\"conscientiousness\"].replace(to_replace=[58], value=59, inplace=True)"
   ]
  },
  {
   "cell_type": "code",
   "execution_count": 78,
   "metadata": {},
   "outputs": [
    {
     "data": {
      "text/plain": [
       "array([17, 19, 20, 21, 22, 23, 24, 25, 26, 27, 28, 29, 30, 31, 32, 33, 34,\n",
       "       35, 36, 37, 38, 39, 40, 41, 42, 43, 44, 45, 46, 47, 48, 49, 50, 51,\n",
       "       52, 53, 54, 55, 56, 57, 59], dtype=int64)"
      ]
     },
     "execution_count": 78,
     "metadata": {},
     "output_type": "execute_result"
    }
   ],
   "source": [
    "np.sort(converted_df.conscientiousness.unique())"
   ]
  },
  {
   "cell_type": "code",
   "execution_count": 79,
   "metadata": {},
   "outputs": [
    {
     "data": {
      "text/plain": [
       "array([ 1,  2,  3,  4,  5,  6,  7,  8,  9, 10], dtype=int64)"
      ]
     },
     "execution_count": 79,
     "metadata": {},
     "output_type": "execute_result"
    }
   ],
   "source": [
    "np.sort(converted_df.impulsiveness.unique())"
   ]
  },
  {
   "cell_type": "code",
   "execution_count": 80,
   "metadata": {},
   "outputs": [
    {
     "data": {
      "text/plain": [
       "array([ 1,  2,  3,  4,  5,  6,  7,  8,  9, 10, 11], dtype=int64)"
      ]
     },
     "execution_count": 80,
     "metadata": {},
     "output_type": "execute_result"
    }
   ],
   "source": [
    "np.sort(converted_df.sensation.unique())"
   ]
  },
  {
   "cell_type": "code",
   "execution_count": 81,
   "metadata": {},
   "outputs": [],
   "source": [
    "converted_df[\"cannabis\"].replace(to_replace=[1], value=0, inplace=True)\n",
    "converted_df[\"cannabis\"].replace(to_replace=[2], value=1, inplace=True)"
   ]
  },
  {
   "cell_type": "code",
   "execution_count": 82,
   "metadata": {},
   "outputs": [
    {
     "data": {
      "text/html": [
       "<div>\n",
       "<style scoped>\n",
       "    .dataframe tbody tr th:only-of-type {\n",
       "        vertical-align: middle;\n",
       "    }\n",
       "\n",
       "    .dataframe tbody tr th {\n",
       "        vertical-align: top;\n",
       "    }\n",
       "\n",
       "    .dataframe thead th {\n",
       "        text-align: right;\n",
       "    }\n",
       "</style>\n",
       "<table border=\"1\" class=\"dataframe\">\n",
       "  <thead>\n",
       "    <tr style=\"text-align: right;\">\n",
       "      <th></th>\n",
       "      <th>id</th>\n",
       "      <th>age</th>\n",
       "      <th>gender</th>\n",
       "      <th>education</th>\n",
       "      <th>neuroticism</th>\n",
       "      <th>extraversion</th>\n",
       "      <th>openness</th>\n",
       "      <th>agreeableness</th>\n",
       "      <th>conscientiousness</th>\n",
       "      <th>impulsiveness</th>\n",
       "      <th>sensation</th>\n",
       "      <th>cannabis</th>\n",
       "    </tr>\n",
       "  </thead>\n",
       "  <tbody>\n",
       "    <tr>\n",
       "      <th>0</th>\n",
       "      <td>55235143</td>\n",
       "      <td>3</td>\n",
       "      <td>0</td>\n",
       "      <td>8</td>\n",
       "      <td>28</td>\n",
       "      <td>52</td>\n",
       "      <td>46</td>\n",
       "      <td>26</td>\n",
       "      <td>52</td>\n",
       "      <td>5</td>\n",
       "      <td>2</td>\n",
       "      <td>1</td>\n",
       "    </tr>\n",
       "    <tr>\n",
       "      <th>1</th>\n",
       "      <td>13435143</td>\n",
       "      <td>2</td>\n",
       "      <td>0</td>\n",
       "      <td>4</td>\n",
       "      <td>13</td>\n",
       "      <td>34</td>\n",
       "      <td>52</td>\n",
       "      <td>40</td>\n",
       "      <td>22</td>\n",
       "      <td>7</td>\n",
       "      <td>4</td>\n",
       "      <td>0</td>\n",
       "    </tr>\n",
       "  </tbody>\n",
       "</table>\n",
       "</div>"
      ],
      "text/plain": [
       "         id  age  gender  education  neuroticism  extraversion  openness  \\\n",
       "0  55235143    3       0          8           28            52        46   \n",
       "1  13435143    2       0          4           13            34        52   \n",
       "\n",
       "   agreeableness  conscientiousness  impulsiveness  sensation  cannabis  \n",
       "0             26                 52              5          2         1  \n",
       "1             40                 22              7          4         0  "
      ]
     },
     "execution_count": 82,
     "metadata": {},
     "output_type": "execute_result"
    }
   ],
   "source": [
    "converted_df.head(2)"
   ]
  },
  {
   "cell_type": "code",
   "execution_count": 83,
   "metadata": {},
   "outputs": [],
   "source": [
    "# Import new dependency to generate a randomized feature weight\n",
    "import random\n",
    "\n",
    "neuroticism_values = [26, 14, 25, 54, 46, 23, 16, 43, 36, 59, 13, 37, 32, 17, 27, 48, 18,\n",
    "       24, 41, 21, 29, 53, 22, 50, 28, 55, 30, 44, 58, 34, 52, 19, 47, 39,\n",
    "       33, 40, 51, 38, 31, 56, 42, 35, 20, 60, 45, 49, 12, 57, 15]\n",
    "\n",
    "neuroticism_weights = [0.046153846153846156, 0.042440318302387266, 0.041379310344827586,\n",
    " 0.04084880636604774, 0.040318302387267906, 0.03872679045092838, 0.03713527851458886,\n",
    " 0.03660477453580902, 0.03607427055702918, 0.035543766578249335, 0.035543766578249335,\n",
    " 0.0350132625994695, 0.034482758620689655, 0.033421750663129975, 0.032360742705570295,\n",
    " 0.032360742705570295, 0.03183023872679045, 0.030238726790450927, 0.029708222811671087,\n",
    " 0.027055702917771884, 0.0259946949602122, 0.0259946949602122, 0.021220159151193633,\n",
    " 0.019628647214854113, 0.01856763925729443, 0.016445623342175066, 0.015384615384615385,\n",
    " 0.014323607427055704, 0.014323607427055704, 0.013793103448275862, 0.01273209549071618,\n",
    " 0.01273209549071618, 0.010610079575596816, 0.009018567639257295, 0.008488063660477453,\n",
    " 0.007957559681697613, 0.005835543766578249, 0.005305039787798408, 0.005305039787798408,\n",
    " 0.003713527851458886, 0.003183023872679045, 0.002652519893899204, 0.002122015915119363,\n",
    " 0.002122015915119363, 0.0015915119363395225, 0.0015915119363395225, 0.0010610079575596816,\n",
    " 0.0005305039787798408, 0.0005305039787798408]\n",
    "\n",
    "N_value_weights = random.choices(neuroticism_values, weights=neuroticism_weights, k=56276)\n",
    "converted_df['N_Weights'] = N_value_weights"
   ]
  },
  {
   "cell_type": "code",
   "execution_count": 84,
   "metadata": {},
   "outputs": [],
   "source": [
    "extraversion_values = [16, 18, 19, 20, 21, 22, 23, 24, 25, 26, 27, 28, 29, 30, 31, 32, 33,\n",
    "       34, 35, 36, 37, 38, 39, 40, 41, 42, 43, 44, 45, 46, 47, 48, 49, 50,\n",
    "       51, 52, 53, 54, 55, 56, 58, 59]\n",
    "\n",
    "extraversion_weights = [0.06896551724137931, 0.06153846153846154, 0.05782493368700265,\n",
    "0.05676392572944297, 0.05623342175066313, 0.05570291777188329, 0.054641909814323604, \n",
    "0.04827586206896552, 0.04774535809018567, 0.047214854111405836, 0.04084880636604774,\n",
    " 0.03660477453580902, 0.03607427055702918, 0.03395225464190981, 0.03289124668435013,\n",
    " 0.03076923076923077, 0.029177718832891247, 0.027586206896551724, 0.020159151193633953,\n",
    " 0.019628647214854113, 0.01803713527851459, 0.016976127320954906, 0.013262599469496022,\n",
    " 0.01220159151193634, 0.01220159151193634, 0.011140583554376658, 0.011140583554376658,\n",
    " 0.007957559681697613, 0.005305039787798408, 0.004774535809018567, 0.004774535809018567,\n",
    " 0.004244031830238726, 0.003183023872679045, 0.002652519893899204, 0.002122015915119363,\n",
    " 0.0015915119363395225, 0.0015915119363395225, 0.0010610079575596816, 0.0010610079575596816,\n",
    " 0.0010610079575596816, 0.0005305039787798408, 0.0005305039787798408]\n",
    "\n",
    "E_value_weights = random.choices(extraversion_values, weights=extraversion_weights, k=56276)\n",
    "converted_df['E_Weights'] = E_value_weights"
   ]
  },
  {
   "cell_type": "code",
   "execution_count": 85,
   "metadata": {},
   "outputs": [],
   "source": [
    "openness_values = [24, 26, 28, 29, 30, 31, 32, 33, 34, 35, 36, \n",
    "                   37, 38, 39, 40, 41, 42, 43, 44, 45, 46, 47, 48, 49, \n",
    "                   50, 51, 52, 53, 54, 55, 56, 57, 58, 59, 60]\n",
    "\n",
    "openness_weights = [\n",
    "0.07108753315649867, 0.06153846153846154,0.05676392572944297,0.054641909814323604,\n",
    "0.053580901856763924,0.0519893899204244,0.046153846153846156, 0.046153846153846156,\n",
    "0.046153846153846156, 0.04562334217506631, 0.04403183023872679, 0.04297082228116711,\n",
    "0.040318302387267906, 0.03607427055702918, 0.03395225464190981, 0.033421750663129975,\n",
    "0.03183023872679045, 0.030238726790450927, 0.027055702917771884, 0.020689655172413793,\n",
    "0.020159151193633953, 0.01803713527851459, 0.013793103448275862, 0.013262599469496022,\n",
    "0.01220159151193634, 0.010079575596816976, 0.006896551724137931, 0.006896551724137931,\n",
    "0.005835543766578249, 0.004774535809018567, 0.004774535809018567, 0.003713527851458886,\n",
    "0.002122015915119363, 0.002122015915119363, 0.0010610079575596816]\n",
    "\n",
    "\n",
    "O_value_weights = random.choices(openness_values, weights=openness_weights, k=56276)\n",
    "converted_df['O_Weights'] = O_value_weights"
   ]
  },
  {
   "cell_type": "code",
   "execution_count": 86,
   "metadata": {},
   "outputs": [],
   "source": [
    "agreeableness_values = [12, 16, 18, 23, 24, 25, 26, 27, 28, 29, 30, 31, 32, 33, 34, 35, 36,\n",
    "       37, 38, 39, 40, 41, 42, 43, 44, 45, 46, 47, 48, 49, 50, 51, 52, 53,\n",
    "       54, 55, 56, 57, 58, 59, 60]\n",
    "\n",
    "agreeableness_weights = [0.06259946949602122, 0.060477453580901855, 0.059416445623342175,\n",
    " 0.05570291777188329, 0.05517241379310345, 0.05411140583554377, 0.053580901856763924,\n",
    " 0.05305039787798409, 0.05305039787798409, 0.0519893899204244, 0.04509283819628647,\n",
    " 0.04403183023872679, 0.04350132625994695, 0.03607427055702918, 0.03289124668435013,\n",
    " 0.03076923076923077, 0.023872679045092837, 0.022281167108753316, 0.020689655172413793,\n",
    " 0.01909814323607427, 0.01909814323607427, 0.01803713527851459, 0.015915119363395226,\n",
    " 0.01273209549071618, 0.009549071618037135, 0.008488063660477453, 0.007427055702917772,\n",
    " 0.006896551724137931, 0.004244031830238726, 0.004244031830238726, 0.003713527851458886,\n",
    " 0.003713527851458886, 0.003713527851458886, 0.0010610079575596816, 0.0005305039787798408,\n",
    " 0.0005305039787798408, 0.0005305039787798408, 0.0005305039787798408, 0.0005305039787798408,\n",
    " 0.0005305039787798408, 0.0005305039787798408]\n",
    "\n",
    "A_value_weights = random.choices(agreeableness_values, weights=agreeableness_weights, k=56276)\n",
    "converted_df['A_Weights'] = A_value_weights"
   ]
  },
  {
   "cell_type": "code",
   "execution_count": 87,
   "metadata": {},
   "outputs": [],
   "source": [
    "conscientiousness_values = [17, 19, 20, 21, 22, 23, 24, 25, 26, 27, 28, 29, 30, 31, 32, 33, 34,\n",
    "       35, 36, 37, 38, 39, 40, 41, 42, 43, 44, 45, 46, 47, 48, 49, 50, 51,\n",
    "       52, 53, 54, 55, 56, 57, 59]\n",
    "\n",
    "conscientiousness_weights = [0.05994694960212202, 0.05888594164456233, 0.05888594164456233,\n",
    " 0.05570291777188329, 0.052519893899204244, 0.051458885941644564, 0.050397877984084884,\n",
    " 0.050397877984084884, 0.04774535809018567, 0.046153846153846156, 0.04297082228116711,\n",
    " 0.04084880636604774, 0.040318302387267906, 0.03660477453580902, 0.029177718832891247,\n",
    " 0.029177718832891247, 0.0259946949602122, 0.02493368700265252, 0.022811671087533156,\n",
    " 0.021750663129973476, 0.020689655172413793, 0.01803713527851459, 0.015384615384615385,\n",
    " 0.014854111405835544, 0.014323607427055704, 0.013262599469496022, 0.01273209549071618,\n",
    " 0.006896551724137931, 0.006896551724137931, 0.006896551724137931, 0.004774535809018567,\n",
    " 0.004244031830238726, 0.003183023872679045, 0.002652519893899204, 0.002652519893899204,\n",
    " 0.0015915119363395225, 0.0015915119363395225, 0.0010610079575596816, 0.0005305039787798408,\n",
    " 0.0005305039787798408, 0.0005305039787798408]\n",
    "\n",
    "C_value_weights = random.choices(conscientiousness_values, weights=conscientiousness_weights, k=56276)\n",
    "converted_df['C_Weights'] = C_value_weights"
   ]
  },
  {
   "cell_type": "code",
   "execution_count": 88,
   "metadata": {},
   "outputs": [],
   "source": [
    "impulsiveness_values = [ 1,  2,  3,  4,  5,  6,  7,  8,  9, 10]\n",
    "\n",
    "impulsiveness_weights =[0.1883289124668435, 0.16286472148541115, 0.1464190981432361,\n",
    " 0.1363395225464191, 0.11458885941644563, 0.10344827586206896, 0.07851458885941645,\n",
    " 0.05517241379310345, 0.010610079575596816, 0.003713527851458886]\n",
    "\n",
    "\n",
    "I_value_weights = random.choices(impulsiveness_values, weights=impulsiveness_weights, k=56276)\n",
    "converted_df['I_Weights'] = I_value_weights"
   ]
  },
  {
   "cell_type": "code",
   "execution_count": 89,
   "metadata": {},
   "outputs": [],
   "source": [
    "sensation_values = [ 1,  2,  3,  4,  5,  6,  7,  8,  9, 10, 11]\n",
    "\n",
    "sensation_weights = [0.13209549071618037, 0.11830238726790451, 0.11618037135278515,\n",
    " 0.11193633952254642, 0.11193633952254642, 0.11140583554376658, 0.0896551724137931,\n",
    " 0.070026525198939, 0.054641909814323604, 0.046153846153846156, 0.0376657824933687]\n",
    "\n",
    "S_value_weights = random.choices(sensation_values, weights=sensation_weights, k=56276)\n",
    "converted_df['S_Weights'] = S_value_weights"
   ]
  },
  {
   "cell_type": "code",
   "execution_count": 90,
   "metadata": {},
   "outputs": [],
   "source": [
    "cannabis_values = [0, 1]\n",
    "cannabis_weights = [0.219, 0.781]\n",
    "\n",
    "CA_value_weights = random.choices(cannabis_values, weights=cannabis_weights, k=56276)\n",
    "converted_df['CA_Weights'] = CA_value_weights"
   ]
  },
  {
   "cell_type": "code",
   "execution_count": 91,
   "metadata": {},
   "outputs": [
    {
     "data": {
      "text/html": [
       "<div>\n",
       "<style scoped>\n",
       "    .dataframe tbody tr th:only-of-type {\n",
       "        vertical-align: middle;\n",
       "    }\n",
       "\n",
       "    .dataframe tbody tr th {\n",
       "        vertical-align: top;\n",
       "    }\n",
       "\n",
       "    .dataframe thead th {\n",
       "        text-align: right;\n",
       "    }\n",
       "</style>\n",
       "<table border=\"1\" class=\"dataframe\">\n",
       "  <thead>\n",
       "    <tr style=\"text-align: right;\">\n",
       "      <th></th>\n",
       "      <th>id</th>\n",
       "      <th>age</th>\n",
       "      <th>gender</th>\n",
       "      <th>education</th>\n",
       "      <th>neuroticism</th>\n",
       "      <th>extraversion</th>\n",
       "      <th>openness</th>\n",
       "      <th>agreeableness</th>\n",
       "      <th>conscientiousness</th>\n",
       "      <th>impulsiveness</th>\n",
       "      <th>sensation</th>\n",
       "      <th>cannabis</th>\n",
       "      <th>N_Weights</th>\n",
       "      <th>E_Weights</th>\n",
       "      <th>O_Weights</th>\n",
       "      <th>A_Weights</th>\n",
       "      <th>C_Weights</th>\n",
       "      <th>I_Weights</th>\n",
       "      <th>S_Weights</th>\n",
       "      <th>CA_Weights</th>\n",
       "    </tr>\n",
       "  </thead>\n",
       "  <tbody>\n",
       "    <tr>\n",
       "      <th>0</th>\n",
       "      <td>55235143</td>\n",
       "      <td>3</td>\n",
       "      <td>0</td>\n",
       "      <td>8</td>\n",
       "      <td>28</td>\n",
       "      <td>52</td>\n",
       "      <td>46</td>\n",
       "      <td>26</td>\n",
       "      <td>52</td>\n",
       "      <td>5</td>\n",
       "      <td>2</td>\n",
       "      <td>1</td>\n",
       "      <td>14</td>\n",
       "      <td>19</td>\n",
       "      <td>32</td>\n",
       "      <td>29</td>\n",
       "      <td>43</td>\n",
       "      <td>8</td>\n",
       "      <td>4</td>\n",
       "      <td>1</td>\n",
       "    </tr>\n",
       "    <tr>\n",
       "      <th>1</th>\n",
       "      <td>13435143</td>\n",
       "      <td>2</td>\n",
       "      <td>0</td>\n",
       "      <td>4</td>\n",
       "      <td>13</td>\n",
       "      <td>34</td>\n",
       "      <td>52</td>\n",
       "      <td>40</td>\n",
       "      <td>22</td>\n",
       "      <td>7</td>\n",
       "      <td>4</td>\n",
       "      <td>0</td>\n",
       "      <td>56</td>\n",
       "      <td>19</td>\n",
       "      <td>34</td>\n",
       "      <td>25</td>\n",
       "      <td>49</td>\n",
       "      <td>6</td>\n",
       "      <td>9</td>\n",
       "      <td>1</td>\n",
       "    </tr>\n",
       "  </tbody>\n",
       "</table>\n",
       "</div>"
      ],
      "text/plain": [
       "         id  age  gender  education  neuroticism  extraversion  openness  \\\n",
       "0  55235143    3       0          8           28            52        46   \n",
       "1  13435143    2       0          4           13            34        52   \n",
       "\n",
       "   agreeableness  conscientiousness  impulsiveness  sensation  cannabis  \\\n",
       "0             26                 52              5          2         1   \n",
       "1             40                 22              7          4         0   \n",
       "\n",
       "   N_Weights  E_Weights  O_Weights  A_Weights  C_Weights  I_Weights  \\\n",
       "0         14         19         32         29         43          8   \n",
       "1         56         19         34         25         49          6   \n",
       "\n",
       "   S_Weights  CA_Weights  \n",
       "0          4           1  \n",
       "1          9           1  "
      ]
     },
     "execution_count": 91,
     "metadata": {},
     "output_type": "execute_result"
    }
   ],
   "source": [
    "converted_df.head(2)"
   ]
  },
  {
   "cell_type": "code",
   "execution_count": 92,
   "metadata": {},
   "outputs": [],
   "source": [
    "validation_data_complete = converted_df.drop(columns=['neuroticism', 'extraversion', 'openness', 'agreeableness', 'conscientiousness', 'impulsiveness', 'sensation', 'cannabis'])"
   ]
  },
  {
   "cell_type": "code",
   "execution_count": 93,
   "metadata": {},
   "outputs": [
    {
     "data": {
      "text/html": [
       "<div>\n",
       "<style scoped>\n",
       "    .dataframe tbody tr th:only-of-type {\n",
       "        vertical-align: middle;\n",
       "    }\n",
       "\n",
       "    .dataframe tbody tr th {\n",
       "        vertical-align: top;\n",
       "    }\n",
       "\n",
       "    .dataframe thead th {\n",
       "        text-align: right;\n",
       "    }\n",
       "</style>\n",
       "<table border=\"1\" class=\"dataframe\">\n",
       "  <thead>\n",
       "    <tr style=\"text-align: right;\">\n",
       "      <th></th>\n",
       "      <th>id</th>\n",
       "      <th>age</th>\n",
       "      <th>gender</th>\n",
       "      <th>education</th>\n",
       "      <th>N_Weights</th>\n",
       "      <th>E_Weights</th>\n",
       "      <th>O_Weights</th>\n",
       "      <th>A_Weights</th>\n",
       "      <th>C_Weights</th>\n",
       "      <th>I_Weights</th>\n",
       "      <th>S_Weights</th>\n",
       "      <th>CA_Weights</th>\n",
       "    </tr>\n",
       "  </thead>\n",
       "  <tbody>\n",
       "    <tr>\n",
       "      <th>0</th>\n",
       "      <td>55235143</td>\n",
       "      <td>3</td>\n",
       "      <td>0</td>\n",
       "      <td>8</td>\n",
       "      <td>14</td>\n",
       "      <td>19</td>\n",
       "      <td>32</td>\n",
       "      <td>29</td>\n",
       "      <td>43</td>\n",
       "      <td>8</td>\n",
       "      <td>4</td>\n",
       "      <td>1</td>\n",
       "    </tr>\n",
       "    <tr>\n",
       "      <th>1</th>\n",
       "      <td>13435143</td>\n",
       "      <td>2</td>\n",
       "      <td>0</td>\n",
       "      <td>4</td>\n",
       "      <td>56</td>\n",
       "      <td>19</td>\n",
       "      <td>34</td>\n",
       "      <td>25</td>\n",
       "      <td>49</td>\n",
       "      <td>6</td>\n",
       "      <td>9</td>\n",
       "      <td>1</td>\n",
       "    </tr>\n",
       "  </tbody>\n",
       "</table>\n",
       "</div>"
      ],
      "text/plain": [
       "         id  age  gender  education  N_Weights  E_Weights  O_Weights  \\\n",
       "0  55235143    3       0          8         14         19         32   \n",
       "1  13435143    2       0          4         56         19         34   \n",
       "\n",
       "   A_Weights  C_Weights  I_Weights  S_Weights  CA_Weights  \n",
       "0         29         43          8          4           1  \n",
       "1         25         49          6          9           1  "
      ]
     },
     "execution_count": 93,
     "metadata": {},
     "output_type": "execute_result"
    }
   ],
   "source": [
    "validation_data_complete.head(2)"
   ]
  },
  {
   "cell_type": "code",
   "execution_count": 94,
   "metadata": {},
   "outputs": [
    {
     "data": {
      "text/html": [
       "<div>\n",
       "<style scoped>\n",
       "    .dataframe tbody tr th:only-of-type {\n",
       "        vertical-align: middle;\n",
       "    }\n",
       "\n",
       "    .dataframe tbody tr th {\n",
       "        vertical-align: top;\n",
       "    }\n",
       "\n",
       "    .dataframe thead th {\n",
       "        text-align: right;\n",
       "    }\n",
       "</style>\n",
       "<table border=\"1\" class=\"dataframe\">\n",
       "  <thead>\n",
       "    <tr style=\"text-align: right;\">\n",
       "      <th></th>\n",
       "      <th>id</th>\n",
       "      <th>age</th>\n",
       "      <th>gender</th>\n",
       "      <th>education</th>\n",
       "      <th>neuroticism</th>\n",
       "      <th>extraversion</th>\n",
       "      <th>openness</th>\n",
       "      <th>agreeableness</th>\n",
       "      <th>conscientiousness</th>\n",
       "      <th>impulsiveness</th>\n",
       "      <th>sensation</th>\n",
       "      <th>cannabis</th>\n",
       "    </tr>\n",
       "  </thead>\n",
       "  <tbody>\n",
       "    <tr>\n",
       "      <th>0</th>\n",
       "      <td>55235143</td>\n",
       "      <td>3</td>\n",
       "      <td>0</td>\n",
       "      <td>8</td>\n",
       "      <td>14</td>\n",
       "      <td>19</td>\n",
       "      <td>32</td>\n",
       "      <td>29</td>\n",
       "      <td>43</td>\n",
       "      <td>8</td>\n",
       "      <td>4</td>\n",
       "      <td>1</td>\n",
       "    </tr>\n",
       "    <tr>\n",
       "      <th>1</th>\n",
       "      <td>13435143</td>\n",
       "      <td>2</td>\n",
       "      <td>0</td>\n",
       "      <td>4</td>\n",
       "      <td>56</td>\n",
       "      <td>19</td>\n",
       "      <td>34</td>\n",
       "      <td>25</td>\n",
       "      <td>49</td>\n",
       "      <td>6</td>\n",
       "      <td>9</td>\n",
       "      <td>1</td>\n",
       "    </tr>\n",
       "  </tbody>\n",
       "</table>\n",
       "</div>"
      ],
      "text/plain": [
       "         id  age  gender  education  neuroticism  extraversion  openness  \\\n",
       "0  55235143    3       0          8           14            19        32   \n",
       "1  13435143    2       0          4           56            19        34   \n",
       "\n",
       "   agreeableness  conscientiousness  impulsiveness  sensation  cannabis  \n",
       "0             29                 43              8          4         1  \n",
       "1             25                 49              6          9         1  "
      ]
     },
     "execution_count": 94,
     "metadata": {},
     "output_type": "execute_result"
    }
   ],
   "source": [
    "validation_data_complete = validation_data_complete.rename(columns={\n",
    "    'N_Weights' : 'neuroticism',\n",
    "    'E_Weights' : 'extraversion',\n",
    "    'O_Weights' : 'openness',\n",
    "    'A_Weights' : 'agreeableness',\n",
    "    'C_Weights' : 'conscientiousness',\n",
    "    'I_Weights' : 'impulsiveness',\n",
    "    'S_Weights' : 'sensation',\n",
    "    'CA_Weights' : 'cannabis'\n",
    "})\n",
    "validation_data_complete.head(2)"
   ]
  },
  {
   "cell_type": "code",
   "execution_count": 95,
   "metadata": {},
   "outputs": [],
   "source": [
    "export_validation_csv = validation_data_complete.to_csv ('data/validation_data_personality_scores_ALL_personalities.csv', index = None, header=True)"
   ]
  },
  {
   "cell_type": "markdown",
   "metadata": {},
   "source": [
    "***"
   ]
  },
  {
   "cell_type": "markdown",
   "metadata": {},
   "source": [
    "# Observation of Source Data\n",
    "\n",
    "### Use Data Visualization (Matplotlib & Seaborn) for better understanding the data"
   ]
  },
  {
   "cell_type": "code",
   "execution_count": 96,
   "metadata": {},
   "outputs": [
    {
     "data": {
      "text/html": [
       "<div>\n",
       "<style scoped>\n",
       "    .dataframe tbody tr th:only-of-type {\n",
       "        vertical-align: middle;\n",
       "    }\n",
       "\n",
       "    .dataframe tbody tr th {\n",
       "        vertical-align: top;\n",
       "    }\n",
       "\n",
       "    .dataframe thead th {\n",
       "        text-align: right;\n",
       "    }\n",
       "</style>\n",
       "<table border=\"1\" class=\"dataframe\">\n",
       "  <thead>\n",
       "    <tr style=\"text-align: right;\">\n",
       "      <th></th>\n",
       "      <th>id</th>\n",
       "      <th>age</th>\n",
       "      <th>gender</th>\n",
       "      <th>education</th>\n",
       "      <th>neuroticism</th>\n",
       "      <th>extraversion</th>\n",
       "      <th>openness</th>\n",
       "      <th>agreeableness</th>\n",
       "      <th>conscientiousness</th>\n",
       "      <th>impulsiveness</th>\n",
       "      <th>sensation</th>\n",
       "      <th>cannabis</th>\n",
       "    </tr>\n",
       "  </thead>\n",
       "  <tbody>\n",
       "    <tr>\n",
       "      <th>0</th>\n",
       "      <td>2</td>\n",
       "      <td>2</td>\n",
       "      <td>1</td>\n",
       "      <td>9</td>\n",
       "      <td>29</td>\n",
       "      <td>52</td>\n",
       "      <td>55</td>\n",
       "      <td>48</td>\n",
       "      <td>41</td>\n",
       "      <td>3</td>\n",
       "      <td>9</td>\n",
       "      <td>1</td>\n",
       "    </tr>\n",
       "    <tr>\n",
       "      <th>1</th>\n",
       "      <td>3</td>\n",
       "      <td>3</td>\n",
       "      <td>1</td>\n",
       "      <td>6</td>\n",
       "      <td>31</td>\n",
       "      <td>45</td>\n",
       "      <td>40</td>\n",
       "      <td>32</td>\n",
       "      <td>34</td>\n",
       "      <td>2</td>\n",
       "      <td>10</td>\n",
       "      <td>1</td>\n",
       "    </tr>\n",
       "  </tbody>\n",
       "</table>\n",
       "</div>"
      ],
      "text/plain": [
       "   id  age  gender  education  neuroticism  extraversion  openness  \\\n",
       "0   2    2       1          9           29            52        55   \n",
       "1   3    3       1          6           31            45        40   \n",
       "\n",
       "   agreeableness  conscientiousness  impulsiveness  sensation  cannabis  \n",
       "0             48                 41              3          9         1  \n",
       "1             32                 34              2         10         1  "
      ]
     },
     "execution_count": 96,
     "metadata": {},
     "output_type": "execute_result"
    }
   ],
   "source": [
    "import matplotlib.pyplot as plt\n",
    "import seaborn as sns\n",
    "\n",
    "df_V = pd.read_csv('data/manual_personality_scores_drugdata_original_plus_onehot.csv')\n",
    "df_V = df_V[['id','age', 'gender', 'education',\n",
    "          'neuroticism', 'extraversion', \n",
    "          'openness', 'agreeableness',\n",
    "          'conscientiousness', 'impulsiveness', 'sensation',\n",
    "          'cannabis']]\n",
    "\n",
    "df_V.head(2)"
   ]
  },
  {
   "cell_type": "code",
   "execution_count": 97,
   "metadata": {},
   "outputs": [
    {
     "data": {
      "text/plain": [
       "[Text(0, 0, '0'),\n",
       " Text(0, 0, '18'),\n",
       " Text(0, 0, '24'),\n",
       " Text(0, 0, '35'),\n",
       " Text(0, 0, '45'),\n",
       " Text(0, 0, '55'),\n",
       " Text(0, 0, '65+')]"
      ]
     },
     "execution_count": 97,
     "metadata": {},
     "output_type": "execute_result"
    },
    {
     "data": {
      "image/png": "[encoded data removed]",
      "text/plain": [
       "<Figure size 720x432 with 1 Axes>"
      ]
     },
     "metadata": {
      "needs_background": "light"
     },
     "output_type": "display_data"
    }
   ],
   "source": [
    "# 1) Observing drug consumption rate over Age\n",
    "\n",
    "age = pd.concat([df_V[df_V.cannabis==1]['age'],df_V[df_V.cannabis==0]['age']],axis=1)\n",
    "age.columns=['Cannabis User','Never Used']\n",
    "\n",
    "AgePlot = age.plot(kind='hist',bins=6,figsize=(10,6),alpha=0.3,grid=True)\n",
    "AgePlot.set(ylabel = 'Number of Users', xlabel='Age')\n",
    "\n",
    "AgeLabels = ['0','18','24','35','45','55','65+']\n",
    "AgePlot.set_xticklabels(AgeLabels)"
   ]
  },
  {
   "cell_type": "code",
   "execution_count": 98,
   "metadata": {},
   "outputs": [
    {
     "data": {
      "text/plain": [
       "<matplotlib.legend.Legend at 0x23fa19ca4e0>"
      ]
     },
     "execution_count": 98,
     "metadata": {},
     "output_type": "execute_result"
    },
    {
     "data": {
      "image/png": "[encoded data removed]",
      "text/plain": [
       "<Figure size 720x432 with 1 Axes>"
      ]
     },
     "metadata": {},
     "output_type": "display_data"
    }
   ],
   "source": [
    "# 2) Validating drug consumption rate across Gender\n",
    "sns.set(rc={'figure.figsize':(10,6)})\n",
    "GenderPlot = sns.countplot(x='cannabis',hue='gender',data=df_V,palette='afmhot')\n",
    "\n",
    "labels = ['Never Used', 'Cannabi User']\n",
    "GenderPlot.set_xticklabels(labels)\n",
    "\n",
    "GenderPlot.set(ylabel = 'Number of Users', xlabel='Cannabis Consumption')\n",
    "plt.legend(title='Cannabis User', loc='upper left', labels=['Female', 'Male'])"
   ]
  },
  {
   "cell_type": "code",
   "execution_count": 99,
   "metadata": {},
   "outputs": [
    {
     "data": {
      "text/plain": [
       "<matplotlib.legend.Legend at 0x23fa18b2240>"
      ]
     },
     "execution_count": 99,
     "metadata": {},
     "output_type": "execute_result"
    },
    {
     "data": {
      "image/png": "[encoded data removed]",
      "text/plain": [
       "<Figure size 720x360 with 1 Axes>"
      ]
     },
     "metadata": {},
     "output_type": "display_data"
    }
   ],
   "source": [
    "# 3) Analyzing drug consumption rate across Education Level\n",
    "sns.set(rc={'figure.figsize':(10,5)})\n",
    "x = ('yes','no')\n",
    "EducationPlot = sns.countplot(x='cannabis',hue='education',data=df_V,palette='rainbow')\n",
    "\n",
    "EducationPlot.set_xticklabels(labels)\n",
    "EducationPlot.set(ylabel = 'Number of Users', xlabel='Cannabis Consumption')\n",
    "\n",
    "plt.legend(title='Educatino Level', loc='upper left', \n",
    "           labels=['Left School before 16', 'Left School at 16', 'Left School at 17', 'Left School at 18',\n",
    "                   'Some College', 'Certificate/Diploma', 'University Degree', 'Masters', 'Doctorate'])"
   ]
  },
  {
   "cell_type": "code",
   "execution_count": 100,
   "metadata": {},
   "outputs": [
    {
     "name": "stderr",
     "output_type": "stream",
     "text": [
      "C:\\Users\\kanta\\AppData\\Local\\Continuum\\anaconda3\\envs\\PythonData\\lib\\site-packages\\seaborn\\categorical.py:3666: UserWarning: The `factorplot` function has been renamed to `catplot`. The original name will be removed in a future release. Please update your code. Note that the default `kind` in `factorplot` (`'point'`) has changed `'strip'` in `catplot`.\n",
      "  warnings.warn(msg)\n"
     ]
    },
    {
     "data": {
      "text/plain": [
       "<seaborn.axisgrid.FacetGrid at 0x23fa1862d30>"
      ]
     },
     "execution_count": 100,
     "metadata": {},
     "output_type": "execute_result"
    },
    {
     "data": {
      "image/png": "[encoded data removed]",
      "text/plain": [
       "<Figure size 409.675x360 with 1 Axes>"
      ]
     },
     "metadata": {},
     "output_type": "display_data"
    }
   ],
   "source": [
    "# 4) Analyzing drug consumption combining Age and Gender features\n",
    "Age_Gender_Plot = sns.factorplot(x='gender' , y='age' , data=df_V , hue='cannabis' , kind='violin' , palette=['g','r'] , split=True)\n",
    "\n",
    "AgeLabels = ['0','18','24','35','45','55','65+']\n",
    "Age_Gender_Plot.set_yticklabels(AgeLabels)\n",
    "\n",
    "genderlabels = ['Female', 'Male']\n",
    "Age_Gender_Plot.set_xticklabels(genderlabels)\n"
   ]
  },
  {
   "cell_type": "code",
   "execution_count": 101,
   "metadata": {},
   "outputs": [
    {
     "data": {
      "text/plain": [
       "[Text(0, 0, 'Left School before 16'),\n",
       " Text(0, 0, 'Left School at 16'),\n",
       " Text(0, 0, 'Left School at 17'),\n",
       " Text(0, 0, 'Left School at 18'),\n",
       " Text(0, 0, 'Some College'),\n",
       " Text(0, 0, 'Certificate/Diploma'),\n",
       " Text(0, 0, 'University Degree'),\n",
       " Text(0, 0, 'Masters'),\n",
       " Text(0, 0, 'Doctorate')]"
      ]
     },
     "execution_count": 101,
     "metadata": {},
     "output_type": "execute_result"
    },
    {
     "data": {
      "image/png": "[encoded data removed]",
      "text/plain": [
       "<Figure size 720x360 with 1 Axes>"
      ]
     },
     "metadata": {},
     "output_type": "display_data"
    }
   ],
   "source": [
    "# 5) What if combine Age and Education Level together? \n",
    "# Focus only on the actual cannabis users\n",
    "\n",
    "df_V2 = df_V[df_V.cannabis == 1]\n",
    "Age_Education_Plot = sns.boxplot(x='education',y='age',data=df_V2)\n",
    "\n",
    "AgeLabels = ['0','18','24','35','45','55','65+']\n",
    "Age_Education_Plot.set_yticklabels(AgeLabels)\n",
    "\n",
    "EducationLabels = ['Left School before 16', 'Left School at 16', 'Left School at 17', 'Left School at 18',\n",
    "                   'Some College', 'Certificate/Diploma', 'University Degree', 'Masters', 'Doctorate']\n",
    "Age_Education_Plot.set_xticklabels(EducationLabels,rotation=30)\n"
   ]
  },
  {
   "cell_type": "code",
   "execution_count": 102,
   "metadata": {},
   "outputs": [
    {
     "data": {
      "text/html": [
       "<div>\n",
       "<style scoped>\n",
       "    .dataframe tbody tr th:only-of-type {\n",
       "        vertical-align: middle;\n",
       "    }\n",
       "\n",
       "    .dataframe tbody tr th {\n",
       "        vertical-align: top;\n",
       "    }\n",
       "\n",
       "    .dataframe thead th {\n",
       "        text-align: right;\n",
       "    }\n",
       "</style>\n",
       "<table border=\"1\" class=\"dataframe\">\n",
       "  <thead>\n",
       "    <tr style=\"text-align: right;\">\n",
       "      <th></th>\n",
       "      <th></th>\n",
       "      <th></th>\n",
       "      <th>cannabis</th>\n",
       "    </tr>\n",
       "    <tr>\n",
       "      <th>age_category</th>\n",
       "      <th>gender_category</th>\n",
       "      <th>education_category</th>\n",
       "      <th></th>\n",
       "    </tr>\n",
       "  </thead>\n",
       "  <tbody>\n",
       "    <tr>\n",
       "      <th>35-44</th>\n",
       "      <th>M</th>\n",
       "      <th>Left_school_at_18</th>\n",
       "      <td>1.0</td>\n",
       "    </tr>\n",
       "    <tr>\n",
       "      <th>55-64</th>\n",
       "      <th>F</th>\n",
       "      <th>Left_school_at_17</th>\n",
       "      <td>1.0</td>\n",
       "    </tr>\n",
       "  </tbody>\n",
       "</table>\n",
       "</div>"
      ],
      "text/plain": [
       "                                                 cannabis\n",
       "age_category gender_category education_category          \n",
       "35-44        M               Left_school_at_18        1.0\n",
       "55-64        F               Left_school_at_17        1.0"
      ]
     },
     "execution_count": 102,
     "metadata": {},
     "output_type": "execute_result"
    }
   ],
   "source": [
    "# 6) Bringing all the basic personal information features above (Age, Gender, Education) together and create a pivot table\n",
    "\n",
    "df_V2 = pd.read_csv('data/manual_personality_scores_drugdata_original_plus_onehot.csv')\n",
    "\n",
    "ASE=df_V2[df_V2.cannabis.notnull()].pivot_table(index=['age_category','gender_category','education_category'],values=['cannabis']).sort_values('cannabis',ascending=False)\n",
    "\n",
    "ASE.head(2)\n"
   ]
  },
  {
   "cell_type": "code",
   "execution_count": 103,
   "metadata": {},
   "outputs": [
    {
     "data": {
      "text/plain": [
       "<matplotlib.legend.Legend at 0x23fa1d767b8>"
      ]
     },
     "execution_count": 103,
     "metadata": {},
     "output_type": "execute_result"
    },
    {
     "data": {
      "image/png": "[encoded data removed]",
      "text/plain": [
       "<Figure size 1080x576 with 1 Axes>"
      ]
     },
     "metadata": {},
     "output_type": "display_data"
    }
   ],
   "source": [
    "# From the pivot tables above, there is definitely a relationship among 'Age','Gender','Education'and 'Drug Consumer'\n",
    "# So we can combine and visualize them together for ==> 'A.S.E':\n",
    "\n",
    "ASE.plot(kind='bar',figsize=(15,8))\n",
    "plt.xticks(rotation=90)\n",
    "plt.axhline(0.8,color='#BA55D3')\n",
    "plt.axhline(0.5,color='#BA55D3')\n",
    "plt.annotate('80% potential smoker',xy=(30,0.81),xytext=(50,0.81),arrowprops=dict(facecolor='#BA55D3',shrink=0.05))\n",
    "plt.annotate('50% potential smoker',xy=(32,0.51),xytext=(80,0.51),arrowprops=dict(facecolor='#BA55D3',shrink=0.05))\n",
    "plt.legend(title='Cannabis User Likelihood', loc='upper right')"
   ]
  },
  {
   "cell_type": "markdown",
   "metadata": {},
   "source": [
    "## Use GradientBoostingClassifier to see which features above are important"
   ]
  },
  {
   "cell_type": "code",
   "execution_count": 104,
   "metadata": {},
   "outputs": [
    {
     "data": {
      "text/html": [
       "<div>\n",
       "<style scoped>\n",
       "    .dataframe tbody tr th:only-of-type {\n",
       "        vertical-align: middle;\n",
       "    }\n",
       "\n",
       "    .dataframe tbody tr th {\n",
       "        vertical-align: top;\n",
       "    }\n",
       "\n",
       "    .dataframe thead th {\n",
       "        text-align: right;\n",
       "    }\n",
       "</style>\n",
       "<table border=\"1\" class=\"dataframe\">\n",
       "  <thead>\n",
       "    <tr style=\"text-align: right;\">\n",
       "      <th></th>\n",
       "      <th>age</th>\n",
       "      <th>gender</th>\n",
       "      <th>education</th>\n",
       "      <th>neuroticism</th>\n",
       "      <th>extraversion</th>\n",
       "      <th>openness</th>\n",
       "      <th>agreeableness</th>\n",
       "      <th>conscientiousness</th>\n",
       "      <th>impulsiveness</th>\n",
       "      <th>sensation</th>\n",
       "    </tr>\n",
       "  </thead>\n",
       "  <tbody>\n",
       "    <tr>\n",
       "      <th>120</th>\n",
       "      <td>3</td>\n",
       "      <td>0</td>\n",
       "      <td>6</td>\n",
       "      <td>50</td>\n",
       "      <td>31</td>\n",
       "      <td>35</td>\n",
       "      <td>29</td>\n",
       "      <td>36</td>\n",
       "      <td>6</td>\n",
       "      <td>8</td>\n",
       "    </tr>\n",
       "    <tr>\n",
       "      <th>757</th>\n",
       "      <td>1</td>\n",
       "      <td>1</td>\n",
       "      <td>5</td>\n",
       "      <td>52</td>\n",
       "      <td>42</td>\n",
       "      <td>38</td>\n",
       "      <td>40</td>\n",
       "      <td>23</td>\n",
       "      <td>10</td>\n",
       "      <td>9</td>\n",
       "    </tr>\n",
       "  </tbody>\n",
       "</table>\n",
       "</div>"
      ],
      "text/plain": [
       "     age  gender  education  neuroticism  extraversion  openness  \\\n",
       "120    3       0          6           50            31        35   \n",
       "757    1       1          5           52            42        38   \n",
       "\n",
       "     agreeableness  conscientiousness  impulsiveness  sensation  \n",
       "120             29                 36              6          8  \n",
       "757             40                 23             10          9  "
      ]
     },
     "execution_count": 104,
     "metadata": {},
     "output_type": "execute_result"
    }
   ],
   "source": [
    "from sklearn.ensemble import GradientBoostingClassifier\n",
    "from sklearn.model_selection import train_test_split\n",
    "\n",
    "target = df_V[\"cannabis\"]\n",
    "\n",
    "data = df_V.drop(columns=[\"cannabis\",\"id\"])\n",
    "feature_names = data.columns\n",
    "\n",
    "X_train, X_test, y_train, y_test = train_test_split(data, target, random_state=1, stratify=target)\n",
    "X_train.head(2)"
   ]
  },
  {
   "cell_type": "code",
   "execution_count": 105,
   "metadata": {},
   "outputs": [
    {
     "data": {
      "text/plain": [
       "<matplotlib.axes._subplots.AxesSubplot at 0x23fa2a64be0>"
      ]
     },
     "execution_count": 105,
     "metadata": {},
     "output_type": "execute_result"
    },
    {
     "data": {
      "image/png": "[encoded data removed]",
      "text/plain": [
       "<Figure size 720x360 with 1 Axes>"
      ]
     },
     "metadata": {},
     "output_type": "display_data"
    }
   ],
   "source": [
    "# Use a heatmap quickly check if there is any NULL values within any of the features\n",
    "# all shaded ==> all the cells have validate data; otherwise will be hilighted in yellow\n",
    "sns.heatmap(X_train.isnull(),yticklabels=False, cbar=False,cmap='inferno',annot=True)"
   ]
  },
  {
   "cell_type": "code",
   "execution_count": 106,
   "metadata": {},
   "outputs": [
    {
     "data": {
      "text/html": [
       "<div>\n",
       "<style scoped>\n",
       "    .dataframe tbody tr th:only-of-type {\n",
       "        vertical-align: middle;\n",
       "    }\n",
       "\n",
       "    .dataframe tbody tr th {\n",
       "        vertical-align: top;\n",
       "    }\n",
       "\n",
       "    .dataframe thead th {\n",
       "        text-align: right;\n",
       "    }\n",
       "</style>\n",
       "<table border=\"1\" class=\"dataframe\">\n",
       "  <thead>\n",
       "    <tr style=\"text-align: right;\">\n",
       "      <th></th>\n",
       "      <th>age</th>\n",
       "      <th>gender</th>\n",
       "      <th>education</th>\n",
       "      <th>neuroticism</th>\n",
       "      <th>extraversion</th>\n",
       "      <th>openness</th>\n",
       "      <th>agreeableness</th>\n",
       "      <th>conscientiousness</th>\n",
       "      <th>impulsiveness</th>\n",
       "      <th>sensation</th>\n",
       "    </tr>\n",
       "  </thead>\n",
       "  <tbody>\n",
       "    <tr>\n",
       "      <th>count</th>\n",
       "      <td>1413.000000</td>\n",
       "      <td>1413.000000</td>\n",
       "      <td>1413.000000</td>\n",
       "      <td>1413.000000</td>\n",
       "      <td>1413.000000</td>\n",
       "      <td>1413.000000</td>\n",
       "      <td>1413.000000</td>\n",
       "      <td>1413.000000</td>\n",
       "      <td>1413.000000</td>\n",
       "      <td>1413.000000</td>\n",
       "    </tr>\n",
       "    <tr>\n",
       "      <th>mean</th>\n",
       "      <td>2.331210</td>\n",
       "      <td>0.501062</td>\n",
       "      <td>5.997169</td>\n",
       "      <td>35.811748</td>\n",
       "      <td>39.617127</td>\n",
       "      <td>45.685067</td>\n",
       "      <td>42.836518</td>\n",
       "      <td>41.450814</td>\n",
       "      <td>4.791224</td>\n",
       "      <td>6.145789</td>\n",
       "    </tr>\n",
       "    <tr>\n",
       "      <th>std</th>\n",
       "      <td>1.288155</td>\n",
       "      <td>0.500176</td>\n",
       "      <td>1.738171</td>\n",
       "      <td>9.063669</td>\n",
       "      <td>6.676874</td>\n",
       "      <td>6.583999</td>\n",
       "      <td>6.315099</td>\n",
       "      <td>6.928808</td>\n",
       "      <td>2.121222</td>\n",
       "      <td>2.701899</td>\n",
       "    </tr>\n",
       "    <tr>\n",
       "      <th>min</th>\n",
       "      <td>1.000000</td>\n",
       "      <td>0.000000</td>\n",
       "      <td>1.000000</td>\n",
       "      <td>12.000000</td>\n",
       "      <td>16.000000</td>\n",
       "      <td>24.000000</td>\n",
       "      <td>12.000000</td>\n",
       "      <td>17.000000</td>\n",
       "      <td>1.000000</td>\n",
       "      <td>1.000000</td>\n",
       "    </tr>\n",
       "    <tr>\n",
       "      <th>25%</th>\n",
       "      <td>1.000000</td>\n",
       "      <td>0.000000</td>\n",
       "      <td>5.000000</td>\n",
       "      <td>29.000000</td>\n",
       "      <td>36.000000</td>\n",
       "      <td>41.000000</td>\n",
       "      <td>39.000000</td>\n",
       "      <td>37.000000</td>\n",
       "      <td>3.000000</td>\n",
       "      <td>4.000000</td>\n",
       "    </tr>\n",
       "    <tr>\n",
       "      <th>50%</th>\n",
       "      <td>2.000000</td>\n",
       "      <td>1.000000</td>\n",
       "      <td>6.000000</td>\n",
       "      <td>35.000000</td>\n",
       "      <td>40.000000</td>\n",
       "      <td>46.000000</td>\n",
       "      <td>43.000000</td>\n",
       "      <td>42.000000</td>\n",
       "      <td>4.000000</td>\n",
       "      <td>6.000000</td>\n",
       "    </tr>\n",
       "    <tr>\n",
       "      <th>75%</th>\n",
       "      <td>3.000000</td>\n",
       "      <td>1.000000</td>\n",
       "      <td>7.000000</td>\n",
       "      <td>42.000000</td>\n",
       "      <td>44.000000</td>\n",
       "      <td>51.000000</td>\n",
       "      <td>47.000000</td>\n",
       "      <td>46.000000</td>\n",
       "      <td>6.000000</td>\n",
       "      <td>8.000000</td>\n",
       "    </tr>\n",
       "    <tr>\n",
       "      <th>max</th>\n",
       "      <td>6.000000</td>\n",
       "      <td>1.000000</td>\n",
       "      <td>9.000000</td>\n",
       "      <td>60.000000</td>\n",
       "      <td>58.000000</td>\n",
       "      <td>60.000000</td>\n",
       "      <td>58.000000</td>\n",
       "      <td>57.000000</td>\n",
       "      <td>10.000000</td>\n",
       "      <td>10.000000</td>\n",
       "    </tr>\n",
       "  </tbody>\n",
       "</table>\n",
       "</div>"
      ],
      "text/plain": [
       "               age       gender    education  neuroticism  extraversion  \\\n",
       "count  1413.000000  1413.000000  1413.000000  1413.000000   1413.000000   \n",
       "mean      2.331210     0.501062     5.997169    35.811748     39.617127   \n",
       "std       1.288155     0.500176     1.738171     9.063669      6.676874   \n",
       "min       1.000000     0.000000     1.000000    12.000000     16.000000   \n",
       "25%       1.000000     0.000000     5.000000    29.000000     36.000000   \n",
       "50%       2.000000     1.000000     6.000000    35.000000     40.000000   \n",
       "75%       3.000000     1.000000     7.000000    42.000000     44.000000   \n",
       "max       6.000000     1.000000     9.000000    60.000000     58.000000   \n",
       "\n",
       "          openness  agreeableness  conscientiousness  impulsiveness  \\\n",
       "count  1413.000000    1413.000000        1413.000000    1413.000000   \n",
       "mean     45.685067      42.836518          41.450814       4.791224   \n",
       "std       6.583999       6.315099           6.928808       2.121222   \n",
       "min      24.000000      12.000000          17.000000       1.000000   \n",
       "25%      41.000000      39.000000          37.000000       3.000000   \n",
       "50%      46.000000      43.000000          42.000000       4.000000   \n",
       "75%      51.000000      47.000000          46.000000       6.000000   \n",
       "max      60.000000      58.000000          57.000000      10.000000   \n",
       "\n",
       "         sensation  \n",
       "count  1413.000000  \n",
       "mean      6.145789  \n",
       "std       2.701899  \n",
       "min       1.000000  \n",
       "25%       4.000000  \n",
       "50%       6.000000  \n",
       "75%       8.000000  \n",
       "max      10.000000  "
      ]
     },
     "execution_count": 106,
     "metadata": {},
     "output_type": "execute_result"
    }
   ],
   "source": [
    "# # Summary of train data\n",
    "X_train.describe()"
   ]
  },
  {
   "cell_type": "code",
   "execution_count": 107,
   "metadata": {},
   "outputs": [
    {
     "data": {
      "text/plain": [
       "GradientBoostingClassifier(criterion='friedman_mse', init=None,\n",
       "              learning_rate=0.1, loss='deviance', max_depth=3,\n",
       "              max_features=None, max_leaf_nodes=None,\n",
       "              min_impurity_decrease=0.0, min_impurity_split=None,\n",
       "              min_samples_leaf=1, min_samples_split=2,\n",
       "              min_weight_fraction_leaf=0.0, n_estimators=100,\n",
       "              n_iter_no_change=None, presort='auto', random_state=None,\n",
       "              subsample=1.0, tol=0.0001, validation_fraction=0.1,\n",
       "              verbose=0, warm_start=False)"
      ]
     },
     "execution_count": 107,
     "metadata": {},
     "output_type": "execute_result"
    }
   ],
   "source": [
    "# use GradientBoostingClassifier to see which features are important\n",
    "\n",
    "model=GradientBoostingClassifier()\n",
    "model.fit(X_train, y_train)"
   ]
  },
  {
   "cell_type": "code",
   "execution_count": 108,
   "metadata": {},
   "outputs": [
    {
     "data": {
      "text/plain": [
       "array([0.09467169, 0.04862534, 0.10124373, 0.05397198, 0.10837731,\n",
       "       0.2669795 , 0.0415316 , 0.1585629 , 0.0360333 , 0.09000265])"
      ]
     },
     "execution_count": 108,
     "metadata": {},
     "output_type": "execute_result"
    }
   ],
   "source": [
    "model.feature_importances_"
   ]
  },
  {
   "cell_type": "code",
   "execution_count": 109,
   "metadata": {},
   "outputs": [
    {
     "data": {
      "text/html": [
       "<div>\n",
       "<style scoped>\n",
       "    .dataframe tbody tr th:only-of-type {\n",
       "        vertical-align: middle;\n",
       "    }\n",
       "\n",
       "    .dataframe tbody tr th {\n",
       "        vertical-align: top;\n",
       "    }\n",
       "\n",
       "    .dataframe thead th {\n",
       "        text-align: right;\n",
       "    }\n",
       "</style>\n",
       "<table border=\"1\" class=\"dataframe\">\n",
       "  <thead>\n",
       "    <tr style=\"text-align: right;\">\n",
       "      <th></th>\n",
       "      <th>importance</th>\n",
       "    </tr>\n",
       "  </thead>\n",
       "  <tbody>\n",
       "    <tr>\n",
       "      <th>openness</th>\n",
       "      <td>0.266979</td>\n",
       "    </tr>\n",
       "    <tr>\n",
       "      <th>conscientiousness</th>\n",
       "      <td>0.158563</td>\n",
       "    </tr>\n",
       "    <tr>\n",
       "      <th>extraversion</th>\n",
       "      <td>0.108377</td>\n",
       "    </tr>\n",
       "    <tr>\n",
       "      <th>education</th>\n",
       "      <td>0.101244</td>\n",
       "    </tr>\n",
       "    <tr>\n",
       "      <th>age</th>\n",
       "      <td>0.094672</td>\n",
       "    </tr>\n",
       "    <tr>\n",
       "      <th>sensation</th>\n",
       "      <td>0.090003</td>\n",
       "    </tr>\n",
       "    <tr>\n",
       "      <th>neuroticism</th>\n",
       "      <td>0.053972</td>\n",
       "    </tr>\n",
       "    <tr>\n",
       "      <th>gender</th>\n",
       "      <td>0.048625</td>\n",
       "    </tr>\n",
       "    <tr>\n",
       "      <th>agreeableness</th>\n",
       "      <td>0.041532</td>\n",
       "    </tr>\n",
       "    <tr>\n",
       "      <th>impulsiveness</th>\n",
       "      <td>0.036033</td>\n",
       "    </tr>\n",
       "  </tbody>\n",
       "</table>\n",
       "</div>"
      ],
      "text/plain": [
       "                   importance\n",
       "openness             0.266979\n",
       "conscientiousness    0.158563\n",
       "extraversion         0.108377\n",
       "education            0.101244\n",
       "age                  0.094672\n",
       "sensation            0.090003\n",
       "neuroticism          0.053972\n",
       "gender               0.048625\n",
       "agreeableness        0.041532\n",
       "impulsiveness        0.036033"
      ]
     },
     "execution_count": 109,
     "metadata": {},
     "output_type": "execute_result"
    }
   ],
   "source": [
    "FI=pd.DataFrame({'importance':model.feature_importances_},index=X_train.columns)\n",
    "FI.sort_values('importance',ascending=False)"
   ]
  },
  {
   "cell_type": "code",
   "execution_count": 110,
   "metadata": {},
   "outputs": [
    {
     "data": {
      "text/plain": [
       "Text(0.5, 1.0, 'Feature Importance')"
      ]
     },
     "execution_count": 110,
     "metadata": {},
     "output_type": "execute_result"
    },
    {
     "data": {
      "image/png": "[encoded data removed]",
      "text/plain": [
       "<Figure size 864x504 with 1 Axes>"
      ]
     },
     "metadata": {},
     "output_type": "display_data"
    }
   ],
   "source": [
    "FI.sort_values('importance',ascending=False).plot.bar(figsize=(12,7))\n",
    "plt.xticks(rotation=30)\n",
    "plt.title('Feature Importance',size='x-large')"
   ]
  },
  {
   "cell_type": "code",
   "execution_count": 111,
   "metadata": {},
   "outputs": [
    {
     "data": {
      "text/plain": [
       "<matplotlib.axes._subplots.AxesSubplot at 0x23fa7969ba8>"
      ]
     },
     "execution_count": 111,
     "metadata": {},
     "output_type": "execute_result"
    },
    {
     "data": {
      "image/png": "[encoded data removed]",
      "text/plain": [
       "<Figure size 864x864 with 2 Axes>"
      ]
     },
     "metadata": {},
     "output_type": "display_data"
    }
   ],
   "source": [
    "# Draw a Correlation heatmap for all the features\n",
    "colormap = plt.cm.viridis\n",
    "plt.figure(figsize=(12,12))\n",
    "plt.title('Correlation of Features', y=1.05, size=20)\n",
    "sns.heatmap(X_train[['age', 'gender', 'education',\n",
    "          'neuroticism', 'extraversion', \n",
    "          'openness', 'agreeableness',\n",
    "          'conscientiousness', 'impulsiveness', 'sensation']].astype(float).corr(),linewidths=0.1,vmax=1.0, square=True, cmap=colormap, linecolor='white', annot=True)"
   ]
  },
  {
   "cell_type": "code",
   "execution_count": null,
   "metadata": {},
   "outputs": [],
   "source": []
  }
 ],
 "metadata": {
  "kernelspec": {
   "display_name": "Python 3",
   "language": "python",
   "name": "python3"
  },
  "language_info": {
   "codemirror_mode": {
    "name": "ipython",
    "version": 3
   },
   "file_extension": ".py",
   "mimetype": "text/x-python",
   "name": "python",
   "nbconvert_exporter": "python",
   "pygments_lexer": "ipython3",
   "version": "3.6.7"
  }
 },
 "nbformat": 4,
 "nbformat_minor": 2
}
